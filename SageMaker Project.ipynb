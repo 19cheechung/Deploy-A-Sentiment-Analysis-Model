{
 "cells": [
  {
   "cell_type": "markdown",
   "metadata": {},
   "source": [
    "# Creating a Sentiment Analysis Web App\n",
    "## Using PyTorch and SageMaker\n",
    "\n",
    "_Deep Learning Nanodegree Program | Deployment_\n",
    "\n",
    "---\n",
    "\n",
    "Now that we have a basic understanding of how SageMaker works we will try to use it to construct a complete project from end to end. Our goal will be to have a simple web page which a user can use to enter a movie review. The web page will then send the review off to our deployed model which will predict the sentiment of the entered review.\n",
    "\n",
    "## Instructions\n",
    "\n",
    "Some template code has already been provided for you, and you will need to implement additional functionality to successfully complete this notebook. You will not need to modify the included code beyond what is requested. Sections that begin with '**TODO**' in the header indicate that you need to complete or implement some portion within them. Instructions will be provided for each section and the specifics of the implementation are marked in the code block with a `# TODO: ...` comment. Please be sure to read the instructions carefully!\n",
    "\n",
    "In addition to implementing code, there will be questions for you to answer which relate to the task and your implementation. Each section where you will answer a question is preceded by a '**Question:**' header. Carefully read each question and provide your answer below the '**Answer:**' header by editing the Markdown cell.\n",
    "\n",
    "> **Note**: Code and Markdown cells can be executed using the **Shift+Enter** keyboard shortcut. In addition, a cell can be edited by typically clicking it (double-click for Markdown cells) or by pressing **Enter** while it is highlighted.\n",
    "\n",
    "## General Outline\n",
    "\n",
    "Recall the general outline for SageMaker projects using a notebook instance.\n",
    "\n",
    "1. Download or otherwise retrieve the data.\n",
    "2. Process / Prepare the data.\n",
    "3. Upload the processed data to S3.\n",
    "4. Train a chosen model.\n",
    "5. Test the trained model (typically using a batch transform job).\n",
    "6. Deploy the trained model.\n",
    "7. Use the deployed model.\n",
    "\n",
    "For this project, you will be following the steps in the general outline with some modifications. \n",
    "\n",
    "First, you will not be testing the model in its own step. You will still be testing the model, however, you will do it by deploying your model and then using the deployed model by sending the test data to it. One of the reasons for doing this is so that you can make sure that your deployed model is working correctly before moving forward.\n",
    "\n",
    "In addition, you will deploy and use your trained model a second time. In the second iteration you will customize the way that your trained model is deployed by including some of your own code. In addition, your newly deployed model will be used in the sentiment analysis web app."
   ]
  },
  {
   "cell_type": "markdown",
   "metadata": {},
   "source": [
    "## Step 1: Downloading the data\n",
    "\n",
    "As in the XGBoost in SageMaker notebook, we will be using the [IMDb dataset](http://ai.stanford.edu/~amaas/data/sentiment/)\n",
    "\n",
    "> Maas, Andrew L., et al. [Learning Word Vectors for Sentiment Analysis](http://ai.stanford.edu/~amaas/data/sentiment/). In _Proceedings of the 49th Annual Meeting of the Association for Computational Linguistics: Human Language Technologies_. Association for Computational Linguistics, 2011."
   ]
  },
  {
   "cell_type": "code",
   "execution_count": 3,
   "metadata": {},
   "outputs": [
    {
     "name": "stdout",
     "output_type": "stream",
     "text": [
      "mkdir: cannot create directory ‘../data’: File exists\n",
      "--2020-01-03 06:08:00--  http://ai.stanford.edu/~amaas/data/sentiment/aclImdb_v1.tar.gz\n",
      "Resolving ai.stanford.edu (ai.stanford.edu)... 171.64.68.10\n",
      "Connecting to ai.stanford.edu (ai.stanford.edu)|171.64.68.10|:80... connected.\n",
      "HTTP request sent, awaiting response... 200 OK\n",
      "Length: 84125825 (80M) [application/x-gzip]\n",
      "Saving to: ‘../data/aclImdb_v1.tar.gz’\n",
      "\n",
      "../data/aclImdb_v1. 100%[===================>]  80.23M  6.72MB/s    in 16s     \n",
      "\n",
      "2020-01-03 06:08:18 (4.86 MB/s) - ‘../data/aclImdb_v1.tar.gz’ saved [84125825/84125825]\n",
      "\n"
     ]
    }
   ],
   "source": [
    "# First we will remove all of the files contained in the data_dir directory\n",
    "#!rm $data_dir/*\n",
    "\n",
    "# And then we delete the directory itself\n",
    "#!rmdir $data_dir\n",
    "\n",
    "# Similarly we remove the files in the cache_dir directory and the directory itself\n",
    "#!rm $cache_dir/*\n",
    "#!rmdir $cache_dir\n",
    "\n",
    "%mkdir ../data\n",
    "!wget -O ../data/aclImdb_v1.tar.gz http://ai.stanford.edu/~amaas/data/sentiment/aclImdb_v1.tar.gz\n",
    "!tar -zxf ../data/aclImdb_v1.tar.gz -C ../data"
   ]
  },
  {
   "cell_type": "markdown",
   "metadata": {},
   "source": [
    "## Step 2: Preparing and Processing the data\n",
    "\n",
    "Also, as in the XGBoost notebook, we will be doing some initial data processing. The first few steps are the same as in the XGBoost example. To begin with, we will read in each of the reviews and combine them into a single input structure. Then, we will split the dataset into a training set and a testing set."
   ]
  },
  {
   "cell_type": "code",
   "execution_count": 5,
   "metadata": {},
   "outputs": [],
   "source": [
    "import os\n",
    "import glob\n",
    "\n",
    "def read_imdb_data(data_dir='../data/aclImdb'):\n",
    "    data = {}\n",
    "    labels = {}\n",
    "    \n",
    "    for data_type in ['train', 'test']:\n",
    "        data[data_type] = {}\n",
    "        labels[data_type] = {}\n",
    "        \n",
    "        for sentiment in ['pos', 'neg']:\n",
    "            data[data_type][sentiment] = []\n",
    "            labels[data_type][sentiment] = []\n",
    "            \n",
    "            path = os.path.join(data_dir, data_type, sentiment, '*.txt')\n",
    "            files = glob.glob(path)\n",
    "            \n",
    "            for f in files:\n",
    "                with open(f) as review:\n",
    "                    data[data_type][sentiment].append(review.read())\n",
    "                    # Here we represent a positive review by '1' and a negative review by '0'\n",
    "                    labels[data_type][sentiment].append(1 if sentiment == 'pos' else 0)\n",
    "                    \n",
    "            assert len(data[data_type][sentiment]) == len(labels[data_type][sentiment]), \\\n",
    "                    \"{}/{} data size does not match labels size\".format(data_type, sentiment)\n",
    "                \n",
    "    return data, labels"
   ]
  },
  {
   "cell_type": "code",
   "execution_count": 6,
   "metadata": {},
   "outputs": [
    {
     "name": "stdout",
     "output_type": "stream",
     "text": [
      "IMDB reviews: train = 12500 pos / 12500 neg, test = 12500 pos / 12500 neg\n"
     ]
    }
   ],
   "source": [
    "data, labels = read_imdb_data()\n",
    "print(\"IMDB reviews: train = {} pos / {} neg, test = {} pos / {} neg\".format(\n",
    "            len(data['train']['pos']), len(data['train']['neg']),\n",
    "            len(data['test']['pos']), len(data['test']['neg'])))"
   ]
  },
  {
   "cell_type": "markdown",
   "metadata": {},
   "source": [
    "Now that we've read the raw training and testing data from the downloaded dataset, we will combine the positive and negative reviews and shuffle the resulting records."
   ]
  },
  {
   "cell_type": "code",
   "execution_count": 7,
   "metadata": {},
   "outputs": [],
   "source": [
    "from sklearn.utils import shuffle\n",
    "\n",
    "def prepare_imdb_data(data, labels):\n",
    "    \"\"\"Prepare training and test sets from IMDb movie reviews.\"\"\"\n",
    "    \n",
    "    #Combine positive and negative reviews and labels\n",
    "    data_train = data['train']['pos'] + data['train']['neg']\n",
    "    data_test = data['test']['pos'] + data['test']['neg']\n",
    "    labels_train = labels['train']['pos'] + labels['train']['neg']\n",
    "    labels_test = labels['test']['pos'] + labels['test']['neg']\n",
    "    \n",
    "    #Shuffle reviews and corresponding labels within training and test sets\n",
    "    data_train, labels_train = shuffle(data_train, labels_train)\n",
    "    data_test, labels_test = shuffle(data_test, labels_test)\n",
    "    \n",
    "    # Return a unified training data, test data, training labels, test labets\n",
    "    return data_train, data_test, labels_train, labels_test"
   ]
  },
  {
   "cell_type": "code",
   "execution_count": 8,
   "metadata": {},
   "outputs": [
    {
     "name": "stdout",
     "output_type": "stream",
     "text": [
      "IMDb reviews (combined): train = 25000, test = 25000\n"
     ]
    }
   ],
   "source": [
    "train_X, test_X, train_y, test_y = prepare_imdb_data(data, labels)\n",
    "print(\"IMDb reviews (combined): train = {}, test = {}\".format(len(train_X), len(test_X)))"
   ]
  },
  {
   "cell_type": "markdown",
   "metadata": {},
   "source": [
    "Now that we have our training and testing sets unified and prepared, we should do a quick check and see an example of the data our model will be trained on. This is generally a good idea as it allows you to see how each of the further processing steps affects the reviews and it also ensures that the data has been loaded correctly."
   ]
  },
  {
   "cell_type": "code",
   "execution_count": 9,
   "metadata": {},
   "outputs": [
    {
     "name": "stdout",
     "output_type": "stream",
     "text": [
      "This is one of my all time favorites. It is so simple and sweet - definitely a chick flick romantic comedy. I really like a film full of good quotes and this has it... one of my favorites is when Albert Einstein says to Ed Walters \"Are you thinking what I'm thinking\" and Ed says \"Now what are the odds of that happening!\" In my opinion, a film is fabulous if you can watch it again and again and get the same amount of enjoyment out of it, and with this one, you can!! I also really enjoyed Walter M.s way of portraying Einstein. I think all the characters fit together really well and the story flows nicely. There are so many times that I find myself smiling right along with the film and quoting my favorite lines as I watch it! I would recommend this movie to anyone who has a heart and enjoys a feel-good romantic comedy now and then!\n",
      "1\n"
     ]
    }
   ],
   "source": [
    "print(train_X[100])\n",
    "print(train_y[100])"
   ]
  },
  {
   "cell_type": "markdown",
   "metadata": {},
   "source": [
    "The first step in processing the reviews is to make sure that any html tags that appear should be removed. In addition we wish to tokenize our input, that way words such as *entertained* and *entertaining* are considered the same with regard to sentiment analysis."
   ]
  },
  {
   "cell_type": "code",
   "execution_count": 10,
   "metadata": {},
   "outputs": [],
   "source": [
    "import nltk\n",
    "from nltk.corpus import stopwords\n",
    "from nltk.stem.porter import *\n",
    "\n",
    "import re\n",
    "from bs4 import BeautifulSoup\n",
    "\n",
    "def review_to_words(review):\n",
    "    nltk.download(\"stopwords\", quiet=True)\n",
    "    stemmer = PorterStemmer()\n",
    "    \n",
    "    text = BeautifulSoup(review, \"html.parser\").get_text() # Remove HTML tags\n",
    "    text = re.sub(r\"[^a-zA-Z0-9]\", \" \", text.lower()) # Convert to lower case\n",
    "    words = text.split() # Split string into words\n",
    "    words = [w for w in words if w not in stopwords.words(\"english\")] # Remove stopwords\n",
    "    words = [PorterStemmer().stem(w) for w in words] # stem\n",
    "    \n",
    "    return words"
   ]
  },
  {
   "cell_type": "markdown",
   "metadata": {},
   "source": [
    "The `review_to_words` method defined above uses `BeautifulSoup` to remove any html tags that appear and uses the `nltk` package to tokenize the reviews. As a check to ensure we know how everything is working, try applying `review_to_words` to one of the reviews in the training set."
   ]
  },
  {
   "cell_type": "code",
   "execution_count": 11,
   "metadata": {},
   "outputs": [
    {
     "data": {
      "text/plain": [
       "['one',\n",
       " 'time',\n",
       " 'favorit',\n",
       " 'simpl',\n",
       " 'sweet',\n",
       " 'definit',\n",
       " 'chick',\n",
       " 'flick',\n",
       " 'romant',\n",
       " 'comedi',\n",
       " 'realli',\n",
       " 'like',\n",
       " 'film',\n",
       " 'full',\n",
       " 'good',\n",
       " 'quot',\n",
       " 'one',\n",
       " 'favorit',\n",
       " 'albert',\n",
       " 'einstein',\n",
       " 'say',\n",
       " 'ed',\n",
       " 'walter',\n",
       " 'think',\n",
       " 'think',\n",
       " 'ed',\n",
       " 'say',\n",
       " 'odd',\n",
       " 'happen',\n",
       " 'opinion',\n",
       " 'film',\n",
       " 'fabul',\n",
       " 'watch',\n",
       " 'get',\n",
       " 'amount',\n",
       " 'enjoy',\n",
       " 'one',\n",
       " 'also',\n",
       " 'realli',\n",
       " 'enjoy',\n",
       " 'walter',\n",
       " 'way',\n",
       " 'portray',\n",
       " 'einstein',\n",
       " 'think',\n",
       " 'charact',\n",
       " 'fit',\n",
       " 'togeth',\n",
       " 'realli',\n",
       " 'well',\n",
       " 'stori',\n",
       " 'flow',\n",
       " 'nice',\n",
       " 'mani',\n",
       " 'time',\n",
       " 'find',\n",
       " 'smile',\n",
       " 'right',\n",
       " 'along',\n",
       " 'film',\n",
       " 'quot',\n",
       " 'favorit',\n",
       " 'line',\n",
       " 'watch',\n",
       " 'would',\n",
       " 'recommend',\n",
       " 'movi',\n",
       " 'anyon',\n",
       " 'heart',\n",
       " 'enjoy',\n",
       " 'feel',\n",
       " 'good',\n",
       " 'romant',\n",
       " 'comedi']"
      ]
     },
     "execution_count": 11,
     "metadata": {},
     "output_type": "execute_result"
    }
   ],
   "source": [
    "# TODO: Apply review_to_words to a review (train_X[100] or any other review)\n",
    "review_to_words(train_X[100])"
   ]
  },
  {
   "cell_type": "markdown",
   "metadata": {},
   "source": [
    "**Question:** Above we mentioned that `review_to_words` method removes html formatting and allows us to tokenize the words found in a review, for example, converting *entertained* and *entertaining* into *entertain* so that they are treated as though they are the same word. What else, if anything, does this method do to the input?"
   ]
  },
  {
   "cell_type": "markdown",
   "metadata": {},
   "source": [
    "**Answer:** Change the input to lower cases, split string into words, remove stopwords, Strip affixes from the tokenized words and return the stem."
   ]
  },
  {
   "cell_type": "markdown",
   "metadata": {},
   "source": [
    "The method below applies the `review_to_words` method to each of the reviews in the training and testing datasets. In addition it caches the results. This is because performing this processing step can take a long time. This way if you are unable to complete the notebook in the current session, you can come back without needing to process the data a second time."
   ]
  },
  {
   "cell_type": "code",
   "execution_count": 12,
   "metadata": {},
   "outputs": [],
   "source": [
    "import pickle\n",
    "\n",
    "cache_dir = os.path.join(\"../cache\", \"sentiment_analysis\")  # where to store cache files\n",
    "os.makedirs(cache_dir, exist_ok=True)  # ensure cache directory exists\n",
    "\n",
    "def preprocess_data(data_train, data_test, labels_train, labels_test,\n",
    "                    cache_dir=cache_dir, cache_file=\"preprocessed_data.pkl\"):\n",
    "    \"\"\"Convert each review to words; read from cache if available.\"\"\"\n",
    "\n",
    "    # If cache_file is not None, try to read from it first\n",
    "    cache_data = None\n",
    "    if cache_file is not None:\n",
    "        try:\n",
    "            with open(os.path.join(cache_dir, cache_file), \"rb\") as f:\n",
    "                cache_data = pickle.load(f)\n",
    "            print(\"Read preprocessed data from cache file:\", cache_file)\n",
    "        except:\n",
    "            pass  # unable to read from cache, but that's okay\n",
    "    \n",
    "    # If cache is missing, then do the heavy lifting\n",
    "    if cache_data is None:\n",
    "        # Preprocess training and test data to obtain words for each review\n",
    "        #words_train = list(map(review_to_words, data_train))\n",
    "        #words_test = list(map(review_to_words, data_test))\n",
    "        words_train = [review_to_words(review) for review in data_train]\n",
    "        words_test = [review_to_words(review) for review in data_test]\n",
    "        \n",
    "        # Write to cache file for future runs\n",
    "        if cache_file is not None:\n",
    "            cache_data = dict(words_train=words_train, words_test=words_test,\n",
    "                              labels_train=labels_train, labels_test=labels_test)\n",
    "            with open(os.path.join(cache_dir, cache_file), \"wb\") as f:\n",
    "                pickle.dump(cache_data, f)\n",
    "            print(\"Wrote preprocessed data to cache file:\", cache_file)\n",
    "    else:\n",
    "        # Unpack data loaded from cache file\n",
    "        words_train, words_test, labels_train, labels_test = (cache_data['words_train'],\n",
    "                cache_data['words_test'], cache_data['labels_train'], cache_data['labels_test'])\n",
    "    \n",
    "    return words_train, words_test, labels_train, labels_test"
   ]
  },
  {
   "cell_type": "code",
   "execution_count": 13,
   "metadata": {},
   "outputs": [
    {
     "name": "stdout",
     "output_type": "stream",
     "text": [
      "Read preprocessed data from cache file: preprocessed_data.pkl\n"
     ]
    }
   ],
   "source": [
    "# Preprocess data\n",
    "train_X, test_X, train_y, test_y = preprocess_data(train_X, test_X, train_y, test_y)"
   ]
  },
  {
   "cell_type": "markdown",
   "metadata": {},
   "source": [
    "## Transform the data\n",
    "\n",
    "In the XGBoost notebook we transformed the data from its word representation to a bag-of-words feature representation. For the model we are going to construct in this notebook we will construct a feature representation which is very similar. To start, we will represent each word as an integer. Of course, some of the words that appear in the reviews occur very infrequently and so likely don't contain much information for the purposes of sentiment analysis. The way we will deal with this problem is that we will fix the size of our working vocabulary and we will only include the words that appear most frequently. We will then combine all of the infrequent words into a single category and, in our case, we will label it as `1`.\n",
    "\n",
    "Since we will be using a recurrent neural network, it will be convenient if the length of each review is the same. To do this, we will fix a size for our reviews and then pad short reviews with the category 'no word' (which we will label `0`) and truncate long reviews."
   ]
  },
  {
   "cell_type": "markdown",
   "metadata": {},
   "source": [
    "### (TODO) Create a word dictionary\n",
    "\n",
    "To begin with, we need to construct a way to map words that appear in the reviews to integers. Here we fix the size of our vocabulary (including the 'no word' and 'infrequent' categories) to be `5000` but you may wish to change this to see how it affects the model.\n",
    "\n",
    "> **TODO:** Complete the implementation for the `build_dict()` method below. Note that even though the vocab_size is set to `5000`, we only want to construct a mapping for the most frequently appearing `4998` words. This is because we want to reserve the special labels `0` for 'no word' and `1` for 'infrequent word'."
   ]
  },
  {
   "cell_type": "code",
   "execution_count": 14,
   "metadata": {},
   "outputs": [],
   "source": [
    "import numpy as np\n",
    "from sklearn.feature_extraction.text import CountVectorizer\n",
    "\n",
    "def build_dict(data, vocab_size = 5000):\n",
    "    \"\"\"Construct and return a dictionary mapping each of the most frequently appearing words to a unique integer.\"\"\"\n",
    "    \n",
    "    # TODO: Determine how often each word appears in `data`. Note that `data` is a list of sentences and that a\n",
    "    #       sentence is a list of words.\n",
    "    \n",
    "    word_count = {} # A dict storing the words that appear in the reviews along with how often they occur\n",
    "  #  vectorizer = CountVectorizer(max_features=vocab_size,\n",
    "   #             preprocessor=lambda x: x, tokenizer=lambda x: x)  # already preprocessed\n",
    "    #word_count = vectorizer.fit_transform(data).toarray()\n",
    "    \n",
    " #   for word in word_count:\n",
    "  #      if word in word_count:\n",
    "   #         word_count[word]+=1\n",
    "    #    else:\n",
    "     #       word_count[word] = 1\n",
    "            \n",
    "    for words in range(len(data)): \n",
    "        for word in data[words]: \n",
    "            if word in word_count: \n",
    "                word_count[word] += 1 \n",
    "            else: word_count[word] = 1\n",
    "\n",
    "\n",
    "    \n",
    "    # TODO: Sort the words found in `data` so that sorted_words[0] is the most frequently appearing word and\n",
    "    #       sorted_words[-1] is the least frequently appearing word.\n",
    " \n",
    "    sorted_words = None\n",
    "    \"\"\"https://stackoverflow.com/questions/613183/how-do-i-sort-a-dictionary-by-value\"\"\"\n",
    "    sorted_words = [item[0] for item in sorted(word_count.items(), key=lambda x: x[1], reverse=True)]\n",
    "        \n",
    "    word_dict = {} # This is what we are building, a dictionary that translates words into integers\n",
    "    for idx, word in enumerate(sorted_words[:vocab_size - 2]): # The -2 is so that we save room for the 'no word'\n",
    "        word_dict[word] = idx + 2                              # 'infrequent' labels\n",
    "        \n",
    "    return word_dict"
   ]
  },
  {
   "cell_type": "code",
   "execution_count": 15,
   "metadata": {},
   "outputs": [],
   "source": [
    "word_dict = build_dict(train_X)"
   ]
  },
  {
   "cell_type": "markdown",
   "metadata": {},
   "source": [
    "**Question:** What are the five most frequently appearing (tokenized) words in the training set? Does it makes sense that these words appear frequently in the training set?"
   ]
  },
  {
   "cell_type": "markdown",
   "metadata": {},
   "source": [
    "**Answer:**movi,  film, one, like, time are most frequently appearing words. Yes they made sense as these words are commonly used to form sentences for review and describe the story telling of the movie. "
   ]
  },
  {
   "cell_type": "code",
   "execution_count": 16,
   "metadata": {},
   "outputs": [
    {
     "name": "stdout",
     "output_type": "stream",
     "text": [
      "{'movi': 2, 'film': 3, 'one': 4, 'like': 5, 'time': 6, 'good': 7, 'make': 8, 'charact': 9, 'get': 10, 'see': 11, 'watch': 12, 'stori': 13, 'even': 14, 'would': 15, 'realli': 16, 'well': 17, 'scene': 18, 'look': 19, 'show': 20, 'much': 21, 'end': 22, 'peopl': 23, 'bad': 24, 'go': 25, 'great': 26, 'also': 27, 'first': 28, 'love': 29, 'think': 30, 'way': 31, 'act': 32, 'play': 33, 'made': 34, 'thing': 35, 'could': 36, 'know': 37, 'say': 38, 'seem': 39, 'work': 40, 'plot': 41, 'two': 42, 'actor': 43, 'year': 44, 'come': 45, 'mani': 46, 'seen': 47, 'take': 48, 'life': 49, 'want': 50, 'never': 51, 'littl': 52, 'best': 53, 'tri': 54, 'man': 55, 'ever': 56, 'give': 57, 'better': 58, 'still': 59, 'perform': 60, 'find': 61, 'feel': 62, 'part': 63, 'back': 64, 'use': 65, 'someth': 66, 'director': 67, 'actual': 68, 'interest': 69, 'lot': 70, 'real': 71, 'old': 72, 'cast': 73, 'though': 74, 'live': 75, 'star': 76, 'enjoy': 77, 'guy': 78, 'anoth': 79, 'new': 80, 'role': 81, 'noth': 82, '10': 83, 'funni': 84, 'music': 85, 'point': 86, 'start': 87, 'set': 88, 'girl': 89, 'origin': 90, 'day': 91, 'world': 92, 'everi': 93, 'believ': 94, 'turn': 95, 'quit': 96, 'direct': 97, 'us': 98, 'thought': 99, 'fact': 100, 'minut': 101, 'horror': 102, 'kill': 103, 'action': 104, 'comedi': 105, 'pretti': 106, 'young': 107, 'wonder': 108, 'happen': 109, 'around': 110, 'got': 111, 'effect': 112, 'right': 113, 'long': 114, 'howev': 115, 'big': 116, 'line': 117, 'famili': 118, 'enough': 119, 'seri': 120, 'may': 121, 'need': 122, 'fan': 123, 'bit': 124, 'script': 125, 'beauti': 126, 'person': 127, 'becom': 128, 'without': 129, 'must': 130, 'alway': 131, 'friend': 132, 'tell': 133, 'reason': 134, 'saw': 135, 'last': 136, 'final': 137, 'kid': 138, 'almost': 139, 'put': 140, 'least': 141, 'sure': 142, 'done': 143, 'whole': 144, 'place': 145, 'complet': 146, 'kind': 147, 'expect': 148, 'differ': 149, 'shot': 150, 'far': 151, 'mean': 152, 'anyth': 153, 'book': 154, 'laugh': 155, 'might': 156, 'name': 157, 'sinc': 158, 'begin': 159, '2': 160, 'probabl': 161, 'woman': 162, 'help': 163, 'entertain': 164, 'let': 165, 'screen': 166, 'call': 167, 'tv': 168, 'moment': 169, 'away': 170, 'read': 171, 'yet': 172, 'rather': 173, 'worst': 174, 'run': 175, 'fun': 176, 'lead': 177, 'hard': 178, 'audienc': 179, 'idea': 180, 'anyon': 181, 'episod': 182, 'american': 183, 'found': 184, 'appear': 185, 'bore': 186, 'especi': 187, 'although': 188, 'hope': 189, 'cours': 190, 'keep': 191, 'anim': 192, 'job': 193, 'goe': 194, 'move': 195, 'sens': 196, 'dvd': 197, 'version': 198, 'war': 199, 'money': 200, 'someon': 201, 'mind': 202, 'mayb': 203, 'problem': 204, 'true': 205, 'hous': 206, 'everyth': 207, 'nice': 208, 'second': 209, 'rate': 210, 'three': 211, 'night': 212, 'follow': 213, 'face': 214, 'recommend': 215, 'product': 216, 'main': 217, 'worth': 218, 'leav': 219, 'human': 220, 'special': 221, 'excel': 222, 'togeth': 223, 'wast': 224, 'everyon': 225, 'sound': 226, 'john': 227, 'hand': 228, '1': 229, 'father': 230, 'later': 231, 'eye': 232, 'said': 233, 'view': 234, 'instead': 235, 'review': 236, 'boy': 237, 'high': 238, 'hour': 239, 'miss': 240, 'classic': 241, 'talk': 242, 'wife': 243, 'understand': 244, 'left': 245, 'care': 246, 'black': 247, 'death': 248, 'open': 249, 'murder': 250, 'write': 251, 'half': 252, 'head': 253, 'rememb': 254, 'chang': 255, 'viewer': 256, 'fight': 257, 'gener': 258, 'surpris': 259, 'includ': 260, 'short': 261, 'die': 262, 'fall': 263, 'less': 264, 'els': 265, 'entir': 266, 'piec': 267, 'involv': 268, 'pictur': 269, 'simpli': 270, 'power': 271, 'home': 272, 'top': 273, 'total': 274, 'usual': 275, 'budget': 276, 'attempt': 277, 'suppos': 278, 'releas': 279, 'hollywood': 280, 'terribl': 281, 'song': 282, 'men': 283, 'possibl': 284, 'featur': 285, 'portray': 286, 'disappoint': 287, 'poor': 288, '3': 289, 'coupl': 290, 'stupid': 291, 'camera': 292, 'dead': 293, 'wrong': 294, 'produc': 295, 'low': 296, 'video': 297, 'either': 298, 'aw': 299, 'definit': 300, 'except': 301, 'rest': 302, 'given': 303, 'absolut': 304, 'women': 305, 'lack': 306, 'word': 307, 'writer': 308, 'titl': 309, 'talent': 310, 'decid': 311, 'full': 312, 'perfect': 313, 'along': 314, 'style': 315, 'close': 316, 'truli': 317, 'school': 318, 'save': 319, 'emot': 320, 'sex': 321, 'age': 322, 'next': 323, 'bring': 324, 'mr': 325, 'case': 326, 'killer': 327, 'heart': 328, 'comment': 329, 'sort': 330, 'creat': 331, 'perhap': 332, 'came': 333, 'brother': 334, 'sever': 335, 'joke': 336, 'art': 337, 'dialogu': 338, 'game': 339, 'small': 340, 'base': 341, 'flick': 342, 'written': 343, 'sequenc': 344, 'meet': 345, 'earli': 346, 'often': 347, 'other': 348, 'mother': 349, 'develop': 350, 'humor': 351, 'actress': 352, 'consid': 353, 'dark': 354, 'guess': 355, 'amaz': 356, 'unfortun': 357, 'light': 358, 'lost': 359, 'exampl': 360, 'cinema': 361, 'drama': 362, 'ye': 363, 'white': 364, 'experi': 365, 'imagin': 366, 'mention': 367, 'stop': 368, 'natur': 369, 'forc': 370, 'manag': 371, 'felt': 372, 'cut': 373, 'present': 374, 'children': 375, 'fail': 376, 'son': 377, 'support': 378, 'qualiti': 379, 'car': 380, 'ask': 381, 'hit': 382, 'side': 383, 'voic': 384, 'extrem': 385, 'impress': 386, 'wors': 387, 'evil': 388, 'went': 389, 'stand': 390, 'certainli': 391, 'basic': 392, 'oh': 393, 'overal': 394, 'favorit': 395, 'horribl': 396, 'mysteri': 397, 'number': 398, 'type': 399, 'danc': 400, 'wait': 401, 'hero': 402, 'alreadi': 403, '5': 404, 'learn': 405, 'matter': 406, '4': 407, 'michael': 408, 'genr': 409, 'fine': 410, 'despit': 411, 'throughout': 412, 'walk': 413, 'success': 414, 'histori': 415, 'question': 416, 'zombi': 417, 'town': 418, 'realiz': 419, 'relationship': 420, 'past': 421, 'child': 422, 'daughter': 423, 'late': 424, 'b': 425, 'wish': 426, 'credit': 427, 'hate': 428, 'event': 429, 'theme': 430, 'touch': 431, 'citi': 432, 'today': 433, 'sometim': 434, 'behind': 435, 'god': 436, 'twist': 437, 'sit': 438, 'stay': 439, 'annoy': 440, 'deal': 441, 'abl': 442, 'rent': 443, 'pleas': 444, 'edit': 445, 'blood': 446, 'deserv': 447, 'anyway': 448, 'comic': 449, 'appar': 450, 'soon': 451, 'gave': 452, 'etc': 453, 'level': 454, 'slow': 455, 'chanc': 456, 'score': 457, 'bodi': 458, 'brilliant': 459, 'incred': 460, 'figur': 461, 'situat': 462, 'self': 463, 'major': 464, 'stuff': 465, 'decent': 466, 'element': 467, 'return': 468, 'dream': 469, 'obvious': 470, 'order': 471, 'continu': 472, 'pace': 473, 'ridicul': 474, 'happi': 475, 'add': 476, 'highli': 477, 'group': 478, 'thank': 479, 'ladi': 480, 'novel': 481, 'pain': 482, 'speak': 483, 'career': 484, 'shoot': 485, 'strang': 486, 'heard': 487, 'sad': 488, 'husband': 489, 'polic': 490, 'import': 491, 'break': 492, 'took': 493, 'strong': 494, 'cannot': 495, 'robert': 496, 'predict': 497, 'violenc': 498, 'hilari': 499, 'recent': 500, 'countri': 501, 'known': 502, 'particularli': 503, 'pick': 504, 'documentari': 505, 'season': 506, 'critic': 507, 'jame': 508, 'compar': 509, 'obviou': 510, 'alon': 511, 'told': 512, 'state': 513, 'visual': 514, 'rock': 515, 'offer': 516, 'theater': 517, 'exist': 518, 'opinion': 519, 'gore': 520, 'hold': 521, 'crap': 522, 'result': 523, 'realiti': 524, 'hear': 525, 'room': 526, 'effort': 527, 'clich': 528, 'thriller': 529, 'caus': 530, 'explain': 531, 'sequel': 532, 'serious': 533, 'king': 534, 'local': 535, 'ago': 536, 'none': 537, 'hell': 538, 'note': 539, 'allow': 540, 'sister': 541, 'david': 542, 'simpl': 543, 'femal': 544, 'deliv': 545, 'ok': 546, 'class': 547, 'convinc': 548, 'check': 549, 'suspens': 550, 'win': 551, 'buy': 552, 'oscar': 553, 'huge': 554, 'valu': 555, 'sexual': 556, 'scari': 557, 'cool': 558, 'similar': 559, 'excit': 560, 'exactli': 561, 'provid': 562, 'apart': 563, 'avoid': 564, 'shown': 565, 'seriou': 566, 'english': 567, 'taken': 568, 'whose': 569, 'cinematographi': 570, 'shock': 571, 'polit': 572, 'spoiler': 573, 'offic': 574, 'across': 575, 'middl': 576, 'pass': 577, 'street': 578, 'messag': 579, 'somewhat': 580, 'silli': 581, 'charm': 582, 'modern': 583, 'filmmak': 584, 'confus': 585, 'form': 586, 'tale': 587, 'singl': 588, 'jack': 589, 'mostli': 590, 'william': 591, 'carri': 592, 'attent': 593, 'sing': 594, 'five': 595, 'subject': 596, 'richard': 597, 'prove': 598, 'stage': 599, 'team': 600, 'cop': 601, 'unlik': 602, 'georg': 603, 'televis': 604, 'monster': 605, 'earth': 606, 'villain': 607, 'cover': 608, 'pay': 609, 'marri': 610, 'toward': 611, 'build': 612, 'pull': 613, 'parent': 614, 'due': 615, 'respect': 616, 'fill': 617, 'four': 618, 'dialog': 619, 'remind': 620, 'futur': 621, 'typic': 622, 'weak': 623, '7': 624, 'cheap': 625, 'intellig': 626, 'atmospher': 627, 'british': 628, 'clearli': 629, '80': 630, 'dog': 631, 'paul': 632, 'non': 633, 'knew': 634, '8': 635, 'artist': 636, 'fast': 637, 'crime': 638, 'easili': 639, 'escap': 640, 'adult': 641, 'doubt': 642, 'detail': 643, 'date': 644, 'fire': 645, 'romant': 646, 'member': 647, 'drive': 648, 'gun': 649, 'straight': 650, 'beyond': 651, 'fit': 652, 'attack': 653, 'imag': 654, 'upon': 655, 'posit': 656, 'whether': 657, 'fantast': 658, 'peter': 659, 'appreci': 660, 'aspect': 661, 'captur': 662, 'ten': 663, 'plan': 664, 'discov': 665, 'remain': 666, 'near': 667, 'period': 668, 'realist': 669, 'air': 670, 'mark': 671, 'red': 672, 'dull': 673, 'adapt': 674, 'within': 675, 'lose': 676, 'spend': 677, 'color': 678, 'materi': 679, 'chase': 680, 'mari': 681, 'storylin': 682, 'forget': 683, 'bunch': 684, 'clear': 685, 'lee': 686, 'victim': 687, 'nearli': 688, 'box': 689, 'york': 690, 'inspir': 691, 'match': 692, 'finish': 693, 'mess': 694, 'standard': 695, 'easi': 696, 'truth': 697, 'suffer': 698, 'busi': 699, 'dramat': 700, 'bill': 701, 'space': 702, 'western': 703, 'e': 704, 'list': 705, 'battl': 706, 'notic': 707, 'de': 708, 'french': 709, 'ad': 710, '9': 711, 'tom': 712, 'larg': 713, 'among': 714, 'eventu': 715, 'accept': 716, 'train': 717, 'agre': 718, 'spirit': 719, 'soundtrack': 720, 'third': 721, 'teenag': 722, 'adventur': 723, 'soldier': 724, 'suggest': 725, 'drug': 726, 'sorri': 727, 'famou': 728, 'babi': 729, 'cri': 730, 'normal': 731, 'troubl': 732, 'ultim': 733, 'contain': 734, 'certain': 735, 'cultur': 736, 'romanc': 737, 'rare': 738, 'lame': 739, 'somehow': 740, 'disney': 741, 'mix': 742, 'gone': 743, 'cartoon': 744, 'student': 745, 'fear': 746, 'reveal': 747, 'kept': 748, 'suck': 749, 'attract': 750, 'appeal': 751, 'premis': 752, 'greatest': 753, 'secret': 754, 'design': 755, 'shame': 756, 'throw': 757, 'scare': 758, 'copi': 759, 'wit': 760, 'admit': 761, 'america': 762, 'particular': 763, 'relat': 764, 'brought': 765, 'screenplay': 766, 'whatev': 767, 'pure': 768, '70': 769, 'harri': 770, 'averag': 771, 'master': 772, 'describ': 773, 'treat': 774, 'male': 775, '20': 776, 'issu': 777, 'fantasi': 778, 'warn': 779, 'inde': 780, 'background': 781, 'forward': 782, 'free': 783, 'project': 784, 'japanes': 785, 'memor': 786, 'poorli': 787, 'award': 788, 'locat': 789, 'amus': 790, 'potenti': 791, 'struggl': 792, 'magic': 793, 'weird': 794, 'societi': 795, 'okay': 796, 'imdb': 797, 'accent': 798, 'doctor': 799, 'hot': 800, 'water': 801, '30': 802, 'express': 803, 'alien': 804, 'dr': 805, 'odd': 806, 'crazi': 807, 'choic': 808, 'fiction': 809, 'studio': 810, 'becam': 811, 'control': 812, 'masterpiec': 813, 'difficult': 814, 'fli': 815, 'joe': 816, 'scream': 817, 'costum': 818, 'lover': 819, 'refer': 820, 'uniqu': 821, 'remak': 822, 'girlfriend': 823, 'vampir': 824, 'prison': 825, 'execut': 826, 'wear': 827, 'jump': 828, 'wood': 829, 'unless': 830, 'creepi': 831, 'cheesi': 832, 'superb': 833, 'otherwis': 834, 'parti': 835, 'roll': 836, 'ghost': 837, 'public': 838, 'mad': 839, 'depict': 840, 'moral': 841, 'week': 842, 'badli': 843, 'earlier': 844, 'jane': 845, 'dumb': 846, 'fi': 847, 'grow': 848, 'flaw': 849, 'deep': 850, 'sci': 851, 'maker': 852, 'cat': 853, 'footag': 854, 'older': 855, 'connect': 856, 'bother': 857, 'plenti': 858, 'outsid': 859, 'stick': 860, 'gay': 861, 'catch': 862, 'co': 863, 'plu': 864, 'popular': 865, 'equal': 866, 'social': 867, 'quickli': 868, 'disturb': 869, 'perfectli': 870, 'dress': 871, '90': 872, 'era': 873, 'mistak': 874, 'lie': 875, 'ride': 876, 'previou': 877, 'combin': 878, 'concept': 879, 'band': 880, 'surviv': 881, 'rich': 882, 'answer': 883, 'front': 884, 'christma': 885, 'sweet': 886, 'insid': 887, 'bare': 888, 'eat': 889, 'concern': 890, 'beat': 891, 'listen': 892, 'ben': 893, 'c': 894, 'serv': 895, 'term': 896, 'meant': 897, 'german': 898, 'la': 899, 'stereotyp': 900, 'hardli': 901, 'innoc': 902, 'law': 903, 'desper': 904, 'memori': 905, 'promis': 906, 'cute': 907, 'intent': 908, 'inform': 909, 'steal': 910, 'variou': 911, 'brain': 912, 'post': 913, 'tone': 914, 'island': 915, 'amount': 916, 'track': 917, 'compani': 918, 'nuditi': 919, 'store': 920, 'claim': 921, 'flat': 922, '50': 923, 'hair': 924, 'univers': 925, 'land': 926, 'danger': 927, 'kick': 928, 'fairli': 929, 'scott': 930, 'player': 931, 'crew': 932, 'step': 933, 'plain': 934, 'toni': 935, 'share': 936, 'centuri': 937, 'tast': 938, 'engag': 939, 'achiev': 940, 'cold': 941, 'travel': 942, 'suit': 943, 'record': 944, 'rip': 945, 'manner': 946, 'sadli': 947, 'wrote': 948, 'tension': 949, 'spot': 950, 'fascin': 951, 'intens': 952, 'familiar': 953, 'burn': 954, 'remark': 955, 'depth': 956, 'histor': 957, 'destroy': 958, 'sleep': 959, 'purpos': 960, 'languag': 961, 'ignor': 962, 'ruin': 963, 'delight': 964, 'unbeliev': 965, 'italian': 966, 'collect': 967, 'soul': 968, 'abil': 969, 'clever': 970, 'detect': 971, 'violent': 972, 'rape': 973, 'reach': 974, 'door': 975, 'liter': 976, 'scienc': 977, 'trash': 978, 'commun': 979, 'reveng': 980, 'caught': 981, 'creatur': 982, 'trip': 983, 'approach': 984, 'intrigu': 985, 'fashion': 986, 'skill': 987, 'paint': 988, 'introduc': 989, 'channel': 990, 'complex': 991, 'camp': 992, 'christian': 993, 'hole': 994, 'extra': 995, 'mental': 996, 'immedi': 997, 'limit': 998, 'ann': 999, 'slightli': 1000, 'mere': 1001, 'comput': 1002, '6': 1003, 'million': 1004, 'slasher': 1005, 'conclus': 1006, 'imposs': 1007, 'suddenli': 1008, 'neither': 1009, 'crimin': 1010, 'teen': 1011, 'physic': 1012, 'spent': 1013, 'nation': 1014, 'respons': 1015, 'planet': 1016, 'fake': 1017, 'receiv': 1018, 'sick': 1019, 'blue': 1020, 'bizarr': 1021, 'embarrass': 1022, 'indian': 1023, 'ring': 1024, '15': 1025, 'drop': 1026, 'pop': 1027, 'drag': 1028, 'haunt': 1029, 'pointless': 1030, 'suspect': 1031, 'edg': 1032, 'search': 1033, 'handl': 1034, 'common': 1035, 'biggest': 1036, 'arriv': 1037, 'hurt': 1038, 'faith': 1039, 'technic': 1040, 'angel': 1041, 'dad': 1042, 'genuin': 1043, 'awesom': 1044, 'f': 1045, 'solid': 1046, 'colleg': 1047, 'focu': 1048, 'former': 1049, 'van': 1050, 'count': 1051, 'tear': 1052, 'heavi': 1053, 'rais': 1054, 'wall': 1055, 'younger': 1056, 'laughabl': 1057, 'visit': 1058, 'sign': 1059, 'excus': 1060, 'fair': 1061, 'cult': 1062, 'key': 1063, 'tough': 1064, 'motion': 1065, 'super': 1066, 'desir': 1067, 'stun': 1068, 'addit': 1069, 'cloth': 1070, 'exploit': 1071, 'tortur': 1072, 'smith': 1073, 'race': 1074, 'davi': 1075, 'cross': 1076, 'author': 1077, 'jim': 1078, 'minor': 1079, 'focus': 1080, 'consist': 1081, 'compel': 1082, 'commit': 1083, 'chemistri': 1084, 'pathet': 1085, 'park': 1086, 'tradit': 1087, 'frank': 1088, 'obsess': 1089, 'grade': 1090, 'asid': 1091, '60': 1092, 'brutal': 1093, 'steve': 1094, 'somewher': 1095, 'grant': 1096, 'explor': 1097, 'depress': 1098, 'opportun': 1099, 'u': 1100, 'rule': 1101, 'honest': 1102, 'besid': 1103, 'anti': 1104, 'dub': 1105, 'intend': 1106, 'trailer': 1107, 'bar': 1108, 'longer': 1109, 'west': 1110, 'scientist': 1111, 'regard': 1112, 'judg': 1113, 'decad': 1114, 'silent': 1115, 'armi': 1116, 'creativ': 1117, 'wild': 1118, 'stewart': 1119, 'south': 1120, 'g': 1121, 'draw': 1122, 'road': 1123, 'govern': 1124, 'ex': 1125, 'boss': 1126, 'practic': 1127, 'festiv': 1128, 'club': 1129, 'surprisingli': 1130, 'motiv': 1131, 'gang': 1132, 'london': 1133, 'green': 1134, 'redeem': 1135, 'page': 1136, 'aliv': 1137, 'idiot': 1138, 'display': 1139, 'militari': 1140, 'machin': 1141, 'thrill': 1142, 'repeat': 1143, 'nobodi': 1144, 'folk': 1145, '100': 1146, 'yeah': 1147, '40': 1148, 'garbag': 1149, 'journey': 1150, 'smile': 1151, 'tire': 1152, 'ground': 1153, 'mood': 1154, 'bought': 1155, 'stone': 1156, 'sam': 1157, 'cost': 1158, 'mouth': 1159, 'noir': 1160, 'terrif': 1161, 'agent': 1162, 'requir': 1163, 'utterli': 1164, 'area': 1165, 'honestli': 1166, 'sexi': 1167, 'report': 1168, 'geniu': 1169, 'humour': 1170, 'investig': 1171, 'enter': 1172, 'glad': 1173, 'serial': 1174, 'passion': 1175, 'occasion': 1176, 'narr': 1177, 'marriag': 1178, 'climax': 1179, 'studi': 1180, 'industri': 1181, 'nowher': 1182, 'center': 1183, 'ship': 1184, 'demon': 1185, 'charli': 1186, 'loos': 1187, 'hors': 1188, 'bear': 1189, 'wow': 1190, 'hang': 1191, 'graphic': 1192, 'admir': 1193, 'giant': 1194, 'send': 1195, 'damn': 1196, 'loud': 1197, 'subtl': 1198, 'rel': 1199, 'nake': 1200, 'profession': 1201, 'blow': 1202, 'bottom': 1203, 'insult': 1204, 'batman': 1205, 'boyfriend': 1206, 'kelli': 1207, 'doubl': 1208, 'r': 1209, 'initi': 1210, 'frame': 1211, 'gem': 1212, 'opera': 1213, 'drawn': 1214, 'cinemat': 1215, 'church': 1216, 'affect': 1217, 'challeng': 1218, 'fulli': 1219, 'l': 1220, 'evid': 1221, 'seek': 1222, 'nightmar': 1223, 'j': 1224, 'arm': 1225, 'essenti': 1226, 'conflict': 1227, 'henri': 1228, 'grace': 1229, 'wind': 1230, 'christoph': 1231, 'narrat': 1232, 'assum': 1233, 'witch': 1234, 'push': 1235, 'hunt': 1236, 'chri': 1237, 'wise': 1238, 'nomin': 1239, 'month': 1240, 'repres': 1241, 'affair': 1242, 'sceneri': 1243, 'avail': 1244, 'hide': 1245, 'thu': 1246, 'bond': 1247, 'smart': 1248, 'justic': 1249, 'flashback': 1250, 'interview': 1251, 'outstand': 1252, 'satisfi': 1253, 'constantli': 1254, 'presenc': 1255, 'central': 1256, 'bed': 1257, 'iron': 1258, 'content': 1259, 'sell': 1260, 'everybodi': 1261, 'gag': 1262, 'slowli': 1263, 'hotel': 1264, 'hire': 1265, 'system': 1266, 'individu': 1267, 'thrown': 1268, 'charl': 1269, 'hey': 1270, 'adam': 1271, 'jone': 1272, 'allen': 1273, 'mediocr': 1274, 'billi': 1275, 'lesson': 1276, 'ray': 1277, 'photographi': 1278, 'cameo': 1279, 'pari': 1280, 'fellow': 1281, 'strike': 1282, 'absurd': 1283, 'independ': 1284, 'rise': 1285, 'brief': 1286, 'neg': 1287, 'impact': 1288, 'phone': 1289, 'ill': 1290, 'model': 1291, 'born': 1292, 'spoil': 1293, 'fresh': 1294, 'angl': 1295, 'likabl': 1296, 'abus': 1297, 'hill': 1298, 'discuss': 1299, 'ahead': 1300, 'sight': 1301, 'photograph': 1302, 'sent': 1303, 'logic': 1304, 'occur': 1305, 'blame': 1306, 'shine': 1307, 'mainli': 1308, 'bruce': 1309, 'commerci': 1310, 'skip': 1311, 'forev': 1312, 'surround': 1313, 'teacher': 1314, 'segment': 1315, 'held': 1316, 'zero': 1317, 'blond': 1318, 'trap': 1319, 'satir': 1320, 'summer': 1321, 'resembl': 1322, 'queen': 1323, 'six': 1324, 'fool': 1325, 'ball': 1326, 'twice': 1327, 'tragedi': 1328, 'sub': 1329, 'reaction': 1330, 'pack': 1331, 'bomb': 1332, 'protagonist': 1333, 'hospit': 1334, 'will': 1335, 'mile': 1336, 'sport': 1337, 'jerri': 1338, 'vote': 1339, 'trust': 1340, 'mom': 1341, 'drink': 1342, 'encount': 1343, 'plane': 1344, 'al': 1345, 'current': 1346, 'station': 1347, 'program': 1348, 'celebr': 1349, 'martin': 1350, 'choos': 1351, 'join': 1352, 'tragic': 1353, 'lord': 1354, 'field': 1355, 'round': 1356, 'favourit': 1357, 'jean': 1358, 'robot': 1359, 'vision': 1360, 'tie': 1361, 'arthur': 1362, 'fortun': 1363, 'random': 1364, 'roger': 1365, 'psycholog': 1366, 'intern': 1367, 'dread': 1368, 'epic': 1369, 'prefer': 1370, 'nonsens': 1371, 'improv': 1372, 'highlight': 1373, 'pleasur': 1374, 'formula': 1375, 'legend': 1376, 'dollar': 1377, 'tape': 1378, '11': 1379, 'fox': 1380, 'gorgeou': 1381, 'thin': 1382, 'wide': 1383, 'porn': 1384, 'object': 1385, 'influenc': 1386, 'ugli': 1387, 'buddi': 1388, 'nasti': 1389, 'prepar': 1390, 'ii': 1391, 'warm': 1392, 'reflect': 1393, 'supposedli': 1394, 'progress': 1395, 'worthi': 1396, 'youth': 1397, 'length': 1398, 'unusu': 1399, 'latter': 1400, 'crash': 1401, 'childhood': 1402, 'seven': 1403, 'superior': 1404, 'shop': 1405, 'remot': 1406, 'theatr': 1407, 'paid': 1408, 'pilot': 1409, 'funniest': 1410, 'disgust': 1411, 'fell': 1412, 'convers': 1413, 'trick': 1414, 'castl': 1415, 'gangster': 1416, 'establish': 1417, 'disast': 1418, 'rob': 1419, 'mine': 1420, 'suicid': 1421, 'disappear': 1422, 'ident': 1423, 'heaven': 1424, 'forgotten': 1425, 'tend': 1426, 'decis': 1427, 'heroin': 1428, 'singer': 1429, 'mask': 1430, 'brian': 1431, 'partner': 1432, 'recogn': 1433, 'alan': 1434, 'desert': 1435, 'p': 1436, 'thoroughli': 1437, 'ms': 1438, 'stuck': 1439, 'sky': 1440, 'replac': 1441, 'accur': 1442, 'market': 1443, 'seemingli': 1444, 'commentari': 1445, 'eddi': 1446, 'andi': 1447, 'uncl': 1448, 'danni': 1449, 'clue': 1450, 'devil': 1451, 'jackson': 1452, 'pair': 1453, 'refus': 1454, 'therefor': 1455, 'that': 1456, 'river': 1457, 'unit': 1458, 'ed': 1459, 'fate': 1460, 'accid': 1461, 'fault': 1462, 'tune': 1463, 'afraid': 1464, 'russian': 1465, 'clean': 1466, 'hidden': 1467, 'stephen': 1468, 'test': 1469, 'readi': 1470, 'quick': 1471, 'captain': 1472, 'irrit': 1473, 'instanc': 1474, 'convey': 1475, 'european': 1476, 'insan': 1477, 'daniel': 1478, 'frustrat': 1479, 'rescu': 1480, 'food': 1481, 'chines': 1482, 'wed': 1483, '1950': 1484, 'dirti': 1485, 'angri': 1486, 'lock': 1487, 'joy': 1488, 'price': 1489, 'steven': 1490, 'cage': 1491, 'bland': 1492, 'rang': 1493, 'anymor': 1494, 'wooden': 1495, 'rush': 1496, 'n': 1497, 'news': 1498, 'jason': 1499, 'worri': 1500, '12': 1501, 'board': 1502, 'twenti': 1503, 'martial': 1504, 'led': 1505, 'transform': 1506, 'cgi': 1507, 'hunter': 1508, 'symbol': 1509, 'sentiment': 1510, 'x': 1511, 'invent': 1512, 'onto': 1513, 'piti': 1514, 'johnni': 1515, 'explan': 1516, 'attitud': 1517, 'process': 1518, 'owner': 1519, 'awar': 1520, 'aim': 1521, 'floor': 1522, 'energi': 1523, 'target': 1524, 'necessari': 1525, 'favor': 1526, 'religi': 1527, 'opposit': 1528, 'chick': 1529, 'window': 1530, 'blind': 1531, 'insight': 1532, 'movement': 1533, 'comparison': 1534, 'research': 1535, 'mountain': 1536, 'deepli': 1537, 'possess': 1538, 'rain': 1539, 'grand': 1540, 'comed': 1541, 'whatsoev': 1542, 'began': 1543, 'shadow': 1544, 'mid': 1545, 'bank': 1546, 'parodi': 1547, 'princ': 1548, 'pre': 1549, 'weapon': 1550, 'friendship': 1551, 'taylor': 1552, 'credibl': 1553, 'teach': 1554, 'dougla': 1555, 'flesh': 1556, 'terror': 1557, 'hint': 1558, 'protect': 1559, 'bloodi': 1560, 'marvel': 1561, 'watchabl': 1562, 'superman': 1563, 'leader': 1564, 'drunk': 1565, 'load': 1566, 'anybodi': 1567, 'accord': 1568, 'brown': 1569, 'freddi': 1570, 'jeff': 1571, 'tim': 1572, 'seat': 1573, 'appropri': 1574, 'hitler': 1575, 'villag': 1576, 'keaton': 1577, 'knock': 1578, 'unknown': 1579, 'charg': 1580, 'media': 1581, 'empti': 1582, 'unnecessari': 1583, 'enemi': 1584, 'england': 1585, 'strength': 1586, 'wave': 1587, 'perspect': 1588, 'dare': 1589, 'buck': 1590, 'craft': 1591, 'utter': 1592, 'kiss': 1593, 'correct': 1594, 'contrast': 1595, 'ford': 1596, 'nativ': 1597, 'chill': 1598, 'soap': 1599, 'magnific': 1600, 'nazi': 1601, 'knowledg': 1602, 'anywher': 1603, 'speed': 1604, 'distract': 1605, 'breath': 1606, 'mission': 1607, 'ice': 1608, '1980': 1609, 'fred': 1610, 'jr': 1611, 'moon': 1612, 'joan': 1613, 'crowd': 1614, 'soft': 1615, 'kate': 1616, '000': 1617, 'frighten': 1618, 'hundr': 1619, 'nick': 1620, 'dan': 1621, 'dick': 1622, 'simon': 1623, 'radio': 1624, 'dozen': 1625, 'somebodi': 1626, 'shakespear': 1627, 'thousand': 1628, 'academi': 1629, 'andrew': 1630, 'loss': 1631, 'root': 1632, 'quot': 1633, 'sum': 1634, 'vehicl': 1635, 'account': 1636, 'behavior': 1637, '1970': 1638, 'leg': 1639, 'convent': 1640, 'regular': 1641, 'gold': 1642, 'demand': 1643, 'compet': 1644, 'pretenti': 1645, 'worker': 1646, 'explos': 1647, 'lynch': 1648, 'stretch': 1649, 'interpret': 1650, 'notabl': 1651, 'candi': 1652, 'japan': 1653, 'privat': 1654, 'debut': 1655, 'constant': 1656, 'tarzan': 1657, 'prais': 1658, 'translat': 1659, 'revolv': 1660, 'sea': 1661, 'spi': 1662, 'ass': 1663, 'quiet': 1664, 'technolog': 1665, 'threaten': 1666, 'jesu': 1667, 'sat': 1668, 'failur': 1669, 'franc': 1670, 'higher': 1671, 'met': 1672, 'aid': 1673, 'kevin': 1674, 'punch': 1675, 'toy': 1676, 'mike': 1677, 'interact': 1678, 'vh': 1679, 'abandon': 1680, 'separ': 1681, 'bet': 1682, 'confront': 1683, 'command': 1684, 'gotten': 1685, 'recal': 1686, 'servic': 1687, 'stunt': 1688, 'site': 1689, 'belong': 1690, 'techniqu': 1691, 'cabl': 1692, 'bug': 1693, 'foot': 1694, 'freak': 1695, 'jimmi': 1696, 'bright': 1697, 'fu': 1698, 'african': 1699, 'capabl': 1700, 'succeed': 1701, 'presid': 1702, 'clark': 1703, 'boat': 1704, 'fat': 1705, 'stock': 1706, 'spanish': 1707, 'gene': 1708, 'structur': 1709, 'kidnap': 1710, 'paper': 1711, 'whilst': 1712, 'belief': 1713, 'factor': 1714, 'educ': 1715, 'witti': 1716, 'attend': 1717, 'bob': 1718, 'complic': 1719, 'realis': 1720, 'tree': 1721, 'realism': 1722, 'broken': 1723, 'assist': 1724, 'finest': 1725, 'santa': 1726, 'v': 1727, 'observ': 1728, 'depart': 1729, 'up': 1730, 'determin': 1731, 'smoke': 1732, 'fame': 1733, 'routin': 1734, 'rubbish': 1735, 'oper': 1736, 'hat': 1737, 'domin': 1738, 'lewi': 1739, 'advanc': 1740, 'safe': 1741, 'morgan': 1742, 'lone': 1743, 'hook': 1744, 'kinda': 1745, 'foreign': 1746, 'numer': 1747, 'rank': 1748, 'shape': 1749, 'washington': 1750, 'vs': 1751, 'civil': 1752, 'werewolf': 1753, 'shallow': 1754, 'rose': 1755, 'gari': 1756, 'morn': 1757, 'winner': 1758, 'kong': 1759, 'accomplish': 1760, 'ordinari': 1761, 'whenev': 1762, 'peac': 1763, 'virtual': 1764, 'grab': 1765, 'luck': 1766, 'h': 1767, 'offens': 1768, 'welcom': 1769, 'activ': 1770, 'complain': 1771, 'unfunni': 1772, 'contriv': 1773, 'patient': 1774, 'bigger': 1775, 'trek': 1776, 'con': 1777, 'pretend': 1778, 'dimension': 1779, 'dri': 1780, 'wake': 1781, 'lesbian': 1782, 'flash': 1783, 'code': 1784, 'cain': 1785, 'eric': 1786, 'manipul': 1787, 'guard': 1788, 'corrupt': 1789, 'dancer': 1790, 'statu': 1791, 'albert': 1792, 'gain': 1793, 'signific': 1794, 'sourc': 1795, 'speech': 1796, 'context': 1797, 'awkward': 1798, 'psycho': 1799, 'clip': 1800, 'anthoni': 1801, 'corni': 1802, 'sean': 1803, '13': 1804, 'reli': 1805, 'theatric': 1806, 'curiou': 1807, 'w': 1808, 'advic': 1809, 'religion': 1810, 'priest': 1811, 'flow': 1812, 'addict': 1813, 'jennif': 1814, 'skin': 1815, 'asian': 1816, 'howard': 1817, 'specif': 1818, 'secur': 1819, 'core': 1820, 'promot': 1821, 'comfort': 1822, 'organ': 1823, 'luke': 1824, 'golden': 1825, 'cheat': 1826, 'cash': 1827, 'lucki': 1828, 'lower': 1829, 'associ': 1830, 'dislik': 1831, 'spell': 1832, 'balanc': 1833, 'frequent': 1834, 'regret': 1835, 'wing': 1836, 'contribut': 1837, 'degre': 1838, 'devic': 1839, 'frankli': 1840, 'print': 1841, 'lake': 1842, 'forgiv': 1843, 'sake': 1844, 'thoma': 1845, 'betti': 1846, 'mass': 1847, 'crack': 1848, 'unexpect': 1849, 'gordon': 1850, 'invit': 1851, 'construct': 1852, 'categori': 1853, 'depend': 1854, 'amateur': 1855, 'unfold': 1856, 'grown': 1857, 'walter': 1858, 'grew': 1859, 'honor': 1860, 'condit': 1861, 'intellectu': 1862, 'matur': 1863, 'anna': 1864, 'sudden': 1865, 'veteran': 1866, 'mirror': 1867, 'spectacular': 1868, 'sole': 1869, 'grip': 1870, 'robin': 1871, 'experienc': 1872, 'overli': 1873, 'gift': 1874, 'demonstr': 1875, 'liner': 1876, 'meanwhil': 1877, 'freedom': 1878, 'card': 1879, 'theori': 1880, 'oliv': 1881, 'circumst': 1882, 'drew': 1883, 'section': 1884, 'subtitl': 1885, 'crappi': 1886, 'unabl': 1887, 'brilliantli': 1888, 'sheriff': 1889, 'colour': 1890, 'parker': 1891, 'laughter': 1892, 'altern': 1893, 'pile': 1894, 'path': 1895, 'cook': 1896, 'matt': 1897, 'sheer': 1898, 'relief': 1899, 'treatment': 1900, 'defin': 1901, 'lawyer': 1902, 'wander': 1903, 'hall': 1904, 'sinatra': 1905, 'accident': 1906, 'dragon': 1907, 'hank': 1908, 'captiv': 1909, 'halloween': 1910, 'gratuit': 1911, 'moor': 1912, 'broadway': 1913, 'jacki': 1914, 'kung': 1915, 'cowboy': 1916, 'wound': 1917, 'wayn': 1918, 'k': 1919, 'unintent': 1920, 'barbara': 1921, 'spoof': 1922, 'surreal': 1923, 'canadian': 1924, 'winter': 1925, 'statement': 1926, 'compos': 1927, 'cheer': 1928, 'gonna': 1929, 'treasur': 1930, 'fish': 1931, 'fare': 1932, 'victor': 1933, 'sensit': 1934, 'unrealist': 1935, 'emerg': 1936, 'woodi': 1937, 'neighbor': 1938, 'sympathet': 1939, 'ran': 1940, 'driven': 1941, 'authent': 1942, 'glass': 1943, 'overlook': 1944, 'menac': 1945, 'topic': 1946, 'expos': 1947, 'michel': 1948, 'chief': 1949, 'handsom': 1950, 'ancient': 1951, 'gross': 1952, 'contemporari': 1953, 'pleasant': 1954, 'cinderella': 1955, 'network': 1956, 'comedian': 1957, 'russel': 1958, 'feet': 1959, 'built': 1960, 'nevertheless': 1961, 'stranger': 1962, 'underr': 1963, 'miser': 1964, 'blockbust': 1965, 'earn': 1966, 'gori': 1967, 'endless': 1968, 'consider': 1969, 'letter': 1970, 'solv': 1971, 'switch': 1972, 'brook': 1973, 'bullet': 1974, 'joseph': 1975, 'virgin': 1976, 'edward': 1977, 'convict': 1978, 'victoria': 1979, 'alex': 1980, '0': 1981, 'cynic': 1982, 'chosen': 1983, 'scale': 1984, 'scenario': 1985, 'com': 1986, 'curs': 1987, 'sword': 1988, 'gut': 1989, 'outrag': 1990, 'juli': 1991, 'driver': 1992, 'uk': 1993, 'monkey': 1994, 'screenwrit': 1995, 'substanc': 1996, 'proper': 1997, 'wrap': 1998, 'bird': 1999, 'remov': 2000, 'indic': 2001, 'court': 2002, 'par': 2003, 'rental': 2004, 'naiv': 2005, 'advertis': 2006, 'consequ': 2007, 'loser': 2008, 'inevit': 2009, 'nanci': 2010, 'roy': 2011, 'grave': 2012, 'fatal': 2013, 'bridg': 2014, 'brave': 2015, 'le': 2016, 'germani': 2017, 'invis': 2018, 'slap': 2019, 'loui': 2020, 'ador': 2021, 'anger': 2022, 'footbal': 2023, 'provok': 2024, 'chan': 2025, 'alcohol': 2026, 'anderson': 2027, 'ryan': 2028, 'stumbl': 2029, 'willi': 2030, 'professor': 2031, 'patrick': 2032, 'sharp': 2033, 'assassin': 2034, '1930': 2035, 'australian': 2036, 'bat': 2037, 'lousi': 2038, 'strongli': 2039, 'heck': 2040, 'deni': 2041, 'eight': 2042, 'cell': 2043, 'liber': 2044, 'amateurish': 2045, 'saturday': 2046, 'ape': 2047, 'trilog': 2048, 'refresh': 2049, 'sin': 2050, 'resid': 2051, 'san': 2052, 'vagu': 2053, 'justifi': 2054, 'defeat': 2055, 'reput': 2056, 'indi': 2057, 'terrifi': 2058, 'mini': 2059, 'creator': 2060, 'sympathi': 2061, 'endur': 2062, 'task': 2063, 'tediou': 2064, 'prevent': 2065, 'expert': 2066, 'tabl': 2067, 'rival': 2068, 'basebal': 2069, 'employ': 2070, 'trial': 2071, 'che': 2072, 'imit': 2073, 'offend': 2074, 'dig': 2075, 'complaint': 2076, 'pitch': 2077, 'beach': 2078, 'max': 2079, 'weekend': 2080, 'fairi': 2081, 'europ': 2082, 'risk': 2083, 'purchas': 2084, 'murphi': 2085, 'format': 2086, 'hype': 2087, 'glimps': 2088, 'bite': 2089, 'tini': 2090, 'reminisc': 2091, 'nois': 2092, 'titan': 2093, 'harsh': 2094, 'powel': 2095, 'prime': 2096, 'till': 2097, '14': 2098, 'asleep': 2099, 'fals': 2100, 'north': 2101, 'strip': 2102, 'destruct': 2103, 'texa': 2104, 'descript': 2105, 'revel': 2106, 'africa': 2107, 'excess': 2108, 'arrest': 2109, 'surfac': 2110, 'spin': 2111, 'uninterest': 2112, 'semi': 2113, 'inner': 2114, 'sitcom': 2115, 'twin': 2116, 'controversi': 2117, 'maintain': 2118, 'argu': 2119, 'hitchcock': 2120, 'makeup': 2121, 'massiv': 2122, 'dinosaur': 2123, 'melodrama': 2124, 'expens': 2125, 'ludicr': 2126, 'stare': 2127, 'kim': 2128, 'reject': 2129, 'ideal': 2130, 'insist': 2131, 'subplot': 2132, 'press': 2133, 'forest': 2134, 'host': 2135, 'columbo': 2136, 'nail': 2137, 'erot': 2138, 'atroci': 2139, 'supernatur': 2140, 'ala': 2141, 'ga': 2142, 'cant': 2143, 'presum': 2144, 'identifi': 2145, 'notch': 2146, 'dude': 2147, 'crude': 2148, 'method': 2149, 'closer': 2150, 'guest': 2151, 'character': 2152, 'plagu': 2153, 'forgett': 2154, 'ear': 2155, 'border': 2156, 'princess': 2157, 'lion': 2158, 'beast': 2159, 'landscap': 2160, 'foster': 2161, 'pacino': 2162, 'previous': 2163, 'aunt': 2164, 'birth': 2165, 'bound': 2166, 'accus': 2167, 'storytel': 2168, 'urban': 2169, 'jungl': 2170, 'damag': 2171, 'propaganda': 2172, 'thirti': 2173, 'doll': 2174, 'jess': 2175, 'nude': 2176, 'guid': 2177, 'chose': 2178, 'emma': 2179, 'warrior': 2180, '25': 2181, 'mainstream': 2182, 'pet': 2183, 'whoever': 2184, 'mate': 2185, 'exact': 2186, 'poster': 2187, 'upset': 2188, 'deadli': 2189, 'size': 2190, 'friday': 2191, 'cooper': 2192, 'merit': 2193, 'gritti': 2194, 'latest': 2195, 'rough': 2196, 'corps': 2197, 'citizen': 2198, 'contest': 2199, 'ton': 2200, '1990': 2201, 'popul': 2202, 'contact': 2203, 'warner': 2204, 'wilson': 2205, 'blend': 2206, 'buff': 2207, 'settl': 2208, 'sun': 2209, 'rat': 2210, 'metal': 2211, 'select': 2212, 'environ': 2213, 'alic': 2214, 'pitt': 2215, 'widow': 2216, 'mgm': 2217, 'bu': 2218, 'overcom': 2219, 'particip': 2220, 'link': 2221, 'ted': 2222, 'guilti': 2223, 'revolut': 2224, 'lift': 2225, 'afternoon': 2226, 'matrix': 2227, 'johnson': 2228, 'corpor': 2229, 'corner': 2230, 'moron': 2231, 'exagger': 2232, '1960': 2233, 'accompani': 2234, 'prostitut': 2235, 'leagu': 2236, 'doom': 2237, 'multipl': 2238, 'friendli': 2239, 'sincer': 2240, 'hood': 2241, 'holm': 2242, 'instal': 2243, 'clair': 2244, 'junk': 2245, 'string': 2246, 'advis': 2247, 'lugosi': 2248, 'blah': 2249, 'hip': 2250, 'defend': 2251, 'examin': 2252, 'irish': 2253, 'grim': 2254, 'sunday': 2255, 'aka': 2256, 'campi': 2257, 'shut': 2258, 'tight': 2259, 'shake': 2260, 'pro': 2261, 'rachel': 2262, 'varieti': 2263, 'confid': 2264, 'icon': 2265, 'attach': 2266, 'jaw': 2267, 'goal': 2268, 'mexican': 2269, 'directli': 2270, 'denni': 2271, 'medic': 2272, 'sullivan': 2273, 'legendari': 2274, 'terrorist': 2275, 'breast': 2276, 'dean': 2277, 'sentenc': 2278, 'truck': 2279, 'vietnam': 2280, 'duke': 2281, 'prior': 2282, 'courag': 2283, 'sarah': 2284, 'bourn': 2285, 'split': 2286, 'proceed': 2287, 'un': 2288, 'entri': 2289, 'hong': 2290, 'behav': 2291, 'nose': 2292, 'yell': 2293, 'donald': 2294, 'confess': 2295, 'borrow': 2296, 'gather': 2297, 'concentr': 2298, 'lifetim': 2299, 'forth': 2300, 'unconvinc': 2301, 'buri': 2302, 'everywher': 2303, 'jerk': 2304, 'stolen': 2305, 'crush': 2306, 'swim': 2307, 'deliveri': 2308, 'julia': 2309, 'spite': 2310, 'turkey': 2311, 'california': 2312, 'lip': 2313, 'pan': 2314, 'downright': 2315, 'china': 2316, 'proud': 2317, 'hoffman': 2318, 'freeman': 2319, 'offici': 2320, 'reward': 2321, 'quest': 2322, 'flight': 2323, 'sir': 2324, 'fabul': 2325, 'lazi': 2326, 'sink': 2327, 'worthwhil': 2328, 'betray': 2329, 'jon': 2330, 'jail': 2331, 'notori': 2332, 'fade': 2333, 'inept': 2334, 'encourag': 2335, 'branagh': 2336, 'bell': 2337, 'retard': 2338, 'shower': 2339, 'lisa': 2340, 'teeth': 2341, 'survivor': 2342, 'bag': 2343, 'cousin': 2344, 'relev': 2345, 'storm': 2346, 'susan': 2347, 'imageri': 2348, 'facial': 2349, 'alright': 2350, 'stab': 2351, 'tremend': 2352, 'toler': 2353, 'quirki': 2354, 'summari': 2355, 'bride': 2356, 'mexico': 2357, 'trade': 2358, 'shark': 2359, 'hugh': 2360, 'finger': 2361, 'hyster': 2362, 'blown': 2363, 'von': 2364, 'bitter': 2365, 'pose': 2366, 'ha': 2367, 'bone': 2368, 'larri': 2369, 'cruel': 2370, 'scheme': 2371, 'christ': 2372, 'address': 2373, 'ron': 2374, 'afterward': 2375, 'ned': 2376, 'distinct': 2377, 'beg': 2378, 'screw': 2379, 'tour': 2380, 'snake': 2381, 'swear': 2382, 'pursu': 2383, 'traci': 2384, 'feed': 2385, 'thumb': 2386, 'stomach': 2387, 'photo': 2388, 'chair': 2389, 'obscur': 2390, 'occas': 2391, 'mechan': 2392, 'raw': 2393, 'render': 2394, 'holiday': 2395, 'southern': 2396, 'heavili': 2397, 'gruesom': 2398, 'chain': 2399, 'resist': 2400, 'argument': 2401, 'hardi': 2402, 'cabin': 2403, 'sidney': 2404, 'necessarili': 2405, 'philip': 2406, 'indulg': 2407, 'understood': 2408, 'india': 2409, 'racist': 2410, 'satan': 2411, 'outfit': 2412, 'tongu': 2413, 'lay': 2414, 'obnoxi': 2415, 'pregnant': 2416, 'integr': 2417, 'midnight': 2418, 'forgot': 2419, 'stalk': 2420, 'fourth': 2421, 'belov': 2422, 'ticket': 2423, 'deeper': 2424, 'restor': 2425, 'inhabit': 2426, 'carol': 2427, 'slapstick': 2428, '17': 2429, 'magazin': 2430, 'garden': 2431, 'brad': 2432, 'devot': 2433, 'incid': 2434, 'shoe': 2435, 'lincoln': 2436, 'benefit': 2437, 'elizabeth': 2438, 'underground': 2439, 'guarante': 2440, 'divorc': 2441, 'anticip': 2442, 'sandler': 2443, 'disbelief': 2444, 'maria': 2445, 'lili': 2446, 'greater': 2447, 'slave': 2448, 'explod': 2449, 'capit': 2450, 'creation': 2451, 'mildli': 2452, 'bbc': 2453, 'amazingli': 2454, 'princip': 2455, 'cring': 2456, 'funnier': 2457, 'halfway': 2458, 'extraordinari': 2459, 'lesli': 2460, 'introduct': 2461, 'wreck': 2462, 'transfer': 2463, 'advantag': 2464, 'text': 2465, 'tap': 2466, 'enhanc': 2467, 'extent': 2468, 'punish': 2469, 'overwhelm': 2470, 'deliber': 2471, 'horrif': 2472, 'plant': 2473, 'dynam': 2474, 'jessica': 2475, 'error': 2476, 'lo': 2477, 'east': 2478, 'preview': 2479, 'lane': 2480, 'ensu': 2481, 'miscast': 2482, 'sophist': 2483, 'miller': 2484, 'vacat': 2485, 'appli': 2486, 'basi': 2487, '2000': 2488, 'vincent': 2489, 'homosexu': 2490, 'reed': 2491, 'bollywood': 2492, 'spoken': 2493, 'sleazi': 2494, 'mansion': 2495, 'uncomfort': 2496, 'elev': 2497, 'via': 2498, 'measur': 2499, 'extend': 2500, 'steel': 2501, 'fix': 2502, 'daili': 2503, 'stanley': 2504, 'assign': 2505, 'alter': 2506, 'goofi': 2507, 'breathtak': 2508, 'hippi': 2509, 'savag': 2510, 'beer': 2511, 'conceiv': 2512, 'cathol': 2513, 'dentist': 2514, 'melt': 2515, 'overact': 2516, 'mous': 2517, 'blair': 2518, 'subsequ': 2519, 'properli': 2520, 'everyday': 2521, 'oppos': 2522, 'succe': 2523, 'nowaday': 2524, 'inspector': 2525, 'burt': 2526, 'sacrific': 2527, 'carpent': 2528, 'block': 2529, 'neck': 2530, 'massacr': 2531, 'circl': 2532, 'laura': 2533, 'access': 2534, 'christi': 2535, 'fallen': 2536, 'lesser': 2537, 'pool': 2538, 'concert': 2539, 'seagal': 2540, 'mob': 2541, 'portrait': 2542, 'grey': 2543, 'fay': 2544, 'sinist': 2545, 'jewish': 2546, 'competit': 2547, 'relax': 2548, 'react': 2549, 'isol': 2550, 'chees': 2551, 'usa': 2552, 'jake': 2553, 'nine': 2554, 'ironi': 2555, 'chop': 2556, 'suitabl': 2557, '2006': 2558, 'lyric': 2559, 'immens': 2560, 'appal': 2561, 'nonetheless': 2562, 'spiritu': 2563, 'creep': 2564, 'stink': 2565, 'nut': 2566, 'user': 2567, 'luci': 2568, 'retir': 2569, 'adopt': 2570, 'navi': 2571, 'showcas': 2572, 'needless': 2573, 'rage': 2574, 'shirt': 2575, 'sold': 2576, 'reduc': 2577, 'spring': 2578, 'franchis': 2579, 'zone': 2580, 'jay': 2581, 'asham': 2582, 'digit': 2583, 'stanwyck': 2584, 'per': 2585, 'bath': 2586, 'uninspir': 2587, 'bulli': 2588, 'nurs': 2589, 'sutherland': 2590, 'amongst': 2591, 'laid': 2592, 'oddli': 2593, '1940': 2594, 'broadcast': 2595, '2001': 2596, 'upper': 2597, 'illustr': 2598, 'stylish': 2599, 'brando': 2600, 'fulfil': 2601, 'disguis': 2602, 'throat': 2603, 'aspir': 2604, 'baker': 2605, 'wanna': 2606, 'em': 2607, 'pound': 2608, '18': 2609, 'wwii': 2610, 'neighborhood': 2611, 'nobl': 2612, 'pride': 2613, 'thief': 2614, 'endear': 2615, 'impli': 2616, 'shift': 2617, 'coher': 2618, 'cinematograph': 2619, 'shoulder': 2620, 'albeit': 2621, 'dinner': 2622, 'tens': 2623, 'bett': 2624, 'prop': 2625, 'diseas': 2626, '16': 2627, 'dawn': 2628, 'rochest': 2629, 'bo': 2630, 'distribut': 2631, 'matthau': 2632, 'knife': 2633, 'function': 2634, 'poignant': 2635, 'shout': 2636, 'wash': 2637, 'snow': 2638, 'rebel': 2639, 'forti': 2640, 'silenc': 2641, 'contract': 2642, 'surf': 2643, 'derek': 2644, 'henc': 2645, 'elvira': 2646, 'mindless': 2647, 'proof': 2648, 'heat': 2649, 'internet': 2650, 'duti': 2651, 'height': 2652, 'cancel': 2653, 'reunion': 2654, 'silver': 2655, 'cannib': 2656, 'eeri': 2657, 'widmark': 2658, 'chuck': 2659, 'horrend': 2660, 'instinct': 2661, 'mill': 2662, 'torn': 2663, 'alik': 2664, 'incoher': 2665, 'elvi': 2666, 'pie': 2667, 'innov': 2668, 'greatli': 2669, 'premier': 2670, 'spielberg': 2671, 'neat': 2672, 'repetit': 2673, 'etern': 2674, 'musician': 2675, 'absorb': 2676, 'glori': 2677, 'diamond': 2678, 'bang': 2679, 'trite': 2680, 'racism': 2681, 'fbi': 2682, 'britain': 2683, 'horrifi': 2684, 'burton': 2685, 'wealthi': 2686, 'blank': 2687, 'lovabl': 2688, 'homag': 2689, 'precis': 2690, 'nelson': 2691, 'redempt': 2692, 'itali': 2693, 'infam': 2694, 'announc': 2695, 'crisi': 2696, 'parallel': 2697, 'happili': 2698, 'dedic': 2699, 'helen': 2700, 'pat': 2701, 'ensembl': 2702, 'flop': 2703, 'chaplin': 2704, 'wilder': 2705, 'resolut': 2706, 'streisand': 2707, 'hammer': 2708, 'factori': 2709, 'st': 2710, 'oil': 2711, 'carter': 2712, 'conclud': 2713, 'disagre': 2714, 'mar': 2715, 'plastic': 2716, 'broke': 2717, 'triumph': 2718, 'cube': 2719, 'weight': 2720, 'own': 2721, 'chuckl': 2722, 'fighter': 2723, 'climb': 2724, 'march': 2725, 'row': 2726, 'bush': 2727, 'rocket': 2728, 'vega': 2729, 'meaning': 2730, 'wherea': 2731, 'boot': 2732, 'mst3k': 2733, 'unforgett': 2734, 'sensibl': 2735, 'thug': 2736, 'dane': 2737, 'dump': 2738, 'spare': 2739, 'enorm': 2740, 'luca': 2741, 'lust': 2742, 'kurt': 2743, 'rap': 2744, 'brand': 2745, 'engin': 2746, 'caricatur': 2747, 'butt': 2748, 'difficulti': 2749, 'fifti': 2750, 'stress': 2751, 'arnold': 2752, 'karloff': 2753, 'threat': 2754, 'bobbi': 2755, 'adequ': 2756, 'dear': 2757, 'hamlet': 2758, 'elabor': 2759, 'journalist': 2760, 'swing': 2761, 'flynn': 2762, 'arrog': 2763, 'secretari': 2764, 'ego': 2765, 'ralph': 2766, 'polish': 2767, 'barri': 2768, 'fest': 2769, 'homeless': 2770, 'simpson': 2771, 'grate': 2772, 'fanci': 2773, 'unbear': 2774, 'float': 2775, 'puppet': 2776, 'tool': 2777, 'resort': 2778, 'induc': 2779, 'conspiraci': 2780, 'arrang': 2781, 'spike': 2782, 'pig': 2783, 'basement': 2784, 'tribut': 2785, 'muppet': 2786, 'cruis': 2787, 'phillip': 2788, 'choreograph': 2789, 'exercis': 2790, 'guilt': 2791, 'boll': 2792, 'layer': 2793, '24': 2794, 'babe': 2795, 'ham': 2796, 'toilet': 2797, 'medium': 2798, 'item': 2799, 'slip': 2800, 'puzzl': 2801, 'editor': 2802, 'korean': 2803, 'file': 2804, 'tower': 2805, 'scarecrow': 2806, 'fianc': 2807, 'ward': 2808, 'document': 2809, 'stan': 2810, 'larger': 2811, 'slaughter': 2812, 'territori': 2813, 'catherin': 2814, 'superfici': 2815, 'persona': 2816, 'librari': 2817, 'philosoph': 2818, 'minim': 2819, 'portion': 2820, 'orient': 2821, 'glover': 2822, 'denzel': 2823, 'transit': 2824, 'doc': 2825, 'inexplic': 2826, 'assur': 2827, 'spark': 2828, 'jet': 2829, 'ban': 2830, 'jeremi': 2831, 'sneak': 2832, 'curti': 2833, 'shi': 2834, 'owe': 2835, 'pg': 2836, 'financi': 2837, 'walken': 2838, 'dorothi': 2839, 'wolf': 2840, 'boredom': 2841, 'hudson': 2842, 'cusack': 2843, 'whale': 2844, 'backdrop': 2845, 'ambigu': 2846, 'profound': 2847, 'multi': 2848, 'metaphor': 2849, 'eleph': 2850, 'ultra': 2851, 'birthday': 2852, 'union': 2853, 'rave': 2854, 'stiff': 2855, 'gadget': 2856, 'notion': 2857, 'elsewher': 2858, 'viru': 2859, 'hack': 2860, 'implaus': 2861, '2005': 2862, 'newspap': 2863, 'eva': 2864, 'distanc': 2865, 'reader': 2866, 'eastwood': 2867, 'afford': 2868, 'squar': 2869, 'lloyd': 2870, 'slight': 2871, 'disc': 2872, 'bibl': 2873, 'superhero': 2874, 'pad': 2875, 'canada': 2876, '1st': 2877, 'hawk': 2878, 'deriv': 2879, 'poison': 2880, 'urg': 2881, 'heston': 2882, 'restaur': 2883, 'sadist': 2884, 'essenc': 2885, 'cure': 2886, 'spread': 2887, 'drown': 2888, 'skit': 2889, 'health': 2890, 'huh': 2891, 'montag': 2892, 'charisma': 2893, 'button': 2894, 'dealt': 2895, 'scoobi': 2896, 'maniac': 2897, 'estat': 2898, 'gradual': 2899, 'invest': 2900, 'fetch': 2901, 'peak': 2902, 'godfath': 2903, 'companion': 2904, 'lab': 2905, 'muslim': 2906, 'kane': 2907, 'cup': 2908, 'alli': 2909, 'servant': 2910, 'countless': 2911, 'gothic': 2912, 'tea': 2913, 'subtleti': 2914, 'miik': 2915, 'ritter': 2916, 'salli': 2917, 'elect': 2918, 'electr': 2919, 'iii': 2920, 'heroic': 2921, 'charismat': 2922, 'briefli': 2923, 'neil': 2924, 'grandmoth': 2925, 'toss': 2926, 'wannab': 2927, 'nuanc': 2928, 'resourc': 2929, 'cole': 2930, 'reel': 2931, 'ingredi': 2932, 'tender': 2933, 'admittedli': 2934, 'bud': 2935, 'pauli': 2936, 'label': 2937, 'mild': 2938, 'poverti': 2939, 'shall': 2940, 'reev': 2941, 'carrey': 2942, 'stood': 2943, 'punk': 2944, 'pit': 2945, 'gate': 2946, 'stronger': 2947, 'dawson': 2948, 'mafia': 2949, 'kubrick': 2950, 'easier': 2951, 'burst': 2952, 'cox': 2953, 'ian': 2954, 'useless': 2955, 'smooth': 2956, 'outcom': 2957, 'terri': 2958, 'fond': 2959, 'cardboard': 2960, 'updat': 2961, 'tag': 2962, 'astair': 2963, 'smash': 2964, 'assault': 2965, 'bakshi': 2966, 'vulner': 2967, 'qualifi': 2968, '2002': 2969, 'exchang': 2970, 'resolv': 2971, 'coincid': 2972, 'vari': 2973, 'increasingli': 2974, 'sketch': 2975, 'divers': 2976, 'melodramat': 2977, 'samurai': 2978, 'fist': 2979, 'rex': 2980, 'brillianc': 2981, 'templ': 2982, 'blast': 2983, 'insert': 2984, 'conveni': 2985, 'scratch': 2986, 'luckili': 2987, 'be': 2988, 'tame': 2989, 'suspend': 2990, 'reynold': 2991, 'jami': 2992, 'farm': 2993, 'nuclear': 2994, 'ambiti': 2995, 'meat': 2996, 'gotta': 2997, 'seventi': 2998, 'pin': 2999, 'coach': 3000, 'fisher': 3001, 'strictli': 3002, 'soprano': 3003, 'hamilton': 3004, 'walker': 3005, 'matthew': 3006, 'discoveri': 3007, 'grasp': 3008, 'empir': 3009, 'ninja': 3010, 'joey': 3011, 'kudo': 3012, 'recreat': 3013, 'struck': 3014, 'instantli': 3015, 'clock': 3016, 'butcher': 3017, 'revers': 3018, 'worthless': 3019, 'brosnan': 3020, 'eccentr': 3021, 'timeless': 3022, 'spooki': 3023, 'cave': 3024, 'convolut': 3025, 'monk': 3026, 'closet': 3027, 'communist': 3028, 'declar': 3029, 'selfish': 3030, 'mitchel': 3031, 'sidekick': 3032, 'sloppi': 3033, 'eighti': 3034, 'norman': 3035, 'importantli': 3036, 'gray': 3037, 'miracl': 3038, 'wipe': 3039, 'cliff': 3040, 'bleak': 3041, 'pal': 3042, 'evok': 3043, 'inconsist': 3044, 'clown': 3045, 'partli': 3046, 'fifteen': 3047, 'seller': 3048, 'australia': 3049, '45': 3050, 'debat': 3051, 'websit': 3052, 'psychiatrist': 3053, 'destin': 3054, 'seed': 3055, 'flawless': 3056, 'superbl': 3057, 'stoog': 3058, 'piano': 3059, 'cheek': 3060, 'farc': 3061, 'lifestyl': 3062, 'enthusiast': 3063, 'aforement': 3064, 'ho': 3065, 'chew': 3066, 'akshay': 3067, 'anni': 3068, 'incompet': 3069, 'dire': 3070, 'emili': 3071, 'soviet': 3072, 'bash': 3073, 'abc': 3074, 'wrestl': 3075, 'pressur': 3076, 'drivel': 3077, 'regardless': 3078, 'splatter': 3079, 'dash': 3080, 'wick': 3081, 'kitchen': 3082, 'directori': 3083, 'slice': 3084, 'judi': 3085, 'prize': 3086, 'cia': 3087, 'duo': 3088, 'pleasantli': 3089, 'curios': 3090, 'doo': 3091, 'dave': 3092, 'cameron': 3093, 'increas': 3094, 'seduc': 3095, 'lou': 3096, 'helicopt': 3097, 'suppli': 3098, 'chapter': 3099, 'distant': 3100, 'ken': 3101, 'flower': 3102, 'boil': 3103, 'beaten': 3104, 'recov': 3105, 'blob': 3106, 'mann': 3107, 'artifici': 3108, 'cagney': 3109, 'jar': 3110, 'glow': 3111, 'combat': 3112, 'glenn': 3113, 'splendid': 3114, 'francisco': 3115, 'craven': 3116, 'craig': 3117, 'hop': 3118, 'favour': 3119, 'ellen': 3120, 'laurel': 3121, 'eleg': 3122, 'goldberg': 3123, 'ranger': 3124, 'turner': 3125, 'web': 3126, 'drunken': 3127, 'perri': 3128, 'panic': 3129, 'psychot': 3130, 'greek': 3131, 'alexand': 3132, 'flip': 3133, 'gentl': 3134, 'fx': 3135, 'philosophi': 3136, '20th': 3137, 'hatr': 3138, 'slightest': 3139, 'graduat': 3140, 'ruth': 3141, 'falk': 3142, 'rid': 3143, 'shortli': 3144, 'min': 3145, 'wizard': 3146, 'gandhi': 3147, 'plausibl': 3148, 'modesti': 3149, 'preciou': 3150, 'manhattan': 3151, 'lend': 3152, 'knight': 3153, 'we': 3154, 'ocean': 3155, 'holi': 3156, 'legal': 3157, 'jealou': 3158, 'harm': 3159, 'dracula': 3160, 'futurist': 3161, 'unpleas': 3162, 'fund': 3163, 'tall': 3164, 'felix': 3165, 'mock': 3166, 'forbidden': 3167, 'childish': 3168, 'bless': 3169, 'scientif': 3170, 'thread': 3171, 'ami': 3172, 'reviv': 3173, 'tank': 3174, 'explicit': 3175, 'overdon': 3176, 'digniti': 3177, 'giallo': 3178, 'nod': 3179, 'thick': 3180, '2004': 3181, 'fever': 3182, 'awe': 3183, 'repeatedli': 3184, 'yesterday': 3185, 'pirat': 3186, 'eve': 3187, '99': 3188, 'mel': 3189, 'awaken': 3190, 'torment': 3191, 'margaret': 3192, 'nerv': 3193, 'elderli': 3194, 'broad': 3195, 'unwatch': 3196, 'verhoeven': 3197, 'lean': 3198, 'eas': 3199, 'launch': 3200, 'royal': 3201, 'roman': 3202, 'ah': 3203, 'griffith': 3204, 'custom': 3205, 'ambit': 3206, 'bin': 3207, 'automat': 3208, 'stiller': 3209, 'kay': 3210, 'uniform': 3211, 'politician': 3212, 'publish': 3213, 'timothi': 3214, 'rivet': 3215, 'absenc': 3216, 'acclaim': 3217, 'romero': 3218, 'termin': 3219, 'sunshin': 3220, 'wallac': 3221, 'stinker': 3222, 'gabriel': 3223, 'homicid': 3224, 'phrase': 3225, 'bathroom': 3226, 'crook': 3227, 'antic': 3228, 'darker': 3229, 'pulp': 3230, 'purpl': 3231, 'pierc': 3232, 'foul': 3233, 'warren': 3234, 'tomato': 3235, 'transport': 3236, 'kenneth': 3237, 'brazil': 3238, 'li': 3239, 'packag': 3240, 'marin': 3241, 'horrid': 3242, 'karen': 3243, 'donna': 3244, 'sixti': 3245, 'choreographi': 3246, 'viciou': 3247, 'evolv': 3248, 'revolutionari': 3249, 'q': 3250, 'juvenil': 3251, 'saint': 3252, 'pray': 3253, 'eyr': 3254, 'prom': 3255, 'ought': 3256, '2003': 3257, 'hollow': 3258, 'rambo': 3259, 'awak': 3260, 'album': 3261, 'contrari': 3262, 'coloni': 3263, 'dose': 3264, 'overr': 3265, 'conserv': 3266, 'candid': 3267, 'blade': 3268, 'defi': 3269, 'stole': 3270, 'option': 3271, 'boast': 3272, 'nerd': 3273, 'ireland': 3274, 'kapoor': 3275, 'twelv': 3276, 'mummi': 3277, 'beatti': 3278, 'ramon': 3279, 'mildr': 3280, 'funer': 3281, 'flame': 3282, 'altman': 3283, 'kirk': 3284, 'jazz': 3285, 'protest': 3286, 'trio': 3287, 'collabor': 3288, 'confirm': 3289, 'global': 3290, 'astonish': 3291, 'natali': 3292, 'detract': 3293, 'fulci': 3294, 'nicholson': 3295, 'enterpris': 3296, 'mystic': 3297, 'shade': 3298, 'whip': 3299, 'destini': 3300, 'spit': 3301, 'bull': 3302, 'blake': 3303, 'audio': 3304, 'yellow': 3305, 'bottl': 3306, 'tommi': 3307, 'racial': 3308, 'delici': 3309, 'leap': 3310, 'swedish': 3311, 'staff': 3312, 'inherit': 3313, 'merci': 3314, 'adolesc': 3315, 'reunit': 3316, 'visibl': 3317, 'threw': 3318, 'harder': 3319, 'pseudo': 3320, 'enchant': 3321, 'neo': 3322, 'fonda': 3323, 'todd': 3324, 'bedroom': 3325, 'popcorn': 3326, 'vivid': 3327, 'altogeth': 3328, 'meaningless': 3329, 'lemmon': 3330, 'respond': 3331, 'leonard': 3332, 'crocodil': 3333, 'reserv': 3334, 'uneven': 3335, 'decor': 3336, 'await': 3337, 'wire': 3338, 'fanat': 3339, 'tip': 3340, 'exhibit': 3341, 'befriend': 3342, 'bust': 3343, 'atlanti': 3344, 'moodi': 3345, 'roommat': 3346, 'synopsi': 3347, 'madonna': 3348, 'jew': 3349, 'suspici': 3350, 'lawrenc': 3351, 'voight': 3352, 'ruthless': 3353, 'kennedi': 3354, 'edi': 3355, 'clumsi': 3356, 'garner': 3357, 'palma': 3358, 'voyag': 3359, 'clint': 3360, 'unsettl': 3361, 'centr': 3362, 'abysm': 3363, 'incident': 3364, 'rural': 3365, 'bold': 3366, 'bargain': 3367, 'holli': 3368, 'audit': 3369, 'dimens': 3370, 'bradi': 3371, 'chao': 3372, 'ventur': 3373, 'carl': 3374, '2007': 3375, 'acknowledg': 3376, 'cari': 3377, 'daddi': 3378, 'tiger': 3379, 'poetic': 3380, 'echo': 3381, 'mall': 3382, 'characterist': 3383, 'cuba': 3384, 'versu': 3385, 'cd': 3386, 'humili': 3387, 'nearbi': 3388, 'lit': 3389, '2nd': 3390, 'neglect': 3391, 'hart': 3392, 'immigr': 3393, 'timon': 3394, 'wealth': 3395, 'trail': 3396, 'elimin': 3397, 'troop': 3398, 'imperson': 3399, 'ant': 3400, 'pun': 3401, 'mickey': 3402, 'mistaken': 3403, 'solo': 3404, 'collaps': 3405, 'paus': 3406, 'prejudic': 3407, 'domest': 3408, 'marshal': 3409, 'homer': 3410, 'jeffrey': 3411, 'saga': 3412, 'infect': 3413, 'repuls': 3414, 'celluloid': 3415, 'hbo': 3416, 'harvey': 3417, 'inan': 3418, 'equip': 3419, 'chest': 3420, 'promin': 3421, 'milk': 3422, 'coffe': 3423, 'assembl': 3424, 'inappropri': 3425, 'gear': 3426, 'sore': 3427, 'coat': 3428, '1996': 3429, 'cake': 3430, 'apolog': 3431, 'pant': 3432, 'olivi': 3433, 'leon': 3434, 'interrupt': 3435, 'ginger': 3436, 'tribe': 3437, 'undoubtedli': 3438, 'polanski': 3439, 'pen': 3440, 'florida': 3441, 'devast': 3442, 'consum': 3443, 'solut': 3444, 'institut': 3445, 'embrac': 3446, 'jenni': 3447, 'vulgar': 3448, 'instant': 3449, 'pot': 3450, 'humbl': 3451, 'colonel': 3452, 'highest': 3453, 'aveng': 3454, 'furthermor': 3455, 'airplan': 3456, 'exot': 3457, 'maggi': 3458, 'brooklyn': 3459, 'trace': 3460, 'retain': 3461, 'colleagu': 3462, 'primari': 3463, 'strain': 3464, 'sale': 3465, 'cope': 3466, 'smaller': 3467, '3rd': 3468, 'illog': 3469, 'poke': 3470, 'dian': 3471, 'godzilla': 3472, 'descend': 3473, 'principl': 3474, 'ya': 3475, 'linda': 3476, '1999': 3477, 'gender': 3478, 'wive': 3479, 'disabl': 3480, 'rick': 3481, 'bowl': 3482, 'outer': 3483, 'dutch': 3484, 'seduct': 3485, 'lol': 3486, 'glamor': 3487, 'scope': 3488, 'hal': 3489, 'bubbl': 3490, 'beneath': 3491, 'primarili': 3492, 'devoid': 3493, 'gloriou': 3494, 'yard': 3495, 'dud': 3496, 'mixtur': 3497, 'rabbit': 3498, 'secondli': 3499, 'cue': 3500, 'predecessor': 3501, 'vast': 3502, 'blatant': 3503, 'dive': 3504, 'inferior': 3505, 'gundam': 3506, 'pearl': 3507, 'z': 3508, 'alert': 3509, 'countrysid': 3510, 'breed': 3511, 'disjoint': 3512, 'streep': 3513, 'domino': 3514, 'simplist': 3515, 'april': 3516, 'casual': 3517, 'shelf': 3518, 'museum': 3519, 'shirley': 3520, 'et': 3521, 'myer': 3522, 'trademark': 3523, 'aggress': 3524, 'grinch': 3525, 'alfr': 3526, 'garbo': 3527, 'talki': 3528, 'hideou': 3529, 'arab': 3530, 'senseless': 3531, 'invas': 3532, 'stir': 3533, 'maci': 3534, 'rendit': 3535, 'vanish': 3536, 'defens': 3537, 'robberi': 3538, 'loyal': 3539, 'robinson': 3540, 'disgrac': 3541, 'applaud': 3542, 'mayor': 3543, 'stellar': 3544, 'boom': 3545, 'sh': 3546, 'khan': 3547, 'unhappi': 3548, 'stack': 3549, 'experiment': 3550, 'oz': 3551, 'illeg': 3552, 'mail': 3553, 'hardcor': 3554, 'slide': 3555, 'acid': 3556, 'uwe': 3557, 'obtain': 3558, 'hopeless': 3559, 'declin': 3560, 'rifl': 3561, 'recruit': 3562, 'blew': 3563, 'tempt': 3564, 'grandfath': 3565, 'fri': 3566, 'incomprehens': 3567, 'topless': 3568, 'craze': 3569, 'span': 3570, 'amanda': 3571, 'wont': 3572, 'dismiss': 3573, 'spider': 3574, 'berlin': 3575, 'counter': 3576, 'tenant': 3577, 'psychic': 3578, 'dicken': 3579, 'diana': 3580, 'soccer': 3581, 'emphasi': 3582, 'hartley': 3583, 'scroog': 3584, 'sympath': 3585, 'woo': 3586, 'revolt': 3587, 'trashi': 3588, 'justin': 3589, 'goer': 3590, 'porno': 3591, 'riot': 3592, 'parad': 3593, 'resurrect': 3594, 'niro': 3595, 'shaw': 3596, 'bitch': 3597, 'intim': 3598, 'wet': 3599, 'ration': 3600, 'ethnic': 3601, 'lumet': 3602, 'faster': 3603, 'sibl': 3604, 'shed': 3605, 'farmer': 3606, 'jonathan': 3607, 'commend': 3608, 'hopper': 3609, 'region': 3610, 'unreal': 3611, 'steam': 3612, 'eager': 3613, 'ballet': 3614, 'dealer': 3615, 'gap': 3616, 'ensur': 3617, 'weakest': 3618, 'wheel': 3619, 'choru': 3620, 'rider': 3621, 'nephew': 3622, '00': 3623, 'partial': 3624, 'slick': 3625, 'biographi': 3626, 'feminist': 3627, 'enlighten': 3628, 'andr': 3629, 'honesti': 3630, 'mario': 3631, 'wendi': 3632, 'patriot': 3633, 'worm': 3634, 'immort': 3635, 'hesit': 3636, 'lena': 3637, 'sandra': 3638, 'util': 3639, 'mutant': 3640, 'psychopath': 3641, 'kingdom': 3642, 'properti': 3643, 'sappi': 3644, 'hung': 3645, 'wore': 3646, 'leo': 3647, 'blunt': 3648, 'confin': 3649, 'nostalg': 3650, 'safeti': 3651, 'owen': 3652, 'franco': 3653, 'prequel': 3654, 'charlott': 3655, 'snap': 3656, 'similarli': 3657, 'victori': 3658, 'morri': 3659, 'vice': 3660, 'composit': 3661, 'skull': 3662, 'repress': 3663, 'macarthur': 3664, 'bow': 3665, 'latin': 3666, 'hyde': 3667, 'heartbreak': 3668, 'snl': 3669, 'repli': 3670, 'tad': 3671, 'recycl': 3672, 'thru': 3673, 'montana': 3674, 'rope': 3675, 'exit': 3676, 'despair': 3677, 'strand': 3678, 'drum': 3679, 'deed': 3680, 'miseri': 3681, 'kyle': 3682, 'del': 3683, 'emperor': 3684, 'drain': 3685, 'rocki': 3686, 'farrel': 3687, 'bonu': 3688, 'campbel': 3689, 'rambl': 3690, 'compens': 3691, 'nervou': 3692, 'dalton': 3693, 'compass': 3694, 'valuabl': 3695, 'tail': 3696, '1972': 3697, 'acquir': 3698, 'dust': 3699, 'speci': 3700, 'cg': 3701, 'bumbl': 3702, 'pattern': 3703, 'whoopi': 3704, 'bergman': 3705, 'romp': 3706, 'wacki': 3707, 'radic': 3708, 'oppress': 3709, 'gal': 3710, 'bleed': 3711, 'da': 3712, 'airport': 3713, 'rapist': 3714, '35': 3715, 'percept': 3716, 'downhil': 3717, 'carradin': 3718, 'contempl': 3719, 'pour': 3720, 'slug': 3721, 'rotten': 3722, 'roth': 3723, 'mistress': 3724, 'tonight': 3725, 'chess': 3726, 'gimmick': 3727, 'orson': 3728, 'martian': 3729, 'olli': 3730, '1983': 3731, 'pursuit': 3732, 'belt': 3733, 'tackl': 3734, 'heal': 3735, 'banal': 3736, 'slash': 3737, 'dazzl': 3738, 'edgar': 3739, 'champion': 3740, 'programm': 3741, 'preach': 3742, 'melodi': 3743, 'arguabl': 3744, 'arc': 3745, 'unpredict': 3746, 'shelley': 3747, 'taught': 3748, 'pervert': 3749, 'tooth': 3750, 'mislead': 3751, 'pervers': 3752, 'attorney': 3753, 'paltrow': 3754, 'stilt': 3755, 'chicken': 3756, 'sensat': 3757, 'plight': 3758, 'maid': 3759, 'virginia': 3760, 'mesmer': 3761, 'bela': 3762, 'uplift': 3763, 'gambl': 3764, 'conneri': 3765, 'employe': 3766, 'closest': 3767, 'vengeanc': 3768, 'vocal': 3769, 'graham': 3770, 'passeng': 3771, 'tiresom': 3772, 'raymond': 3773, 'poem': 3774, 'franki': 3775, 'duval': 3776, 'dixon': 3777, 'cleverli': 3778, 'rubi': 3779, 'marti': 3780, 'orang': 3781, 'crystal': 3782, 'gerard': 3783, 'numb': 3784, 'scottish': 3785, 'tube': 3786, 'monologu': 3787, '1968': 3788, 'calm': 3789, 'giggl': 3790, 'habit': 3791, 'inject': 3792, 'swallow': 3793, 'secretli': 3794, 'iran': 3795, 'engross': 3796, 'lundgren': 3797, 'pokemon': 3798, 'convincingli': 3799, 'climact': 3800, 'extens': 3801, 'suffic': 3802, 'bay': 3803, 'mute': 3804, 'yawn': 3805, 'amitabh': 3806, 'sirk': 3807, 'paranoia': 3808, 'abraham': 3809, 'quarter': 3810, 'whine': 3811, 'profan': 3812, 'outing': 3813, 'clone': 3814, 'volum': 3815, 'im': 3816, 'chicago': 3817, 'meander': 3818, 'taxi': 3819, 'backward': 3820, 'fed': 3821, 'dispos': 3822, 'bend': 3823, 'septemb': 3824, 'junior': 3825, 'linger': 3826, 'surpass': 3827, 'underst': 3828, 'spock': 3829, 'plod': 3830, 'lowest': 3831, 'earl': 3832, 'poetri': 3833, 'profess': 3834, 'frankenstein': 3835, 'grotesqu': 3836, 'franci': 3837, 'trend': 3838, 'austen': 3839, 'richardson': 3840, 'ethan': 3841, 'expand': 3842, 'nichola': 3843, 'abort': 3844, 'compliment': 3845, 'eugen': 3846, 'sue': 3847, 'descent': 3848, 'hum': 3849, 'econom': 3850, 'rant': 3851, 'greedi': 3852, 'muddl': 3853, 'spoke': 3854, 'household': 3855, 'mundan': 3856, 'myth': 3857, 'tourist': 3858, 'instrument': 3859, 'lure': 3860, 'dysfunct': 3861, 'literatur': 3862, 'simplic': 3863, 'nostalgia': 3864, 'rubber': 3865, 'catchi': 3866, 'cannon': 3867, 'waitress': 3868, 'der': 3869, 'stallon': 3870, 'june': 3871, 'recognis': 3872, 'molli': 3873, 'phoni': 3874, 'equival': 3875, 'occupi': 3876, 'hello': 3877, 'eaten': 3878, 'dement': 3879, 'mortal': 3880, 'firstli': 3881, 'louis': 3882, 'carel': 3883, 'crucial': 3884, 'phantom': 3885, 'deaf': 3886, 'randi': 3887, 'coast': 3888, 'stale': 3889, 'lang': 3890, 'furi': 3891, 'dictat': 3892, 'flee': 3893, 'mankind': 3894, 'bacal': 3895, 'irrelev': 3896, 'alongsid': 3897, 'insur': 3898, 'damon': 3899, 'recognit': 3900, 'duck': 3901, 'map': 3902, 'sissi': 3903, 'cent': 3904, 'omen': 3905, 'wisdom': 3906, 'newli': 3907, 'lengthi': 3908, 'heel': 3909, 'dreari': 3910, 'ashley': 3911, 'onlin': 3912, 'daisi': 3913, 'reign': 3914, 'bike': 3915, 'blackmail': 3916, 'bump': 3917, 'distinguish': 3918, 'damm': 3919, 'cyborg': 3920, 'rude': 3921, 'biko': 3922, '1973': 3923, 'loyalti': 3924, 'labor': 3925, 'drake': 3926, 'grayson': 3927, 'freez': 3928, 'likewis': 3929, 'twilight': 3930, 'rooney': 3931, 'buffalo': 3932, 'antwon': 3933, 'tunnel': 3934, 'unorigin': 3935, 'barrymor': 3936, 'basketbal': 3937, 'butler': 3938, 'approv': 3939, 'interior': 3940, 'nineti': 3941, 'exposur': 3942, 'inher': 3943, 'analysi': 3944, 'boxer': 3945, 'attribut': 3946, 'vein': 3947, 'baddi': 3948, 'prey': 3949, 'worn': 3950, 'emphas': 3951, 'incorpor': 3952, 'pink': 3953, 'startl': 3954, 'provoc': 3955, 'chronicl': 3956, 'keith': 3957, 'ridden': 3958, 'proce': 3959, 'sailor': 3960, 'meyer': 3961, 'fleet': 3962, 'mighti': 3963, 'mormon': 3964, 'undeni': 3965, 'walsh': 3966, 'barrel': 3967, 'degrad': 3968, 'substitut': 3969, 'predat': 3970, 'julian': 3971, 'improvis': 3972, 'elm': 3973, 'nicol': 3974, 'millionair': 3975, 'carla': 3976, 'er': 3977, 'simmon': 3978, 'unrel': 3979, 'belushi': 3980, 'stalker': 3981, 'drift': 3982, 'condemn': 3983, 'indiffer': 3984, 'bunni': 3985, 'underli': 3986, 'hypnot': 3987, 'othello': 3988, 'robbin': 3989, 'meg': 3990, 'enthusiasm': 3991, 'exquisit': 3992, 'greed': 3993, 'agenda': 3994, 'roof': 3995, 'warmth': 3996, 'edgi': 3997, 'disord': 3998, 'priceless': 3999, 'marion': 4000, 'palac': 4001, 'unawar': 4002, '3d': 4003, 'firm': 4004, 'dolph': 4005, 'mtv': 4006, 'alarm': 4007, 'hay': 4008, 'watson': 4009, 'vital': 4010, 'alison': 4011, 'nyc': 4012, 'novak': 4013, 'errol': 4014, 'lampoon': 4015, 'shove': 4016, 'rukh': 4017, 'reid': 4018, 'gestur': 4019, 'what': 4020, 'simultan': 4021, 'unleash': 4022, 'coup': 4023, 'championship': 4024, 'randomli': 4025, 'session': 4026, 'ponder': 4027, 'beatl': 4028, 'campaign': 4029, 'minimum': 4030, '13th': 4031, 'petti': 4032, 'profit': 4033, 'pamela': 4034, 'drip': 4035, 'distort': 4036, 'preserv': 4037, 'crown': 4038, 'showdown': 4039, 'eastern': 4040, 'angela': 4041, 'israel': 4042, 'testament': 4043, 'peck': 4044, 'valentin': 4045, 'peril': 4046, 'thompson': 4047, 'spain': 4048, 'cassidi': 4049, '1933': 4050, 'iraq': 4051, 'orlean': 4052, 'sergeant': 4053, 'nun': 4054, 'glanc': 4055, 'zizek': 4056, 'climat': 4057, 'regist': 4058, 'wig': 4059, 'din': 4060, 'buster': 4061, '1984': 4062, 'travesti': 4063, 'rout': 4064, 'contradict': 4065, 'stroke': 4066, 'bro': 4067, 'cream': 4068, 'crow': 4069, 'calib': 4070, 'mon': 4071, 'exposit': 4072, 'shootout': 4073, 'represent': 4074, 'han': 4075, 'stake': 4076, 'cooki': 4077, 'restrain': 4078, 'sabrina': 4079, 'gentleman': 4080, 'empathi': 4081, 'scotland': 4082, 'brenda': 4083, 'quinn': 4084, 'perpetu': 4085, 'kurosawa': 4086, 'reson': 4087, 'unimagin': 4088, 'crawl': 4089, 'jan': 4090, 'fido': 4091, 'valley': 4092, 'miyazaki': 4093, 'realm': 4094, 'perceiv': 4095, 'mclaglen': 4096, 'warrant': 4097, 'censor': 4098, 'femm': 4099, 'meryl': 4100, 'pretens': 4101, 'geek': 4102, 'greg': 4103, 'traumat': 4104, '1987': 4105, 'unseen': 4106, 'demis': 4107, 'unsatisfi': 4108, 'painter': 4109, 'cloud': 4110, 'soderbergh': 4111, 'crawford': 4112, 'tacki': 4113, 'shoddi': 4114, 'pole': 4115, 'wax': 4116, 'josh': 4117, 'derang': 4118, 'absent': 4119, 'compromis': 4120, '1997': 4121, 'stargat': 4122, 'darren': 4123, 'distress': 4124, 'shaki': 4125, 'sucker': 4126, 'ross': 4127, 'monoton': 4128, 'dana': 4129, 'spacey': 4130, 'delic': 4131, 'passabl': 4132, 'ustinov': 4133, 'abomin': 4134, 'fuller': 4135, 'sammi': 4136, 'baldwin': 4137, 'businessman': 4138, 'valid': 4139, 'wholli': 4140, 'uncov': 4141, 'austin': 4142, 'tech': 4143, 'jewel': 4144, 'norm': 4145, 'seal': 4146, 'click': 4147, 'nathan': 4148, 'judgment': 4149, 'clash': 4150, 'unravel': 4151, 'verbal': 4152, 'furiou': 4153, 'tarantino': 4154, '1993': 4155, 'primit': 4156, 'anchor': 4157, 'fog': 4158, 'accuraci': 4159, 'antonioni': 4160, 'deceas': 4161, 'exclus': 4162, 'reluct': 4163, 'dee': 4164, 'kumar': 4165, 'polici': 4166, 'expedit': 4167, 'deniro': 4168, 'fenc': 4169, 'correctli': 4170, 'sid': 4171, 'tax': 4172, 'mode': 4173, 'unfair': 4174, 'patienc': 4175, 'nicola': 4176, 'fought': 4177, 'sheet': 4178, 'pocket': 4179, 'enforc': 4180, 'fart': 4181, '1995': 4182, 'logan': 4183, 'seldom': 4184, 'wang': 4185, 'darn': 4186, 'dreck': 4187, 'slam': 4188, 'ritual': 4189, 'roller': 4190, 'debt': 4191, 'clerk': 4192, 'wretch': 4193, 'sand': 4194, '1971': 4195, '3000': 4196, 'bake': 4197, 'fabric': 4198, 'malon': 4199, 'alec': 4200, 'murray': 4201, 'crippl': 4202, 'behold': 4203, 'conduct': 4204, 'sustain': 4205, 'trait': 4206, 'sunni': 4207, '2008': 4208, 'joel': 4209, 'temper': 4210, 'shanghai': 4211, 'hallucin': 4212, 'vanc': 4213, 'stark': 4214, 'divid': 4215, 'schedul': 4216, 'outlin': 4217, 'isabel': 4218, 'despis': 4219, 'grief': 4220, 'shell': 4221, 'soup': 4222, 'critiqu': 4223, 'penni': 4224, 'tactic': 4225, 'robber': 4226, 'phil': 4227, 'preposter': 4228, 'fundament': 4229, 'bias': 4230, 'guitar': 4231, 'technicolor': 4232, 'squad': 4233, 'preston': 4234, 'scriptwrit': 4235, 'exhaust': 4236, 'conscious': 4237, 'canyon': 4238, 'legaci': 4239, 'clau': 4240, 'pete': 4241, 'stuart': 4242, 'rita': 4243, 'runner': 4244, 'helpless': 4245, 'sweep': 4246, 'bridget': 4247, 'sentinel': 4248, 'propos': 4249, 'boyl': 4250, 'jodi': 4251, 'downey': 4252, 'newman': 4253, 'unexpectedli': 4254, 'implic': 4255, 'rear': 4256, 'sugar': 4257, 'alley': 4258, 'agenc': 4259, 'culmin': 4260, 'liberti': 4261, 'delv': 4262, 'passag': 4263, 'drove': 4264, 'restrict': 4265, 'alicia': 4266, 'invad': 4267, 'vomit': 4268, 'connor': 4269, 'marc': 4270, 'kansa': 4271, 'consciou': 4272, 'inabl': 4273, 'lacklust': 4274, 'bloom': 4275, 'gregori': 4276, 'flair': 4277, 'cigarett': 4278, 'russia': 4279, 'jacket': 4280, 'rehash': 4281, 'sniper': 4282, 'palanc': 4283, 'foxx': 4284, 'pale': 4285, 'rampag': 4286, 'improb': 4287, 'ladder': 4288, '22': 4289, 'feat': 4290, 'rod': 4291, 'tripe': 4292, 'chainsaw': 4293, 'sharon': 4294, 'wrench': 4295, 'tendenc': 4296, 'awhil': 4297, 'kolchak': 4298, 'delet': 4299, 'aesthet': 4300, 'arrow': 4301, 'yeti': 4302, 'lush': 4303, 'horn': 4304, 'karl': 4305, 'asylum': 4306, 'vet': 4307, 'bacon': 4308, 'rehears': 4309, '1936': 4310, 'mccoy': 4311, 'cap': 4312, 'behaviour': 4313, 'amazon': 4314, 'newcom': 4315, 'hungri': 4316, 'tasteless': 4317, 'minu': 4318, 'suffici': 4319, '1988': 4320, 'filler': 4321, 'stream': 4322, 'lurk': 4323, 'thunderbird': 4324, 'prank': 4325, 'el': 4326, '1920': 4327, 'shortcom': 4328, '19th': 4329, 'rumor': 4330, 'paradis': 4331, 'basing': 4332, 'sung': 4333, 'coaster': 4334, 'aristocrat': 4335, 'tomorrow': 4336, 'loneli': 4337, 'financ': 4338, 'elit': 4339, 'wagner': 4340, 'visitor': 4341, 'wildli': 4342, 'weav': 4343, 'hulk': 4344, 'paramount': 4345, 'conscienc': 4346, 'scoop': 4347, 'underneath': 4348, 'spice': 4349, 'rhythm': 4350, 'suspicion': 4351, 'fright': 4352, 'globe': 4353, '1978': 4354, 'hackney': 4355, 'beverli': 4356, '1939': 4357, 'counterpart': 4358, 'minist': 4359, 'inmat': 4360, 'posey': 4361, 'smell': 4362, 'iv': 4363, 'immers': 4364, '75': 4365, 'worship': 4366, 'quietli': 4367, 'chavez': 4368, 'en': 4369, 'curli': 4370, 'teas': 4371, 'rub': 4372, 'secondari': 4373, 'springer': 4374, 'lectur': 4375, 'dirt': 4376, 'penn': 4377, 'cancer': 4378, 'grudg': 4379, 'couch': 4380, 'abrupt': 4381, 'brit': 4382, 'recogniz': 4383, 'literari': 4384, 'straightforward': 4385, 'choppi': 4386, 'heist': 4387, 'impos': 4388, 'leigh': 4389, 'atroc': 4390, 'paxton': 4391, 'chamberlain': 4392, '1989': 4393, 'tierney': 4394, 'entranc': 4395, 'standout': 4396, 'bread': 4397, 'ram': 4398, 'ingeni': 4399, 'wwe': 4400, 'hopkin': 4401, 'naughti': 4402, 'attenborough': 4403, 'injuri': 4404, 'policeman': 4405, 'enthral': 4406, 'heartfelt': 4407, 'nemesi': 4408, 'entitl': 4409, 'cattl': 4410, 'yearn': 4411, 'misguid': 4412, 'skeptic': 4413, 'bernard': 4414, 'duel': 4415, 'laurenc': 4416, 'morbid': 4417, 'esther': 4418, 'sublim': 4419, 'watcher': 4420, 'moreov': 4421, 'sassi': 4422, 'net': 4423, 'nolan': 4424, '1986': 4425, 'convert': 4426, 'missil': 4427, 'lindsay': 4428, 'transcend': 4429, 'variat': 4430, 'quaid': 4431, 'ace': 4432, 'geni': 4433, 'ratso': 4434, 'clan': 4435, 'moder': 4436, 'characteris': 4437, 'dont': 4438, 'poe': 4439, '1979': 4440, 'hopelessli': 4441, 'bye': 4442, 'graini': 4443, 'reliabl': 4444, 'tyler': 4445, 'obstacl': 4446, 'rosemari': 4447, 'egg': 4448, 'setup': 4449, 'spiral': 4450, 'buzz': 4451, 'out': 4452, 'facil': 4453, 'youngest': 4454, 'vader': 4455, 'mytholog': 4456, 'diari': 4457, 'carlito': 4458, 'brood': 4459, 'enabl': 4460, 'uncut': 4461, 'puppi': 4462, 'kitti': 4463, 'unexplain': 4464, 'cruelti': 4465, 'steadi': 4466, 'grin': 4467, 'artsi': 4468, 'bean': 4469, 'kidman': 4470, 'hk': 4471, 'acquaint': 4472, 'gina': 4473, 'effici': 4474, 'kline': 4475, 'oblig': 4476, 'christin': 4477, 'spontan': 4478, 'despic': 4479, 'bounc': 4480, 'underworld': 4481, 'hammi': 4482, 'weather': 4483, 'clueless': 4484, 'exterior': 4485, 'brendan': 4486, 'disastr': 4487, 'preming': 4488, 'hain': 4489, 'heap': 4490, 'narrow': 4491, 'bewar': 4492, 'athlet': 4493, 'decept': 4494, 'bronson': 4495, 'sweat': 4496, 'patricia': 4497, 'fuel': 4498, '1969': 4499, 'baffl': 4500, 'martha': 4501, 'niec': 4502, 'gillian': 4503, 'housewif': 4504, 'rome': 4505, 'taboo': 4506, 'loi': 4507, 'hepburn': 4508, 'trigger': 4509, 'analyz': 4510, 'scar': 4511, 'candl': 4512, 'enlist': 4513, 'biker': 4514, 'suprem': 4515, 'injur': 4516, 'viewpoint': 4517, 'uh': 4518, 'sleepwalk': 4519, 'shatter': 4520, 'goof': 4521, 'angst': 4522, 'dilemma': 4523, 'astound': 4524, 'outlaw': 4525, 'lester': 4526, 'tick': 4527, 'renaiss': 4528, 'headach': 4529, 'virtu': 4530, 'sooner': 4531, 'fontain': 4532, 'circu': 4533, '19': 4534, 'harmless': 4535, '73': 4536, 'preachi': 4537, 'insipid': 4538, 'dandi': 4539, 'mayhem': 4540, 'loath': 4541, 'mermaid': 4542, 'claustrophob': 4543, 'hostag': 4544, 'camcord': 4545, 'slimi': 4546, 'macho': 4547, 'boston': 4548, 'sox': 4549, 'whore': 4550, 'idol': 4551, 'oldest': 4552, 'ebert': 4553, 'redund': 4554, 'dismal': 4555, 'phenomenon': 4556, 'contempt': 4557, 'stair': 4558, 'gere': 4559, 'stimul': 4560, 'steer': 4561, 'zoom': 4562, 'cassavet': 4563, 'glorifi': 4564, 'filth': 4565, 'hooker': 4566, 'guin': 4567, 'hokey': 4568, 'foolish': 4569, 'tripl': 4570, 'salt': 4571, 'fluff': 4572, 'spade': 4573, 'corbett': 4574, 'overlong': 4575, 'surgeri': 4576, 'intric': 4577, 'amor': 4578, 'scorses': 4579, 'dish': 4580, 'immatur': 4581, 'bent': 4582, 'ariel': 4583, 'margin': 4584, '1976': 4585, 'remad': 4586, 'joker': 4587, 'trivia': 4588, 'cow': 4589, 'widescreen': 4590, 'flirt': 4591, 'nolt': 4592, 'naschi': 4593, 'zane': 4594, 'gabl': 4595, 'mutual': 4596, 'gasp': 4597, 'transplant': 4598, 'messi': 4599, 'flashi': 4600, 'preced': 4601, 'astronaut': 4602, 'shred': 4603, 'flag': 4604, 'spinal': 4605, 'obligatori': 4606, 'mount': 4607, 'muscl': 4608, 'cush': 4609, 'schlock': 4610, 'faint': 4611, '1981': 4612, 'down': 4613, 'proport': 4614, 'radiat': 4615, 'fascist': 4616, 'frantic': 4617, 'assert': 4618, 'conquer': 4619, 'antagonist': 4620, 'cohen': 4621, 'strongest': 4622, 'rhyme': 4623, 'shield': 4624, 'harold': 4625, 'alvin': 4626, 'spree': 4627, 'corman': 4628, 'keen': 4629, 'perman': 4630, 'dwarf': 4631, 'beard': 4632, 'boob': 4633, 'departur': 4634, 'interestingli': 4635, 'www': 4636, 'carey': 4637, 'triangl': 4638, 'fishburn': 4639, 'barn': 4640, 'mobil': 4641, 'bitten': 4642, 'info': 4643, 'brush': 4644, 'archiv': 4645, 'vaniti': 4646, '95': 4647, 'raj': 4648, 'resum': 4649, 'mol': 4650, 'persuad': 4651, 'sensual': 4652, 'discern': 4653, 'repris': 4654, 'neurot': 4655, 'someday': 4656, 'strive': 4657, 'hara': 4658, 'deer': 4659, 'claud': 4660, 'divin': 4661, 'danish': 4662, 'bachelor': 4663, 'flock': 4664, 'aborigin': 4665, '1945': 4666, 'off': 4667, 'instruct': 4668, 'wield': 4669, 'inflict': 4670, '28': 4671, 'ritchi': 4672, 'scandal': 4673, 'dame': 4674, 'banter': 4675, 'dim': 4676, 'hug': 4677, 'cb': 4678, 'heartwarm': 4679, 'dylan': 4680, 'harrison': 4681, 'ish': 4682, 'recit': 4683, 'earnest': 4684, 'loretta': 4685, 'luka': 4686, 'anton': 4687, 'miracul': 4688, 'cher': 4689, 'clad': 4690, 'axe': 4691, 'cycl': 4692, 'parson': 4693, 'biblic': 4694, 'colin': 4695, 'rot': 4696, 'melissa': 4697, 'kathryn': 4698, 'pacif': 4699, 'neill': 4700, 'hilar': 4701, 'bate': 4702, 'artwork': 4703, 'pixar': 4704, 'prophet': 4705, 'casino': 4706, 'mobster': 4707, 'undermin': 4708, 'proclaim': 4709, 'wendigo': 4710, 'fragil': 4711, 'traffic': 4712, 'helm': 4713, 'submit': 4714, 'europa': 4715, 'carlo': 4716, 'vibrant': 4717, 'senior': 4718, 'frontier': 4719, 'timberlak': 4720, 'cliffhang': 4721, 'hapless': 4722, 'jade': 4723, 'pickford': 4724, 'feast': 4725, 'redneck': 4726, 'misfortun': 4727, 'legitim': 4728, 'jo': 4729, 'venom': 4730, 'razor': 4731, 'estrang': 4732, 'foil': 4733, 'mason': 4734, 'nope': 4735, 'mathieu': 4736, 'breakfast': 4737, 'cerebr': 4738, 'sicken': 4739, 'static': 4740, 'jordan': 4741, 'http': 4742, 'blatantli': 4743, 'uma': 4744, 'lucil': 4745, 'flavor': 4746, 'bondag': 4747, 'toronto': 4748, 'orphan': 4749, 'bikini': 4750, 'marlon': 4751, 'token': 4752, 'wardrob': 4753, 'choke': 4754, 'eli': 4755, 'vile': 4756, 'vanessa': 4757, 'seedi': 4758, 'lui': 4759, 'electron': 4760, 'isra': 4761, 'illus': 4762, 'winchest': 4763, 'rooki': 4764, 'aris': 4765, 'holocaust': 4766, 'akin': 4767, 'shepherd': 4768, 'trier': 4769, 'northern': 4770, 'articl': 4771, 'pc': 4772, 'milo': 4773, 'antholog': 4774, 'alexandr': 4775, 'frog': 4776, 'charlton': 4777, 'deem': 4778, 'audrey': 4779, 'gunga': 4780, 'shorter': 4781, 'comprehend': 4782, 'disregard': 4783, 'ceremoni': 4784, 'retriev': 4785, 'wrestler': 4786, 'ideolog': 4787, 'styliz': 4788, 'tack': 4789, 'clinic': 4790, 'psych': 4791, 'affleck': 4792, 'glare': 4793, 'feminin': 4794, 'fifth': 4795, 'leather': 4796, 'turd': 4797, 'howl': 4798, 'magician': 4799, 'huston': 4800, 'abund': 4801, 'linear': 4802, 'swept': 4803, 'outdat': 4804, 'dudley': 4805, 'cartoonish': 4806, 'boyer': 4807, 'highway': 4808, 'smack': 4809, 'nightclub': 4810, 'oppon': 4811, 'peer': 4812, 'knightley': 4813, 'gilbert': 4814, 'monument': 4815, 'senat': 4816, 'cuban': 4817, 'bogu': 4818, '1991': 4819, 'boo': 4820, 'newer': 4821, 'summar': 4822, 'whack': 4823, 'compris': 4824, '1994': 4825, 'phenomen': 4826, 'mitch': 4827, 'lavish': 4828, 'spine': 4829, 'cemeteri': 4830, 'moe': 4831, 'collector': 4832, 'evolut': 4833, 'salman': 4834, 'bastard': 4835, 'chip': 4836, 'plate': 4837, 'sleaz': 4838, 'toe': 4839, 'spawn': 4840, 'conrad': 4841, 'deliver': 4842, 'lighter': 4843, 'lifeless': 4844, 'corn': 4845, 'durat': 4846, 'energet': 4847, 'braveheart': 4848, 'btw': 4849, 'snatch': 4850, 'uniformli': 4851, 'potter': 4852, '4th': 4853, 'breakdown': 4854, 'einstein': 4855, 'client': 4856, 'greet': 4857, 'tara': 4858, 'goldsworthi': 4859, 'kent': 4860, 'ol': 4861, 'clara': 4862, 'liu': 4863, 'eleven': 4864, 'luxuri': 4865, 'jedi': 4866, 'judd': 4867, 'wtf': 4868, 'signal': 4869, 'sorrow': 4870, 'outright': 4871, '1974': 4872, 'constitut': 4873, 'alleg': 4874, 'bulk': 4875, 'bori': 4876, 'jule': 4877, 'replay': 4878, 'historian': 4879, 'embark': 4880, 'firmli': 4881, 'jam': 4882, 'fluid': 4883, 'inaccuraci': 4884, 'jare': 4885, 'spectacl': 4886, 'mcqueen': 4887, 'nina': 4888, '1977': 4889, 'healthi': 4890, 'neatli': 4891, 'lex': 4892, 'undertak': 4893, 'gilliam': 4894, 'occup': 4895, 'undead': 4896, 'capot': 4897, 'ie': 4898, 'trauma': 4899, 'pronounc': 4900, 'cecil': 4901, 'appl': 4902, 'creek': 4903, 'belli': 4904, 'evelyn': 4905, 'kazan': 4906, 'randolph': 4907, 'armstrong': 4908, 'goldblum': 4909, 'unsuspect': 4910, 'genet': 4911, 'inaccur': 4912, 'antonio': 4913, 'rosario': 4914, 'walt': 4915, 'curtain': 4916, 'palm': 4917, 'abound': 4918, 'decapit': 4919, 'relentless': 4920, 'vignett': 4921, 'kiddi': 4922, 'inclus': 4923, 'bait': 4924, 'unattract': 4925, 'cape': 4926, 'vain': 4927, 'tokyo': 4928, 'groan': 4929, 'blur': 4930, 'mum': 4931, 'knee': 4932, 'bsg': 4933, 'truman': 4934, 'sacrif': 4935, 'forgiven': 4936, 'lauren': 4937, 'id': 4938, 'pioneer': 4939, 'fruit': 4940, 'comprehens': 4941, 'lanc': 4942, 'galaxi': 4943, 'roar': 4944, 'ash': 4945, 'meal': 4946, 'basket': 4947, 'sidewalk': 4948, '1985': 4949, 'congratul': 4950, 'comb': 4951, 'conan': 4952, 'porter': 4953, 'pepper': 4954, 'aussi': 4955, 'subtli': 4956, 'poker': 4957, 'propheci': 4958, 'miami': 4959, 'spray': 4960, 'miniseri': 4961, 'paula': 4962, 'carmen': 4963, 'scarfac': 4964, 'modest': 4965, 'evan': 4966, 'motorcycl': 4967, 'reincarn': 4968, 'frontal': 4969, 'rapidli': 4970, 'epitom': 4971, 'dubiou': 4972, 'drone': 4973, 'detach': 4974, 'substanti': 4975, 'sophi': 4976, 'incorrect': 4977, 'turtl': 4978, 'mice': 4979, 'weari': 4980, 'optimist': 4981, 'profil': 4982, 'omin': 4983, 'vastli': 4984, 'masterson': 4985, 'asset': 4986, '21st': 4987, 'assort': 4988, 'hackman': 4989, 'verg': 4990, 'victorian': 4991, 'bravo': 4992, 'playboy': 4993, 'weaker': 4994, 'handicap': 4995, 'monti': 4996, 'ghetto': 4997, 'orchestr': 4998, 'scariest': 4999}\n"
     ]
    }
   ],
   "source": [
    "# TODO: Use this space to determine the five most frequently appearing words in the training set.\n",
    "print (word_dict)"
   ]
  },
  {
   "cell_type": "markdown",
   "metadata": {},
   "source": [
    "### Save `word_dict`\n",
    "\n",
    "Later on when we construct an endpoint which processes a submitted review we will need to make use of the `word_dict` which we have created. As such, we will save it to a file now for future use."
   ]
  },
  {
   "cell_type": "code",
   "execution_count": 17,
   "metadata": {},
   "outputs": [],
   "source": [
    "data_dir = '../data/pytorch' # The folder we will use for storing data\n",
    "if not os.path.exists(data_dir): # Make sure that the folder exists\n",
    "    os.makedirs(data_dir)"
   ]
  },
  {
   "cell_type": "code",
   "execution_count": 18,
   "metadata": {},
   "outputs": [],
   "source": [
    "with open(os.path.join(data_dir, 'word_dict.pkl'), \"wb\") as f:\n",
    "    pickle.dump(word_dict, f)"
   ]
  },
  {
   "cell_type": "markdown",
   "metadata": {},
   "source": [
    "### Transform the reviews\n",
    "\n",
    "Now that we have our word dictionary which allows us to transform the words appearing in the reviews into integers, it is time to make use of it and convert our reviews to their integer sequence representation, making sure to pad or truncate to a fixed length, which in our case is `500`."
   ]
  },
  {
   "cell_type": "code",
   "execution_count": 19,
   "metadata": {},
   "outputs": [],
   "source": [
    "def convert_and_pad(word_dict, sentence, pad=500):\n",
    "    NOWORD = 0 # We will use 0 to represent the 'no word' category\n",
    "    INFREQ = 1 # and we use 1 to represent the infrequent words, i.e., words not appearing in word_dict\n",
    "    \n",
    "    working_sentence = [NOWORD] * pad\n",
    "    \n",
    "    for word_index, word in enumerate(sentence[:pad]):\n",
    "        if word in word_dict:\n",
    "            working_sentence[word_index] = word_dict[word]\n",
    "        else:\n",
    "            working_sentence[word_index] = INFREQ\n",
    "            \n",
    "    return working_sentence, min(len(sentence), pad)\n",
    "\n",
    "def convert_and_pad_data(word_dict, data, pad=500):\n",
    "    result = []\n",
    "    lengths = []\n",
    "    \n",
    "    for sentence in data:\n",
    "        converted, leng = convert_and_pad(word_dict, sentence, pad)\n",
    "        result.append(converted)\n",
    "        lengths.append(leng)\n",
    "        \n",
    "    return np.array(result), np.array(lengths)"
   ]
  },
  {
   "cell_type": "code",
   "execution_count": 20,
   "metadata": {},
   "outputs": [],
   "source": [
    "train_X, train_X_len = convert_and_pad_data(word_dict, train_X)\n",
    "test_X, test_X_len = convert_and_pad_data(word_dict, test_X)"
   ]
  },
  {
   "cell_type": "markdown",
   "metadata": {},
   "source": [
    "As a quick check to make sure that things are working as intended, check to see what one of the reviews in the training set looks like after having been processeed. Does this look reasonable? What is the length of a review in the training set?"
   ]
  },
  {
   "cell_type": "code",
   "execution_count": 21,
   "metadata": {},
   "outputs": [
    {
     "name": "stdout",
     "output_type": "stream",
     "text": [
      "[2354 1284 1806  993    1    1   34   19  782  677  239  665 4144    3\n",
      "  237  287 3971    1   51   10    3    1  463 4272  184 1887 2990 2444\n",
      "   14  169 3176  470 1806   88 3176  470 1806   32 3176  470 1806   97\n",
      "   17   10  180    1  122  545    1 2708  315  178   62   21  153 3971\n",
      "    1   51   37   21  474  823  440    1 1138    1    1  138   15  181\n",
      "  503  181   49  114 3206   10    1    1    9  311  439 4555  145    0\n",
      "    0    0    0    0    0    0    0    0    0    0    0    0    0    0\n",
      "    0    0    0    0    0    0    0    0    0    0    0    0    0    0\n",
      "    0    0    0    0    0    0    0    0    0    0    0    0    0    0\n",
      "    0    0    0    0    0    0    0    0    0    0    0    0    0    0\n",
      "    0    0    0    0    0    0    0    0    0    0    0    0    0    0\n",
      "    0    0    0    0    0    0    0    0    0    0    0    0    0    0\n",
      "    0    0    0    0    0    0    0    0    0    0    0    0    0    0\n",
      "    0    0    0    0    0    0    0    0    0    0    0    0    0    0\n",
      "    0    0    0    0    0    0    0    0    0    0    0    0    0    0\n",
      "    0    0    0    0    0    0    0    0    0    0    0    0    0    0\n",
      "    0    0    0    0    0    0    0    0    0    0    0    0    0    0\n",
      "    0    0    0    0    0    0    0    0    0    0    0    0    0    0\n",
      "    0    0    0    0    0    0    0    0    0    0    0    0    0    0\n",
      "    0    0    0    0    0    0    0    0    0    0    0    0    0    0\n",
      "    0    0    0    0    0    0    0    0    0    0    0    0    0    0\n",
      "    0    0    0    0    0    0    0    0    0    0    0    0    0    0\n",
      "    0    0    0    0    0    0    0    0    0    0    0    0    0    0\n",
      "    0    0    0    0    0    0    0    0    0    0    0    0    0    0\n",
      "    0    0    0    0    0    0    0    0    0    0    0    0    0    0\n",
      "    0    0    0    0    0    0    0    0    0    0    0    0    0    0\n",
      "    0    0    0    0    0    0    0    0    0    0    0    0    0    0\n",
      "    0    0    0    0    0    0    0    0    0    0    0    0    0    0\n",
      "    0    0    0    0    0    0    0    0    0    0    0    0    0    0\n",
      "    0    0    0    0    0    0    0    0    0    0    0    0    0    0\n",
      "    0    0    0    0    0    0    0    0    0    0    0    0    0    0\n",
      "    0    0    0    0    0    0    0    0    0    0    0    0    0    0\n",
      "    0    0    0    0    0    0    0    0    0    0    0    0    0    0\n",
      "    0    0    0    0    0    0    0    0    0    0    0    0    0    0\n",
      "    0    0    0    0    0    0    0    0    0    0    0    0    0    0\n",
      "    0    0    0    0    0    0    0    0    0    0]\n"
     ]
    }
   ],
   "source": [
    "# Use this cell to examine one of the processed reviews to make sure everything is working as intended.\n",
    "print(train_X[845])\n"
   ]
  },
  {
   "cell_type": "markdown",
   "metadata": {},
   "source": [
    "**Question:** In the cells above we use the `preprocess_data` and `convert_and_pad_data` methods to process both the training and testing set. Why or why not might this be a problem?"
   ]
  },
  {
   "cell_type": "markdown",
   "metadata": {},
   "source": [
    "**Answer:**two different train_X configurations have been generated. Preprocessed_data are all in words and have different length of words, convert_and_pad_data are in integer in the form of vocab frequencies which have a fixed number of words as long as the word ddictionary. Processing the latter will require more memory. "
   ]
  },
  {
   "cell_type": "markdown",
   "metadata": {},
   "source": [
    "## Step 3: Upload the data to S3\n",
    "\n",
    "As in the XGBoost notebook, we will need to upload the training dataset to S3 in order for our training code to access it. For now we will save it locally and we will upload to S3 later on.\n",
    "\n",
    "### Save the processed training dataset locally\n",
    "\n",
    "It is important to note the format of the data that we are saving as we will need to know it when we write the training code. In our case, each row of the dataset has the form `label`, `length`, `review[500]` where `review[500]` is a sequence of `500` integers representing the words in the review."
   ]
  },
  {
   "cell_type": "code",
   "execution_count": 22,
   "metadata": {},
   "outputs": [],
   "source": [
    "import pandas as pd\n",
    "    \n",
    "pd.concat([pd.DataFrame(train_y), pd.DataFrame(train_X_len), pd.DataFrame(train_X)], axis=1) \\\n",
    "        .to_csv(os.path.join(data_dir, 'train.csv'), header=False, index=False)"
   ]
  },
  {
   "cell_type": "markdown",
   "metadata": {},
   "source": [
    "### Uploading the training data\n",
    "\n",
    "\n",
    "Next, we need to upload the training data to the SageMaker default S3 bucket so that we can provide access to it while training our model."
   ]
  },
  {
   "cell_type": "code",
   "execution_count": 23,
   "metadata": {},
   "outputs": [],
   "source": [
    "import sagemaker\n",
    "\n",
    "sagemaker_session = sagemaker.Session()\n",
    "\n",
    "bucket = sagemaker_session.default_bucket()\n",
    "prefix = 'sagemaker/sentiment_rnn'\n",
    "\n",
    "role = sagemaker.get_execution_role()"
   ]
  },
  {
   "cell_type": "code",
   "execution_count": 24,
   "metadata": {},
   "outputs": [],
   "source": [
    "input_data = sagemaker_session.upload_data(path=data_dir, bucket=bucket, key_prefix=prefix)"
   ]
  },
  {
   "cell_type": "markdown",
   "metadata": {},
   "source": [
    "**NOTE:** The cell above uploads the entire contents of our data directory. This includes the `word_dict.pkl` file. This is fortunate as we will need this later on when we create an endpoint that accepts an arbitrary review. For now, we will just take note of the fact that it resides in the data directory (and so also in the S3 training bucket) and that we will need to make sure it gets saved in the model directory."
   ]
  },
  {
   "cell_type": "markdown",
   "metadata": {},
   "source": [
    "## Step 4: Build and Train the PyTorch Model\n",
    "\n",
    "In the XGBoost notebook we discussed what a model is in the SageMaker framework. In particular, a model comprises three objects\n",
    "\n",
    " - Model Artifacts,\n",
    " - Training Code, and\n",
    " - Inference Code,\n",
    " \n",
    "each of which interact with one another. In the XGBoost example we used training and inference code that was provided by Amazon. Here we will still be using containers provided by Amazon with the added benefit of being able to include our own custom code.\n",
    "\n",
    "We will start by implementing our own neural network in PyTorch along with a training script. For the purposes of this project we have provided the necessary model object in the `model.py` file, inside of the `train` folder. You can see the provided implementation by running the cell below."
   ]
  },
  {
   "cell_type": "code",
   "execution_count": 25,
   "metadata": {},
   "outputs": [
    {
     "name": "stdout",
     "output_type": "stream",
     "text": [
      "\u001b[34mimport\u001b[39;49;00m \u001b[04m\u001b[36mtorch.nn\u001b[39;49;00m \u001b[34mas\u001b[39;49;00m \u001b[04m\u001b[36mnn\u001b[39;49;00m\r\n",
      "\r\n",
      "\u001b[34mclass\u001b[39;49;00m \u001b[04m\u001b[32mLSTMClassifier\u001b[39;49;00m(nn.Module):\r\n",
      "    \u001b[33m\"\"\"\u001b[39;49;00m\r\n",
      "\u001b[33m    This is the simple RNN model we will be using to perform Sentiment Analysis.\u001b[39;49;00m\r\n",
      "\u001b[33m    \"\"\"\u001b[39;49;00m\r\n",
      "\r\n",
      "    \u001b[34mdef\u001b[39;49;00m \u001b[32m__init__\u001b[39;49;00m(\u001b[36mself\u001b[39;49;00m, embedding_dim, hidden_dim, vocab_size):\r\n",
      "        \u001b[33m\"\"\"\u001b[39;49;00m\r\n",
      "\u001b[33m        Initialize the model by settingg up the various layers.\u001b[39;49;00m\r\n",
      "\u001b[33m        \"\"\"\u001b[39;49;00m\r\n",
      "        \u001b[36msuper\u001b[39;49;00m(LSTMClassifier, \u001b[36mself\u001b[39;49;00m).\u001b[32m__init__\u001b[39;49;00m()\r\n",
      "\r\n",
      "        \u001b[36mself\u001b[39;49;00m.embedding = nn.Embedding(vocab_size, embedding_dim, padding_idx=\u001b[34m0\u001b[39;49;00m)\r\n",
      "        \u001b[36mself\u001b[39;49;00m.lstm = nn.LSTM(embedding_dim, hidden_dim)\r\n",
      "        \u001b[36mself\u001b[39;49;00m.dense = nn.Linear(in_features=hidden_dim, out_features=\u001b[34m1\u001b[39;49;00m)\r\n",
      "        \u001b[36mself\u001b[39;49;00m.sig = nn.Sigmoid()\r\n",
      "        \r\n",
      "        \u001b[36mself\u001b[39;49;00m.word_dict = \u001b[36mNone\u001b[39;49;00m\r\n",
      "\r\n",
      "    \u001b[34mdef\u001b[39;49;00m \u001b[32mforward\u001b[39;49;00m(\u001b[36mself\u001b[39;49;00m, x):\r\n",
      "        \u001b[33m\"\"\"\u001b[39;49;00m\r\n",
      "\u001b[33m        Perform a forward pass of our model on some input.\u001b[39;49;00m\r\n",
      "\u001b[33m        \"\"\"\u001b[39;49;00m\r\n",
      "        x = x.t()\r\n",
      "        lengths = x[\u001b[34m0\u001b[39;49;00m,:]\r\n",
      "        reviews = x[\u001b[34m1\u001b[39;49;00m:,:]\r\n",
      "        embeds = \u001b[36mself\u001b[39;49;00m.embedding(reviews)\r\n",
      "        lstm_out, _ = \u001b[36mself\u001b[39;49;00m.lstm(embeds)\r\n",
      "        out = \u001b[36mself\u001b[39;49;00m.dense(lstm_out)\r\n",
      "        out = out[lengths - \u001b[34m1\u001b[39;49;00m, \u001b[36mrange\u001b[39;49;00m(\u001b[36mlen\u001b[39;49;00m(lengths))]\r\n",
      "        \u001b[34mreturn\u001b[39;49;00m \u001b[36mself\u001b[39;49;00m.sig(out.squeeze())\r\n"
     ]
    }
   ],
   "source": [
    "!pygmentize train/model.py"
   ]
  },
  {
   "cell_type": "markdown",
   "metadata": {},
   "source": [
    "# The important takeaway from the implementation provided is that there are three parameters that we may wish to tweak to improve the performance of our model. These are the embedding dimension, the hidden dimension and the size of the vocabulary. We will likely want to make these parameters configurable in the training script so that if we wish to modify them we do not need to modify the script itself. We will see how to do this later on. To start we will write some of the training code in the notebook so that we can more easily diagnose any issues that arise.\n",
    "\n",
    "First we will load a small portion of the training data set to use as a sample. It would be very time consuming to try and train the model completely in the notebook as we do not have access to a gpu and the compute instance that we are using is not particularly powerful. However, we can work on a small bit of the data to get a feel for how our training script is behaving."
   ]
  },
  {
   "cell_type": "code",
   "execution_count": 37,
   "metadata": {},
   "outputs": [
    {
     "name": "stdout",
     "output_type": "stream",
     "text": [
      "0      1\n",
      "1      0\n",
      "2      1\n",
      "3      1\n",
      "4      0\n",
      "5      0\n",
      "6      1\n",
      "7      1\n",
      "8      0\n",
      "9      1\n",
      "10     0\n",
      "11     0\n",
      "12     1\n",
      "13     0\n",
      "14     1\n",
      "15     0\n",
      "16     1\n",
      "17     0\n",
      "18     1\n",
      "19     0\n",
      "20     0\n",
      "21     0\n",
      "22     1\n",
      "23     0\n",
      "24     0\n",
      "25     0\n",
      "26     1\n",
      "27     0\n",
      "28     1\n",
      "29     1\n",
      "      ..\n",
      "220    0\n",
      "221    1\n",
      "222    1\n",
      "223    0\n",
      "224    1\n",
      "225    0\n",
      "226    0\n",
      "227    0\n",
      "228    0\n",
      "229    0\n",
      "230    1\n",
      "231    1\n",
      "232    0\n",
      "233    0\n",
      "234    1\n",
      "235    0\n",
      "236    1\n",
      "237    0\n",
      "238    1\n",
      "239    1\n",
      "240    1\n",
      "241    0\n",
      "242    0\n",
      "243    1\n",
      "244    1\n",
      "245    0\n",
      "246    0\n",
      "247    1\n",
      "248    0\n",
      "249    1\n",
      "Name: 0, Length: 250, dtype: int64\n",
      "     1     2     3     4     5     6     7     8     9     10   ...  492  493  \\\n",
      "0     61  1500   423   156    10   294   180    30   354   328  ...    0    0   \n",
      "1     39    96   622  3311     2   399   486    32     1    24  ...    0    0   \n",
      "2     79   171   154   130    38     2   439   205   586    30  ...    0    0   \n",
      "3     12  3638   363   130    37    15    59  2554    44   231  ...    0    0   \n",
      "4    102   622   769  1615  1820   321  3706     1  3961   409  ...    0    0   \n",
      "5     75     2   312   309     1  1074     6  1074     4    56  ...    0    0   \n",
      "6    230  1540  1369  3237  2336  4815  2394   332   591  1627  ...    0    0   \n",
      "7     63  2325    43   126  1243  4214   524  2759   236   329  ...    0    0   \n",
      "8    119   718   207     1   233   131   718    23     1   233  ...    0    0   \n",
      "9    301    28  1516   411     1    57     3   635    76   394  ...    0    0   \n",
      "10    96    11   863    19     5    26   557   752   825    61  ...    0    0   \n",
      "11    93     1    91  1083   566   105     1     1   904  1554  ...    0    0   \n",
      "12   380   241    66  1261    50   171  1144    50   171   241  ...    0    0   \n",
      "13   164   306    58   896     2  2038    87     1   332   174  ...    0    0   \n",
      "14    93   116    33  4506   370  3994     5    38     1     1  ...    0    0   \n",
      "15    43  1446  2085    53   378    43  1204  1434     1     1  ...    0    0   \n",
      "16    71     3    26    32    26  1278   494    13   117    16  ...    0    0   \n",
      "17   176  1859  1563  1391  1806   198     1   138    29    63  ...    0    0   \n",
      "18    35   505  1239   553   696    11    14  3050    44   231  ...    0    0   \n",
      "19   130   454   238   148   438    12   105    73   253  3377  ...    0    0   \n",
      "20    73  3068  4059    19     7   907   106   119    33  3068  ...    0    0   \n",
      "21   150   152  2851   358     3   285   618  1194    76   211  ...    0    0   \n",
      "22   184     1  1723  3665     1  3606   485     1     1     1  ...    0    0   \n",
      "23    59  4509    55   300   186     1     2    56    47    49  ...    0    0   \n",
      "24   288    12     3   245    42   440     3     8     1     9  ...    0    0   \n",
      "25    56    68   135  2316     1  1391    56   135    90  2316  ...    0    0   \n",
      "26   109   735  1000  3265  2396  1599  1213   753  1369    45  ...    0    0   \n",
      "27    61    13     3   543   202   841    25    61    89   610  ...    0    0   \n",
      "28    64    17  1102   561     1  2143    10     1    93   842  ...    0    0   \n",
      "29    66    13     9    53    56    47  1192     7     1   373  ...    0    0   \n",
      "..   ...   ...   ...   ...   ...   ...   ...   ...   ...   ...  ...  ...  ...   \n",
      "220  272    16     5    20   655     6   419  1462  1935    37  ...    0    0   \n",
      "221  125   363     1   358   328    77     2   105   734   126  ...    0    0   \n",
      "222  319     3   202  3618     3    90    76   199  2048  2263  ...    0    0   \n",
      "223  470   236     2   129   642    15  1633   786    18  4154  ...    0    0   \n",
      "224   38  2940   400   358   328   342  1653   133     1  1636  ...    0    0   \n",
      "225  228   107   290     1     1  4827  1350  2011     1  1897  ...    0    0   \n",
      "226  102   108  2507   360   463   295   343    97  4646   784  ...    0    0   \n",
      "227   73   554   123     1     1    29  4833     5     1  1107  ...    0    0   \n",
      "228  201   287     3   134    28   252   239    68   106   466  ...    0    0   \n",
      "229   92   897   105  1308    24   938    82  1406   530  1151  ...    0    0   \n",
      "230  229   213     1   624    44  3686  1123     1   311     4  ...    0    0   \n",
      "231   61  2443   356   403   128  2443   123     2     1  2443  ...    0    0   \n",
      "232  105  1468   534   674   125   534   107   118  4315  3365  ...    0    0   \n",
      "233  101    51     1   356    48   222    43   140   224     3  ...    0    0   \n",
      "234   74    15    29   329     3  2141  1033   131     1  4927  ...    0    0   \n",
      "235  215    16    50    12     4    39    72  4648     1     2  ...    0    0   \n",
      "236  150   587    36   568   145  1603    16   303   113  1882  ...    0    0   \n",
      "237   49   224    49    67  1022    23    62   122     8  3019  ...    0    0   \n",
      "238   69    53   267     3    56   331   772   267   765  1052  ...    0    0   \n",
      "239   75     2    26   257    18   205    32    52  2196    50  ...    0    0   \n",
      "240  470   294     1   347    55   245    66     1   131   143  ...    0    0   \n",
      "241  205   130     1  1717  2503   485   472  1669     3   161  ...    0    0   \n",
      "242  100     3   376   662   397   985   154   516   217    86  ...    0    0   \n",
      "243   72  1419  2011  1963  1369  1175   104  2938   573   675  ...    0    0   \n",
      "244  325  2332  1846  1136   162   131    50   352   235   811  ...    0    0   \n",
      "245   63    68     2  1009   102   851   847   494   993  1527  ...    0    0   \n",
      "246  180   398   297  1389   172    11     1    52  1894  1149  ...    0    0   \n",
      "247   64     7     6   519   130    11  4678   382   411   100  ...    0    0   \n",
      "248   73  2806    39     1   102   345  2140     3   478  2736  ...    0    0   \n",
      "249   28     3     7     9   222    60    73   542     1     1  ...    0    0   \n",
      "\n",
      "     494  495  496  497  498  499  500  501  \n",
      "0      0    0    0    0    0    0    0    0  \n",
      "1      0    0    0    0    0    0    0    0  \n",
      "2      0    0    0    0    0    0    0    0  \n",
      "3      0    0    0    0    0    0    0    0  \n",
      "4      0    0    0    0    0    0    0    0  \n",
      "5      0    0    0    0    0    0    0    0  \n",
      "6      0    0    0    0    0    0    0    0  \n",
      "7      0    0    0    0    0    0    0    0  \n",
      "8      0    0    0    0    0    0    0    0  \n",
      "9      0    0    0    0    0    0    0    0  \n",
      "10     0    0    0    0    0    0    0    0  \n",
      "11     0    0    0    0    0    0    0    0  \n",
      "12     0    0    0    0    0    0    0    0  \n",
      "13     0    0    0    0    0    0    0    0  \n",
      "14     0    0    0    0    0    0    0    0  \n",
      "15     0    0    0    0    0    0    0    0  \n",
      "16     0    0    0    0    0    0    0    0  \n",
      "17     0    0    0    0    0    0    0    0  \n",
      "18     0    0    0    0    0    0    0    0  \n",
      "19     0    0    0    0    0    0    0    0  \n",
      "20     0    0    0    0    0    0    0    0  \n",
      "21     0    0    0    0    0    0    0    0  \n",
      "22     0    0    0    0    0    0    0    0  \n",
      "23     0    0    0    0    0    0    0    0  \n",
      "24     0    0    0    0    0    0    0    0  \n",
      "25     0    0    0    0    0    0    0    0  \n",
      "26     0    0    0    0    0    0    0    0  \n",
      "27     0    0    0    0    0    0    0    0  \n",
      "28     0    0    0    0    0    0    0    0  \n",
      "29     0    0    0    0    0    0    0    0  \n",
      "..   ...  ...  ...  ...  ...  ...  ...  ...  \n",
      "220    0    0    0    0    0    0    0    0  \n",
      "221    0    0    0    0    0    0    0    0  \n",
      "222    0    0    0    0    0    0    0    0  \n",
      "223    0    0    0    0    0    0    0    0  \n",
      "224    0    0    0    0    0    0    0    0  \n",
      "225    0    0    0    0    0    0    0    0  \n",
      "226    0    0    0    0    0    0    0    0  \n",
      "227    0    0    0    0    0    0    0    0  \n",
      "228    0    0    0    0    0    0    0    0  \n",
      "229    0    0    0    0    0    0    0    0  \n",
      "230    0    0    0    0    0    0    0    0  \n",
      "231    0    0    0    0    0    0    0    0  \n",
      "232    0    0    0    0    0    0    0    0  \n",
      "233    0    0    0    0    0    0    0    0  \n",
      "234    0    0    0    0    0    0    0    0  \n",
      "235    0    0    0    0    0    0    0    0  \n",
      "236    0    0    0    0    0    0    0    0  \n",
      "237    0    0    0    0    0    0    0    0  \n",
      "238    0    0    0    0    0    0    0    0  \n",
      "239    0    0    0    0    0    0    0    0  \n",
      "240    0    0    0    0    0    0    0    0  \n",
      "241    0    0    0    0    0    0    0    0  \n",
      "242    0    0    0    0    0    0    0    0  \n",
      "243    0    0    0    0    0    0    0    0  \n",
      "244    0    0    0    0    0    0    0    0  \n",
      "245    0    0    0    0    0    0    0    0  \n",
      "246    0    0    0    0    0    0    0    0  \n",
      "247    0    0    0    0    0    0    0    0  \n",
      "248    0    0    0    0    0    0    0    0  \n",
      "249    0    0    0    0    0    0    0    0  \n",
      "\n",
      "[250 rows x 501 columns]\n",
      "tensor([1., 0., 1., 1., 0., 0., 1., 1., 0., 1., 0., 0., 1., 0., 1., 0., 1., 0.,\n",
      "        1., 0., 0., 0., 1., 0., 0., 0., 1., 0., 1., 1., 1., 1., 1., 1., 1., 0.,\n",
      "        1., 1., 0., 0., 0., 1., 1., 0., 1., 1., 0., 0., 1., 0., 0., 1., 1., 0.,\n",
      "        1., 0., 1., 1., 0., 1., 1., 1., 0., 1., 1., 0., 1., 0., 0., 1., 1., 1.,\n",
      "        1., 0., 1., 0., 1., 0., 1., 1., 0., 0., 1., 0., 1., 1., 1., 0., 0., 0.,\n",
      "        0., 1., 0., 0., 0., 0., 1., 0., 1., 0., 1., 0., 0., 1., 0., 1., 1., 0.,\n",
      "        0., 0., 0., 0., 1., 0., 1., 0., 1., 0., 1., 1., 0., 0., 1., 0., 1., 0.,\n",
      "        1., 1., 0., 1., 1., 1., 1., 0., 0., 1., 0., 0., 1., 1., 0., 1., 0., 1.,\n",
      "        1., 1., 0., 1., 0., 1., 0., 0., 0., 0., 0., 0., 0., 1., 0., 1., 0., 1.,\n",
      "        0., 0., 0., 0., 1., 1., 0., 1., 1., 0., 1., 0., 0., 0., 1., 0., 0., 0.,\n",
      "        0., 1., 0., 1., 0., 0., 1., 1., 0., 0., 1., 0., 0., 1., 0., 0., 1., 1.,\n",
      "        1., 1., 0., 1., 0., 0., 1., 0., 0., 0., 1., 0., 0., 0., 0., 0., 1., 1.,\n",
      "        0., 0., 1., 0., 0., 1., 1., 0., 1., 0., 0., 0., 0., 0., 1., 1., 0., 0.,\n",
      "        1., 0., 1., 0., 1., 1., 1., 0., 0., 1., 1., 0., 0., 1., 0., 1.])\n",
      "tensor([[  61, 1500,  423,  ...,    0,    0,    0],\n",
      "        [  39,   96,  622,  ...,    0,    0,    0],\n",
      "        [  79,  171,  154,  ...,    0,    0,    0],\n",
      "        ...,\n",
      "        [  64,    7,    6,  ...,    0,    0,    0],\n",
      "        [  73, 2806,   39,  ...,    0,    0,    0],\n",
      "        [  28,    3,    7,  ...,    0,    0,    0]])\n"
     ]
    }
   ],
   "source": [
    "import torch\n",
    "import torch.utils.data\n",
    "\n",
    "# Read in only the first 250 rows\n",
    "train_sample = pd.read_csv(os.path.join(data_dir, 'train.csv'), header=None, names=None, nrows=250)\n",
    "print(train_sample[0])\n",
    "print(train_sample.drop([0],axis=1))\n",
    "# Turn the input pandas dataframe into tensors\n",
    "train_sample_y = torch.from_numpy(train_sample[[0]].values).float().squeeze()\n",
    "train_sample_X = torch.from_numpy(train_sample.drop([0], axis=1).values).long()\n",
    "\n",
    "print (train_sample_y)\n",
    "print (train_sample_X)\n",
    "# Build the dataset\n",
    "train_sample_ds = torch.utils.data.TensorDataset(train_sample_X, train_sample_y)\n",
    "# Build the dataloader\n",
    "train_sample_dl = torch.utils.data.DataLoader(train_sample_ds, batch_size=50)"
   ]
  },
  {
   "cell_type": "markdown",
   "metadata": {},
   "source": [
    "### (TODO) Writing the training method\n",
    "\n",
    "Next we need to write the training code itself. This should be very similar to training methods that you have written before to train PyTorch models. We will leave any difficult aspects such as model saving / loading and parameter loading until a little later."
   ]
  },
  {
   "cell_type": "code",
   "execution_count": 46,
   "metadata": {},
   "outputs": [],
   "source": [
    "def train(model, train_loader, epochs, optimizer, loss_fn, device):\n",
    "    for epoch in range(1, epochs + 1):   # loop the dataset multiple times\n",
    "        model.train()\n",
    "        total_loss = 0\n",
    "        for batch in train_loader:         # get the inputs\n",
    "            batch_X, batch_y = batch\n",
    "            \n",
    "            batch_X = batch_X.to(device)\n",
    "            batch_y = batch_y.to(device)\n",
    "            \n",
    "            # TODO: Complete this train method to train the model provided.\n",
    "\n",
    "            # zero the parameter gradients\n",
    "            optimizer.zero_grad()\n",
    "            # forward + backward + optimize\n",
    "            out = model.forward(batch_X)\n",
    "            loss = loss_fn(out, batch_y)\n",
    "            loss.backward()\n",
    "            optimizer.step()\n",
    "            \n",
    "            total_loss += loss.data.item()\n",
    "        print(\"Epoch: {}, BCELoss: {}\".format(epoch, total_loss / len(train_loader)))"
   ]
  },
  {
   "cell_type": "markdown",
   "metadata": {},
   "source": [
    "Supposing we have the training method above, we will test that it is working by writing a bit of code in the notebook that executes our training method on the small sample training set that we loaded earlier. The reason for doing this in the notebook is so that we have an opportunity to fix any errors that arise early when they are easier to diagnose."
   ]
  },
  {
   "cell_type": "code",
   "execution_count": 47,
   "metadata": {},
   "outputs": [
    {
     "name": "stdout",
     "output_type": "stream",
     "text": [
      "Epoch: 1, BCELoss: 0.6935962796211242\n",
      "Epoch: 2, BCELoss: 0.6838056325912476\n",
      "Epoch: 3, BCELoss: 0.6749365448951721\n",
      "Epoch: 4, BCELoss: 0.6646724581718445\n",
      "Epoch: 5, BCELoss: 0.6512253880500793\n"
     ]
    }
   ],
   "source": [
    "import torch.optim as optim\n",
    "from train.model import LSTMClassifier\n",
    "\n",
    "device = torch.device(\"cuda\" if torch.cuda.is_available() else \"cpu\")\n",
    "model = LSTMClassifier(32, 100, 5000).to(device)\n",
    "optimizer = optim.Adam(model.parameters())\n",
    "loss_fn = torch.nn.BCELoss()\n",
    "\n",
    "train(model, train_sample_dl, 5, optimizer, loss_fn, device)"
   ]
  },
  {
   "cell_type": "markdown",
   "metadata": {},
   "source": [
    "In order to construct a PyTorch model using SageMaker we must provide SageMaker with a training script. We may optionally include a directory which will be copied to the container and from which our training code will be run. When the training container is executed it will check the uploaded directory (if there is one) for a `requirements.txt` file and install any required Python libraries, after which the training script will be run."
   ]
  },
  {
   "cell_type": "markdown",
   "metadata": {},
   "source": [
    "### (TODO) Training the model\n",
    "\n",
    "When a PyTorch model is constructed in SageMaker, an entry point must be specified. This is the Python file which will be executed when the model is trained. Inside of the `train` directory is a file called `train.py` which has been provided and which contains most of the necessary code to train our model. The only thing that is missing is the implementation of the `train()` method which you wrote earlier in this notebook.\n",
    "\n",
    "**TODO**: Copy the `train()` method written above and paste it into the `train/train.py` file where required.\n",
    "\n",
    "The way that SageMaker passes hyperparameters to the training script is by way of arguments. These arguments can then be parsed and used in the training script. To see how this is done take a look at the provided `train/train.py` file."
   ]
  },
  {
   "cell_type": "code",
   "execution_count": 48,
   "metadata": {},
   "outputs": [],
   "source": [
    "from sagemaker.pytorch import PyTorch\n",
    "\n",
    "estimator = PyTorch(entry_point=\"train.py\",\n",
    "                    source_dir=\"train\",\n",
    "                    role=role,\n",
    "                    framework_version='0.4.0',\n",
    "                    train_instance_count=1,\n",
    "                    train_instance_type='ml.p2.xlarge',\n",
    "                    hyperparameters={\n",
    "                        'epochs': 10,\n",
    "                        'hidden_dim': 200,\n",
    "                    })"
   ]
  },
  {
   "cell_type": "code",
   "execution_count": 49,
   "metadata": {},
   "outputs": [
    {
     "name": "stdout",
     "output_type": "stream",
     "text": [
      "2020-01-05 15:56:42 Starting - Starting the training job...\n",
      "2020-01-05 15:56:43 Starting - Launching requested ML instances......\n",
      "2020-01-05 15:57:44 Starting - Preparing the instances for training......\n",
      "2020-01-05 15:58:48 Downloading - Downloading input data...\n",
      "2020-01-05 15:59:17 Training - Downloading the training image..\n",
      "2020-01-05 15:59:53 Training - Training image download completed. Training in progress.\u001b[31mbash: cannot set terminal process group (-1): Inappropriate ioctl for device\u001b[0m\n",
      "\u001b[31mbash: no job control in this shell\u001b[0m\n",
      "\u001b[31m2020-01-05 15:59:53,999 sagemaker-containers INFO     Imported framework sagemaker_pytorch_container.training\u001b[0m\n",
      "\u001b[31m2020-01-05 15:59:54,023 sagemaker_pytorch_container.training INFO     Block until all host DNS lookups succeed.\u001b[0m\n",
      "\u001b[31m2020-01-05 15:59:57,126 sagemaker_pytorch_container.training INFO     Invoking user training script.\u001b[0m\n",
      "\u001b[31m2020-01-05 15:59:57,367 sagemaker-containers INFO     Module train does not provide a setup.py. \u001b[0m\n",
      "\u001b[31mGenerating setup.py\u001b[0m\n",
      "\u001b[31m2020-01-05 15:59:57,367 sagemaker-containers INFO     Generating setup.cfg\u001b[0m\n",
      "\u001b[31m2020-01-05 15:59:57,367 sagemaker-containers INFO     Generating MANIFEST.in\u001b[0m\n",
      "\u001b[31m2020-01-05 15:59:57,367 sagemaker-containers INFO     Installing module with the following command:\u001b[0m\n",
      "\u001b[31m/usr/bin/python -m pip install -U . -r requirements.txt\u001b[0m\n",
      "\u001b[31mProcessing /opt/ml/code\u001b[0m\n",
      "\u001b[31mCollecting pandas (from -r requirements.txt (line 1))\u001b[0m\n",
      "\u001b[31m  Downloading https://files.pythonhosted.org/packages/74/24/0cdbf8907e1e3bc5a8da03345c23cbed7044330bb8f73bb12e711a640a00/pandas-0.24.2-cp35-cp35m-manylinux1_x86_64.whl (10.0MB)\u001b[0m\n",
      "\u001b[31mCollecting numpy (from -r requirements.txt (line 2))\n",
      "  Downloading https://files.pythonhosted.org/packages/eb/ec/d4b7855249ce87ece79783562dd6101b1f0abf461c25101c2e959d691e68/numpy-1.18.0-cp35-cp35m-manylinux1_x86_64.whl (19.9MB)\u001b[0m\n",
      "\u001b[31mCollecting nltk (from -r requirements.txt (line 3))\n",
      "  Downloading https://files.pythonhosted.org/packages/f6/1d/d925cfb4f324ede997f6d47bea4d9babba51b49e87a767c170b77005889d/nltk-3.4.5.zip (1.5MB)\u001b[0m\n",
      "\u001b[31mCollecting beautifulsoup4 (from -r requirements.txt (line 4))\n",
      "  Downloading https://files.pythonhosted.org/packages/cb/a1/c698cf319e9cfed6b17376281bd0efc6bfc8465698f54170ef60a485ab5d/beautifulsoup4-4.8.2-py3-none-any.whl (106kB)\u001b[0m\n",
      "\u001b[31mCollecting html5lib (from -r requirements.txt (line 5))\n",
      "  Downloading https://files.pythonhosted.org/packages/a5/62/bbd2be0e7943ec8504b517e62bab011b4946e1258842bc159e5dfde15b96/html5lib-1.0.1-py2.py3-none-any.whl (117kB)\u001b[0m\n",
      "\u001b[31mCollecting pytz>=2011k (from pandas->-r requirements.txt (line 1))\n",
      "  Downloading https://files.pythonhosted.org/packages/e7/f9/f0b53f88060247251bf481fa6ea62cd0d25bf1b11a87888e53ce5b7c8ad2/pytz-2019.3-py2.py3-none-any.whl (509kB)\u001b[0m\n",
      "\u001b[31mRequirement already satisfied, skipping upgrade: python-dateutil>=2.5.0 in /usr/local/lib/python3.5/dist-packages (from pandas->-r requirements.txt (line 1)) (2.7.5)\u001b[0m\n",
      "\u001b[31mRequirement already satisfied, skipping upgrade: six in /usr/local/lib/python3.5/dist-packages (from nltk->-r requirements.txt (line 3)) (1.11.0)\u001b[0m\n",
      "\u001b[31mCollecting soupsieve>=1.2 (from beautifulsoup4->-r requirements.txt (line 4))\n",
      "  Downloading https://files.pythonhosted.org/packages/81/94/03c0f04471fc245d08d0a99f7946ac228ca98da4fa75796c507f61e688c2/soupsieve-1.9.5-py2.py3-none-any.whl\u001b[0m\n",
      "\u001b[31mCollecting webencodings (from html5lib->-r requirements.txt (line 5))\n",
      "  Downloading https://files.pythonhosted.org/packages/f4/24/2a3e3df732393fed8b3ebf2ec078f05546de641fe1b667ee316ec1dcf3b7/webencodings-0.5.1-py2.py3-none-any.whl\u001b[0m\n",
      "\u001b[31mBuilding wheels for collected packages: nltk, train\n",
      "  Running setup.py bdist_wheel for nltk: started\n",
      "  Running setup.py bdist_wheel for nltk: finished with status 'done'\n",
      "  Stored in directory: /root/.cache/pip/wheels/96/86/f6/68ab24c23f207c0077381a5e3904b2815136b879538a24b483\u001b[0m\n",
      "\u001b[31m  Running setup.py bdist_wheel for train: started\n",
      "  Running setup.py bdist_wheel for train: finished with status 'done'\n",
      "  Stored in directory: /tmp/pip-ephem-wheel-cache-r_xl6wti/wheels/35/24/16/37574d11bf9bde50616c67372a334f94fa8356bc7164af8ca3\u001b[0m\n",
      "\u001b[31mSuccessfully built nltk train\u001b[0m\n",
      "\u001b[31mInstalling collected packages: numpy, pytz, pandas, nltk, soupsieve, beautifulsoup4, webencodings, html5lib, train\n",
      "  Found existing installation: numpy 1.15.4\n",
      "    Uninstalling numpy-1.15.4:\u001b[0m\n",
      "\u001b[31m      Successfully uninstalled numpy-1.15.4\u001b[0m\n",
      "\u001b[31mSuccessfully installed beautifulsoup4-4.8.2 html5lib-1.0.1 nltk-3.4.5 numpy-1.18.0 pandas-0.24.2 pytz-2019.3 soupsieve-1.9.5 train-1.0.0 webencodings-0.5.1\u001b[0m\n",
      "\u001b[31mYou are using pip version 18.1, however version 19.3.1 is available.\u001b[0m\n",
      "\u001b[31mYou should consider upgrading via the 'pip install --upgrade pip' command.\u001b[0m\n",
      "\u001b[31m2020-01-05 16:00:09,454 sagemaker-containers INFO     Invoking user script\n",
      "\u001b[0m\n",
      "\u001b[31mTraining Env:\n",
      "\u001b[0m\n",
      "\u001b[31m{\n",
      "    \"current_host\": \"algo-1\",\n",
      "    \"channel_input_dirs\": {\n",
      "        \"training\": \"/opt/ml/input/data/training\"\n",
      "    },\n",
      "    \"model_dir\": \"/opt/ml/model\",\n",
      "    \"output_intermediate_dir\": \"/opt/ml/output/intermediate\",\n",
      "    \"input_config_dir\": \"/opt/ml/input/config\",\n",
      "    \"additional_framework_parameters\": {},\n",
      "    \"framework_module\": \"sagemaker_pytorch_container.training:main\",\n",
      "    \"hosts\": [\n",
      "        \"algo-1\"\n",
      "    ],\n",
      "    \"input_data_config\": {\n",
      "        \"training\": {\n",
      "            \"TrainingInputMode\": \"File\",\n",
      "            \"RecordWrapperType\": \"None\",\n",
      "            \"S3DistributionType\": \"FullyReplicated\"\n",
      "        }\n",
      "    },\n",
      "    \"job_name\": \"sagemaker-pytorch-2020-01-05-15-56-39-857\",\n",
      "    \"output_dir\": \"/opt/ml/output\",\n",
      "    \"hyperparameters\": {\n",
      "        \"epochs\": 10,\n",
      "        \"hidden_dim\": 200\n",
      "    },\n",
      "    \"num_gpus\": 1,\n",
      "    \"input_dir\": \"/opt/ml/input\",\n",
      "    \"output_data_dir\": \"/opt/ml/output/data\",\n",
      "    \"resource_config\": {\n",
      "        \"hosts\": [\n",
      "            \"algo-1\"\n",
      "        ],\n",
      "        \"current_host\": \"algo-1\",\n",
      "        \"network_interface_name\": \"eth0\"\n",
      "    },\n",
      "    \"module_dir\": \"s3://sagemaker-ap-southeast-1-505762439728/sagemaker-pytorch-2020-01-05-15-56-39-857/source/sourcedir.tar.gz\",\n",
      "    \"log_level\": 20,\n",
      "    \"module_name\": \"train\",\n",
      "    \"num_cpus\": 4,\n",
      "    \"user_entry_point\": \"train.py\",\n",
      "    \"network_interface_name\": \"eth0\"\u001b[0m\n",
      "\u001b[31m}\n",
      "\u001b[0m\n",
      "\u001b[31mEnvironment variables:\n",
      "\u001b[0m\n",
      "\u001b[31mSM_INPUT_DIR=/opt/ml/input\u001b[0m\n",
      "\u001b[31mPYTHONPATH=/usr/local/bin:/usr/lib/python35.zip:/usr/lib/python3.5:/usr/lib/python3.5/plat-x86_64-linux-gnu:/usr/lib/python3.5/lib-dynload:/usr/local/lib/python3.5/dist-packages:/usr/lib/python3/dist-packages\u001b[0m\n",
      "\u001b[31mSM_OUTPUT_DIR=/opt/ml/output\u001b[0m\n",
      "\u001b[31mSM_NETWORK_INTERFACE_NAME=eth0\u001b[0m\n",
      "\u001b[31mSM_MODULE_DIR=s3://sagemaker-ap-southeast-1-505762439728/sagemaker-pytorch-2020-01-05-15-56-39-857/source/sourcedir.tar.gz\u001b[0m\n",
      "\u001b[31mSM_HP_HIDDEN_DIM=200\u001b[0m\n",
      "\u001b[31mSM_FRAMEWORK_PARAMS={}\u001b[0m\n",
      "\u001b[31mSM_FRAMEWORK_MODULE=sagemaker_pytorch_container.training:main\u001b[0m\n",
      "\u001b[31mSM_NUM_CPUS=4\u001b[0m\n",
      "\u001b[31mSM_CURRENT_HOST=algo-1\u001b[0m\n",
      "\u001b[31mSM_OUTPUT_INTERMEDIATE_DIR=/opt/ml/output/intermediate\u001b[0m\n",
      "\u001b[31mSM_MODEL_DIR=/opt/ml/model\u001b[0m\n",
      "\u001b[31mSM_TRAINING_ENV={\"additional_framework_parameters\":{},\"channel_input_dirs\":{\"training\":\"/opt/ml/input/data/training\"},\"current_host\":\"algo-1\",\"framework_module\":\"sagemaker_pytorch_container.training:main\",\"hosts\":[\"algo-1\"],\"hyperparameters\":{\"epochs\":10,\"hidden_dim\":200},\"input_config_dir\":\"/opt/ml/input/config\",\"input_data_config\":{\"training\":{\"RecordWrapperType\":\"None\",\"S3DistributionType\":\"FullyReplicated\",\"TrainingInputMode\":\"File\"}},\"input_dir\":\"/opt/ml/input\",\"job_name\":\"sagemaker-pytorch-2020-01-05-15-56-39-857\",\"log_level\":20,\"model_dir\":\"/opt/ml/model\",\"module_dir\":\"s3://sagemaker-ap-southeast-1-505762439728/sagemaker-pytorch-2020-01-05-15-56-39-857/source/sourcedir.tar.gz\",\"module_name\":\"train\",\"network_interface_name\":\"eth0\",\"num_cpus\":4,\"num_gpus\":1,\"output_data_dir\":\"/opt/ml/output/data\",\"output_dir\":\"/opt/ml/output\",\"output_intermediate_dir\":\"/opt/ml/output/intermediate\",\"resource_config\":{\"current_host\":\"algo-1\",\"hosts\":[\"algo-1\"],\"network_interface_name\":\"eth0\"},\"user_entry_point\":\"train.py\"}\u001b[0m\n",
      "\u001b[31mSM_RESOURCE_CONFIG={\"current_host\":\"algo-1\",\"hosts\":[\"algo-1\"],\"network_interface_name\":\"eth0\"}\u001b[0m\n",
      "\u001b[31mSM_LOG_LEVEL=20\u001b[0m\n",
      "\u001b[31mSM_CHANNELS=[\"training\"]\u001b[0m\n",
      "\u001b[31mSM_CHANNEL_TRAINING=/opt/ml/input/data/training\u001b[0m\n",
      "\u001b[31mSM_HP_EPOCHS=10\u001b[0m\n",
      "\u001b[31mSM_NUM_GPUS=1\u001b[0m\n",
      "\u001b[31mSM_USER_ENTRY_POINT=train.py\u001b[0m\n",
      "\u001b[31mSM_HPS={\"epochs\":10,\"hidden_dim\":200}\u001b[0m\n",
      "\u001b[31mSM_INPUT_DATA_CONFIG={\"training\":{\"RecordWrapperType\":\"None\",\"S3DistributionType\":\"FullyReplicated\",\"TrainingInputMode\":\"File\"}}\u001b[0m\n",
      "\u001b[31mSM_USER_ARGS=[\"--epochs\",\"10\",\"--hidden_dim\",\"200\"]\u001b[0m\n",
      "\u001b[31mSM_INPUT_CONFIG_DIR=/opt/ml/input/config\u001b[0m\n",
      "\u001b[31mSM_MODULE_NAME=train\u001b[0m\n",
      "\u001b[31mSM_HOSTS=[\"algo-1\"]\u001b[0m\n",
      "\u001b[31mSM_OUTPUT_DATA_DIR=/opt/ml/output/data\n",
      "\u001b[0m\n",
      "\u001b[31mInvoking script with the following command:\n",
      "\u001b[0m\n",
      "\u001b[31m/usr/bin/python -m train --epochs 10 --hidden_dim 200\n",
      "\n",
      "\u001b[0m\n",
      "\u001b[31mUsing device cuda.\u001b[0m\n",
      "\u001b[31mGet train data loader.\u001b[0m\n",
      "\u001b[31mModel loaded with embedding_dim 32, hidden_dim 200, vocab_size 5000.\u001b[0m\n"
     ]
    },
    {
     "name": "stdout",
     "output_type": "stream",
     "text": [
      "\u001b[31mEpoch: 1, BCELoss: 0.6707663268459086\u001b[0m\n",
      "\u001b[31mEpoch: 2, BCELoss: 0.5943525445704557\u001b[0m\n",
      "\u001b[31mEpoch: 3, BCELoss: 0.5006017186203782\u001b[0m\n",
      "\u001b[31mEpoch: 4, BCELoss: 0.4292692913084614\u001b[0m\n",
      "\u001b[31mEpoch: 5, BCELoss: 0.3954002589595561\u001b[0m\n",
      "\u001b[31mEpoch: 6, BCELoss: 0.34958013709710567\u001b[0m\n",
      "\u001b[31mEpoch: 7, BCELoss: 0.3211798826042487\u001b[0m\n",
      "\u001b[31mEpoch: 8, BCELoss: 0.2968064546585083\u001b[0m\n",
      "\u001b[31mEpoch: 9, BCELoss: 0.2832668432775809\u001b[0m\n",
      "\n",
      "2020-01-05 16:03:15 Uploading - Uploading generated training model\u001b[31mEpoch: 10, BCELoss: 0.2901989717264565\u001b[0m\n",
      "\u001b[31m2020-01-05 16:03:11,369 sagemaker-containers INFO     Reporting training SUCCESS\u001b[0m\n",
      "\n",
      "2020-01-05 16:03:21 Completed - Training job completed\n",
      "Training seconds: 273\n",
      "Billable seconds: 273\n"
     ]
    }
   ],
   "source": [
    "estimator.fit({'training': input_data})"
   ]
  },
  {
   "cell_type": "markdown",
   "metadata": {},
   "source": [
    "## Step 5: Testing the model\n",
    "\n",
    "As mentioned at the top of this notebook, we will be testing this model by first deploying it and then sending the testing data to the deployed endpoint. We will do this so that we can make sure that the deployed model is working correctly.\n",
    "\n",
    "## Step 6: Deploy the model for testing\n",
    "\n",
    "Now that we have trained our model, we would like to test it to see how it performs. Currently our model takes input of the form `review_length, review[500]` where `review[500]` is a sequence of `500` integers which describe the words present in the review, encoded using `word_dict`. Fortunately for us, SageMaker provides built-in inference code for models with simple inputs such as this.\n",
    "\n",
    "There is one thing that we need to provide, however, and that is a function which loads the saved model. This function must be called `model_fn()` and takes as its only parameter a path to the directory where the model artifacts are stored. This function must also be present in the python file which we specified as the entry point. In our case the model loading function has been provided and so no changes need to be made.\n",
    "\n",
    "**NOTE**: When the built-in inference code is run it must import the `model_fn()` method from the `train.py` file. This is why the training code is wrapped in a main guard ( ie, `if __name__ == '__main__':` )\n",
    "\n",
    "Since we don't need to change anything in the code that was uploaded during training, we can simply deploy the current model as-is.\n",
    "\n",
    "**NOTE:** When deploying a model you are asking SageMaker to launch an compute instance that will wait for data to be sent to it. As a result, this compute instance will continue to run until *you* shut it down. This is important to know since the cost of a deployed endpoint depends on how long it has been running for.\n",
    "\n",
    "In other words **If you are no longer using a deployed endpoint, shut it down!**\n",
    "\n",
    "**TODO:** Deploy the trained model."
   ]
  },
  {
   "cell_type": "code",
   "execution_count": 50,
   "metadata": {},
   "outputs": [
    {
     "name": "stdout",
     "output_type": "stream",
     "text": [
      "---------------------------------------------------------------------------------------------------!"
     ]
    }
   ],
   "source": [
    "# TODO: Deploy the trained model\n",
    "deploymodel = estimator.deploy(initial_instance_count = 1, instance_type = 'ml.m4.xlarge')"
   ]
  },
  {
   "cell_type": "markdown",
   "metadata": {},
   "source": [
    "## Step 7 - Use the model for testing\n",
    "\n",
    "Once deployed, we can read in the test data and send it off to our deployed model to get some results. Once we collect all of the results we can determine how accurate our model is."
   ]
  },
  {
   "cell_type": "code",
   "execution_count": 51,
   "metadata": {},
   "outputs": [],
   "source": [
    "test_X = pd.concat([pd.DataFrame(test_X_len), pd.DataFrame(test_X)], axis=1)"
   ]
  },
  {
   "cell_type": "code",
   "execution_count": 54,
   "metadata": {},
   "outputs": [],
   "source": [
    "# We split the data into chunks and send each chunk seperately, accumulating the results.\n",
    "\n",
    "def predict(data, rows=512):\n",
    "    split_array = np.array_split(data, int(data.shape[0] / float(rows) + 1))\n",
    "    predictions = np.array([])\n",
    "    for array in split_array:\n",
    "        predictions = np.append(predictions, deploymodel.predict(array))\n",
    "    \n",
    "    return predictions"
   ]
  },
  {
   "cell_type": "code",
   "execution_count": 55,
   "metadata": {},
   "outputs": [],
   "source": [
    "predictions = predict(test_X.values)\n",
    "predictions = [round(num) for num in predictions]"
   ]
  },
  {
   "cell_type": "code",
   "execution_count": 56,
   "metadata": {},
   "outputs": [
    {
     "data": {
      "text/plain": [
       "0.84472"
      ]
     },
     "execution_count": 56,
     "metadata": {},
     "output_type": "execute_result"
    }
   ],
   "source": [
    "from sklearn.metrics import accuracy_score\n",
    "accuracy_score(test_y, predictions)"
   ]
  },
  {
   "cell_type": "markdown",
   "metadata": {},
   "source": [
    "**Question:** How does this model compare to the XGBoost model you created earlier? Why might these two models perform differently on this dataset? Which do *you* think is better for sentiment analysis?"
   ]
  },
  {
   "cell_type": "markdown",
   "metadata": {},
   "source": [
    "**Answer:**The XGBoost model I created earlier get the accuracy score of 0.85732. So It's slightly better than our model. Both has similar results. "
   ]
  },
  {
   "cell_type": "markdown",
   "metadata": {},
   "source": [
    "### (TODO) More testing\n",
    "\n",
    "We now have a trained model which has been deployed and which we can send processed reviews to and which returns the predicted sentiment. However, ultimately we would like to be able to send our model an unprocessed review. That is, we would like to send the review itself as a string. For example, suppose we wish to send the following review to our model."
   ]
  },
  {
   "cell_type": "code",
   "execution_count": 57,
   "metadata": {},
   "outputs": [],
   "source": [
    "test_review = 'The simplest pleasures in life are the best, and this film is one of them. Combining a rather basic storyline of love and adventure this movie transcends the usual weekend fair with wit and unmitigated charm.'"
   ]
  },
  {
   "cell_type": "markdown",
   "metadata": {},
   "source": [
    "The question we now need to answer is, how do we send this review to our model?\n",
    "\n",
    "Recall in the first section of this notebook we did a bunch of data processing to the IMDb dataset. In particular, we did two specific things to the provided reviews.\n",
    " - Removed any html tags and stemmed the input\n",
    " - Encoded the review as a sequence of integers using `word_dict`\n",
    " \n",
    "In order process the review we will need to repeat these two steps.\n",
    "\n",
    "**TODO**: Using the `review_to_words` and `convert_and_pad` methods from section one, convert `test_review` into a numpy array `test_data` suitable to send to our model. Remember that our model expects input of the form `review_length, review[500]`."
   ]
  },
  {
   "cell_type": "code",
   "execution_count": 58,
   "metadata": {},
   "outputs": [],
   "source": [
    "# TODO: Convert test_review into a form usable by the model and save the results in test_data\n",
    "\n",
    "test_data_review_to_words = review_to_words(test_review)\n",
    "test_data = [np.array(convert_and_pad(word_dict, test_data_review_to_words)[0])]"
   ]
  },
  {
   "cell_type": "markdown",
   "metadata": {},
   "source": [
    "Now that we have processed the review, we can send the resulting array to our model to predict the sentiment of the review."
   ]
  },
  {
   "cell_type": "code",
   "execution_count": 60,
   "metadata": {},
   "outputs": [
    {
     "data": {
      "text/plain": [
       "array(0.6835689, dtype=float32)"
      ]
     },
     "execution_count": 60,
     "metadata": {},
     "output_type": "execute_result"
    }
   ],
   "source": [
    "deploymodel.predict(test_data)"
   ]
  },
  {
   "cell_type": "markdown",
   "metadata": {},
   "source": [
    "Since the return value of our model is close to `1`, we can be certain that the review we submitted is positive."
   ]
  },
  {
   "cell_type": "markdown",
   "metadata": {},
   "source": [
    "### Delete the endpoint\n",
    "\n",
    "Of course, just like in the XGBoost notebook, once we've deployed an endpoint it continues to run until we tell it to shut down. Since we are done using our endpoint for now, we can delete it."
   ]
  },
  {
   "cell_type": "code",
   "execution_count": 62,
   "metadata": {},
   "outputs": [
    {
     "ename": "ClientError",
     "evalue": "An error occurred (ValidationException) when calling the DeleteEndpoint operation: Could not find endpoint \"arn:aws:sagemaker:ap-southeast-1:505762439728:endpoint/sagemaker-pytorch-2020-01-05-15-56-39-857\".",
     "output_type": "error",
     "traceback": [
      "\u001b[0;31m---------------------------------------------------------------------------\u001b[0m",
      "\u001b[0;31mClientError\u001b[0m                               Traceback (most recent call last)",
      "\u001b[0;32m<ipython-input-62-46ef5e5e8b7c>\u001b[0m in \u001b[0;36m<module>\u001b[0;34m()\u001b[0m\n\u001b[0;32m----> 1\u001b[0;31m \u001b[0mestimator\u001b[0m\u001b[0;34m.\u001b[0m\u001b[0mdelete_endpoint\u001b[0m\u001b[0;34m(\u001b[0m\u001b[0;34m)\u001b[0m\u001b[0;34m\u001b[0m\u001b[0m\n\u001b[0m",
      "\u001b[0;32m~/anaconda3/envs/pytorch_p36/lib/python3.6/site-packages/sagemaker/estimator.py\u001b[0m in \u001b[0;36mdelete_endpoint\u001b[0;34m(self)\u001b[0m\n\u001b[1;32m    669\u001b[0m         \"\"\"\n\u001b[1;32m    670\u001b[0m         \u001b[0mself\u001b[0m\u001b[0;34m.\u001b[0m\u001b[0m_ensure_latest_training_job\u001b[0m\u001b[0;34m(\u001b[0m\u001b[0merror_message\u001b[0m\u001b[0;34m=\u001b[0m\u001b[0;34m\"Endpoint was not created yet\"\u001b[0m\u001b[0;34m)\u001b[0m\u001b[0;34m\u001b[0m\u001b[0m\n\u001b[0;32m--> 671\u001b[0;31m         \u001b[0mself\u001b[0m\u001b[0;34m.\u001b[0m\u001b[0msagemaker_session\u001b[0m\u001b[0;34m.\u001b[0m\u001b[0mdelete_endpoint\u001b[0m\u001b[0;34m(\u001b[0m\u001b[0mself\u001b[0m\u001b[0;34m.\u001b[0m\u001b[0mlatest_training_job\u001b[0m\u001b[0;34m.\u001b[0m\u001b[0mname\u001b[0m\u001b[0;34m)\u001b[0m\u001b[0;34m\u001b[0m\u001b[0m\n\u001b[0m\u001b[1;32m    672\u001b[0m \u001b[0;34m\u001b[0m\u001b[0m\n\u001b[1;32m    673\u001b[0m     def transformer(\n",
      "\u001b[0;32m~/anaconda3/envs/pytorch_p36/lib/python3.6/site-packages/sagemaker/session.py\u001b[0m in \u001b[0;36mdelete_endpoint\u001b[0;34m(self, endpoint_name)\u001b[0m\n\u001b[1;32m   1015\u001b[0m         \"\"\"\n\u001b[1;32m   1016\u001b[0m         \u001b[0mLOGGER\u001b[0m\u001b[0;34m.\u001b[0m\u001b[0minfo\u001b[0m\u001b[0;34m(\u001b[0m\u001b[0;34m\"Deleting endpoint with name: %s\"\u001b[0m\u001b[0;34m,\u001b[0m \u001b[0mendpoint_name\u001b[0m\u001b[0;34m)\u001b[0m\u001b[0;34m\u001b[0m\u001b[0m\n\u001b[0;32m-> 1017\u001b[0;31m         \u001b[0mself\u001b[0m\u001b[0;34m.\u001b[0m\u001b[0msagemaker_client\u001b[0m\u001b[0;34m.\u001b[0m\u001b[0mdelete_endpoint\u001b[0m\u001b[0;34m(\u001b[0m\u001b[0mEndpointName\u001b[0m\u001b[0;34m=\u001b[0m\u001b[0mendpoint_name\u001b[0m\u001b[0;34m)\u001b[0m\u001b[0;34m\u001b[0m\u001b[0m\n\u001b[0m\u001b[1;32m   1018\u001b[0m \u001b[0;34m\u001b[0m\u001b[0m\n\u001b[1;32m   1019\u001b[0m     \u001b[0;32mdef\u001b[0m \u001b[0mdelete_endpoint_config\u001b[0m\u001b[0;34m(\u001b[0m\u001b[0mself\u001b[0m\u001b[0;34m,\u001b[0m \u001b[0mendpoint_config_name\u001b[0m\u001b[0;34m)\u001b[0m\u001b[0;34m:\u001b[0m\u001b[0;34m\u001b[0m\u001b[0m\n",
      "\u001b[0;32m~/anaconda3/envs/pytorch_p36/lib/python3.6/site-packages/botocore/client.py\u001b[0m in \u001b[0;36m_api_call\u001b[0;34m(self, *args, **kwargs)\u001b[0m\n\u001b[1;32m    355\u001b[0m                     \"%s() only accepts keyword arguments.\" % py_operation_name)\n\u001b[1;32m    356\u001b[0m             \u001b[0;31m# The \"self\" in this scope is referring to the BaseClient.\u001b[0m\u001b[0;34m\u001b[0m\u001b[0;34m\u001b[0m\u001b[0m\n\u001b[0;32m--> 357\u001b[0;31m             \u001b[0;32mreturn\u001b[0m \u001b[0mself\u001b[0m\u001b[0;34m.\u001b[0m\u001b[0m_make_api_call\u001b[0m\u001b[0;34m(\u001b[0m\u001b[0moperation_name\u001b[0m\u001b[0;34m,\u001b[0m \u001b[0mkwargs\u001b[0m\u001b[0;34m)\u001b[0m\u001b[0;34m\u001b[0m\u001b[0m\n\u001b[0m\u001b[1;32m    358\u001b[0m \u001b[0;34m\u001b[0m\u001b[0m\n\u001b[1;32m    359\u001b[0m         \u001b[0m_api_call\u001b[0m\u001b[0;34m.\u001b[0m\u001b[0m__name__\u001b[0m \u001b[0;34m=\u001b[0m \u001b[0mstr\u001b[0m\u001b[0;34m(\u001b[0m\u001b[0mpy_operation_name\u001b[0m\u001b[0;34m)\u001b[0m\u001b[0;34m\u001b[0m\u001b[0m\n",
      "\u001b[0;32m~/anaconda3/envs/pytorch_p36/lib/python3.6/site-packages/botocore/client.py\u001b[0m in \u001b[0;36m_make_api_call\u001b[0;34m(self, operation_name, api_params)\u001b[0m\n\u001b[1;32m    659\u001b[0m             \u001b[0merror_code\u001b[0m \u001b[0;34m=\u001b[0m \u001b[0mparsed_response\u001b[0m\u001b[0;34m.\u001b[0m\u001b[0mget\u001b[0m\u001b[0;34m(\u001b[0m\u001b[0;34m\"Error\"\u001b[0m\u001b[0;34m,\u001b[0m \u001b[0;34m{\u001b[0m\u001b[0;34m}\u001b[0m\u001b[0;34m)\u001b[0m\u001b[0;34m.\u001b[0m\u001b[0mget\u001b[0m\u001b[0;34m(\u001b[0m\u001b[0;34m\"Code\"\u001b[0m\u001b[0;34m)\u001b[0m\u001b[0;34m\u001b[0m\u001b[0m\n\u001b[1;32m    660\u001b[0m             \u001b[0merror_class\u001b[0m \u001b[0;34m=\u001b[0m \u001b[0mself\u001b[0m\u001b[0;34m.\u001b[0m\u001b[0mexceptions\u001b[0m\u001b[0;34m.\u001b[0m\u001b[0mfrom_code\u001b[0m\u001b[0;34m(\u001b[0m\u001b[0merror_code\u001b[0m\u001b[0;34m)\u001b[0m\u001b[0;34m\u001b[0m\u001b[0m\n\u001b[0;32m--> 661\u001b[0;31m             \u001b[0;32mraise\u001b[0m \u001b[0merror_class\u001b[0m\u001b[0;34m(\u001b[0m\u001b[0mparsed_response\u001b[0m\u001b[0;34m,\u001b[0m \u001b[0moperation_name\u001b[0m\u001b[0;34m)\u001b[0m\u001b[0;34m\u001b[0m\u001b[0m\n\u001b[0m\u001b[1;32m    662\u001b[0m         \u001b[0;32melse\u001b[0m\u001b[0;34m:\u001b[0m\u001b[0;34m\u001b[0m\u001b[0m\n\u001b[1;32m    663\u001b[0m             \u001b[0;32mreturn\u001b[0m \u001b[0mparsed_response\u001b[0m\u001b[0;34m\u001b[0m\u001b[0m\n",
      "\u001b[0;31mClientError\u001b[0m: An error occurred (ValidationException) when calling the DeleteEndpoint operation: Could not find endpoint \"arn:aws:sagemaker:ap-southeast-1:505762439728:endpoint/sagemaker-pytorch-2020-01-05-15-56-39-857\"."
     ]
    }
   ],
   "source": [
    "estimator.delete_endpoint()"
   ]
  },
  {
   "cell_type": "markdown",
   "metadata": {},
   "source": [
    "## Step 6 (again) - Deploy the model for the web app\n",
    "\n",
    "Now that we know that our model is working, it's time to create some custom inference code so that we can send the model a review which has not been processed and have it determine the sentiment of the review.\n",
    "\n",
    "As we saw above, by default the estimator which we created, when deployed, will use the entry script and directory which we provided when creating the model. However, since we now wish to accept a string as input and our model expects a processed review, we need to write some custom inference code.\n",
    "\n",
    "We will store the code that we write in the `serve` directory. Provided in this directory is the `model.py` file that we used to construct our model, a `utils.py` file which contains the `review_to_words` and `convert_and_pad` pre-processing functions which we used during the initial data processing, and `predict.py`, the file which will contain our custom inference code. Note also that `requirements.txt` is present which will tell SageMaker what Python libraries are required by our custom inference code.\n",
    "\n",
    "When deploying a PyTorch model in SageMaker, you are expected to provide four functions which the SageMaker inference container will use.\n",
    " - `model_fn`: This function is the same function that we used in the training script and it tells SageMaker how to load our model.\n",
    " - `input_fn`: This function receives the raw serialized input that has been sent to the model's endpoint and its job is to de-serialize and make the input available for the inference code.\n",
    " - `output_fn`: This function takes the output of the inference code and its job is to serialize this output and return it to the caller of the model's endpoint.\n",
    " - `predict_fn`: The heart of the inference script, this is where the actual prediction is done and is the function which you will need to complete.\n",
    "\n",
    "For the simple website that we are constructing during this project, the `input_fn` and `output_fn` methods are relatively straightforward. We only require being able to accept a string as input and we expect to return a single value as output. You might imagine though that in a more complex application the input or output may be image data or some other binary data which would require some effort to serialize.\n",
    "\n",
    "### (TODO) Writing inference code\n",
    "\n",
    "Before writing our custom inference code, we will begin by taking a look at the code which has been provided."
   ]
  },
  {
   "cell_type": "code",
   "execution_count": 110,
   "metadata": {},
   "outputs": [
    {
     "name": "stdout",
     "output_type": "stream",
     "text": [
      "\u001b[34mimport\u001b[39;49;00m \u001b[04m\u001b[36margparse\u001b[39;49;00m\r\n",
      "\u001b[34mimport\u001b[39;49;00m \u001b[04m\u001b[36mjson\u001b[39;49;00m\r\n",
      "\u001b[34mimport\u001b[39;49;00m \u001b[04m\u001b[36mos\u001b[39;49;00m\r\n",
      "\u001b[34mimport\u001b[39;49;00m \u001b[04m\u001b[36mpickle\u001b[39;49;00m\r\n",
      "\u001b[34mimport\u001b[39;49;00m \u001b[04m\u001b[36msys\u001b[39;49;00m\r\n",
      "\u001b[34mimport\u001b[39;49;00m \u001b[04m\u001b[36msagemaker_containers\u001b[39;49;00m\r\n",
      "\u001b[34mimport\u001b[39;49;00m \u001b[04m\u001b[36mpandas\u001b[39;49;00m \u001b[34mas\u001b[39;49;00m \u001b[04m\u001b[36mpd\u001b[39;49;00m\r\n",
      "\u001b[34mimport\u001b[39;49;00m \u001b[04m\u001b[36mnumpy\u001b[39;49;00m \u001b[34mas\u001b[39;49;00m \u001b[04m\u001b[36mnp\u001b[39;49;00m\r\n",
      "\u001b[34mimport\u001b[39;49;00m \u001b[04m\u001b[36mtorch\u001b[39;49;00m\r\n",
      "\u001b[34mimport\u001b[39;49;00m \u001b[04m\u001b[36mtorch.nn\u001b[39;49;00m \u001b[34mas\u001b[39;49;00m \u001b[04m\u001b[36mnn\u001b[39;49;00m\r\n",
      "\u001b[34mimport\u001b[39;49;00m \u001b[04m\u001b[36mtorch.optim\u001b[39;49;00m \u001b[34mas\u001b[39;49;00m \u001b[04m\u001b[36moptim\u001b[39;49;00m\r\n",
      "\u001b[34mimport\u001b[39;49;00m \u001b[04m\u001b[36mtorch.utils.data\u001b[39;49;00m\r\n",
      "\r\n",
      "\u001b[34mfrom\u001b[39;49;00m \u001b[04m\u001b[36mmodel\u001b[39;49;00m \u001b[34mimport\u001b[39;49;00m LSTMClassifier\r\n",
      "\r\n",
      "\u001b[34mfrom\u001b[39;49;00m \u001b[04m\u001b[36mutils\u001b[39;49;00m \u001b[34mimport\u001b[39;49;00m review_to_words, convert_and_pad\r\n",
      "\r\n",
      "\u001b[34mdef\u001b[39;49;00m \u001b[32mmodel_fn\u001b[39;49;00m(model_dir):\r\n",
      "    \u001b[33m\"\"\"Load the PyTorch model from the `model_dir` directory.\"\"\"\u001b[39;49;00m\r\n",
      "    \u001b[34mprint\u001b[39;49;00m(\u001b[33m\"\u001b[39;49;00m\u001b[33mLoading model.\u001b[39;49;00m\u001b[33m\"\u001b[39;49;00m)\r\n",
      "\r\n",
      "    \u001b[37m# First, load the parameters used to create the model.\u001b[39;49;00m\r\n",
      "    model_info = {}\r\n",
      "    model_info_path = os.path.join(model_dir, \u001b[33m'\u001b[39;49;00m\u001b[33mmodel_info.pth\u001b[39;49;00m\u001b[33m'\u001b[39;49;00m)\r\n",
      "    \u001b[34mwith\u001b[39;49;00m \u001b[36mopen\u001b[39;49;00m(model_info_path, \u001b[33m'\u001b[39;49;00m\u001b[33mrb\u001b[39;49;00m\u001b[33m'\u001b[39;49;00m) \u001b[34mas\u001b[39;49;00m f:\r\n",
      "        model_info = torch.load(f)\r\n",
      "\r\n",
      "    \u001b[34mprint\u001b[39;49;00m(\u001b[33m\"\u001b[39;49;00m\u001b[33mmodel_info: {}\u001b[39;49;00m\u001b[33m\"\u001b[39;49;00m.format(model_info))\r\n",
      "\r\n",
      "    \u001b[37m# Determine the device and construct the model.\u001b[39;49;00m\r\n",
      "    device = torch.device(\u001b[33m\"\u001b[39;49;00m\u001b[33mcuda\u001b[39;49;00m\u001b[33m\"\u001b[39;49;00m \u001b[34mif\u001b[39;49;00m torch.cuda.is_available() \u001b[34melse\u001b[39;49;00m \u001b[33m\"\u001b[39;49;00m\u001b[33mcpu\u001b[39;49;00m\u001b[33m\"\u001b[39;49;00m)\r\n",
      "    model = LSTMClassifier(model_info[\u001b[33m'\u001b[39;49;00m\u001b[33membedding_dim\u001b[39;49;00m\u001b[33m'\u001b[39;49;00m], model_info[\u001b[33m'\u001b[39;49;00m\u001b[33mhidden_dim\u001b[39;49;00m\u001b[33m'\u001b[39;49;00m], model_info[\u001b[33m'\u001b[39;49;00m\u001b[33mvocab_size\u001b[39;49;00m\u001b[33m'\u001b[39;49;00m])\r\n",
      "\r\n",
      "    \u001b[37m# Load the store model parameters.\u001b[39;49;00m\r\n",
      "    model_path = os.path.join(model_dir, \u001b[33m'\u001b[39;49;00m\u001b[33mmodel.pth\u001b[39;49;00m\u001b[33m'\u001b[39;49;00m)\r\n",
      "    \u001b[34mwith\u001b[39;49;00m \u001b[36mopen\u001b[39;49;00m(model_path, \u001b[33m'\u001b[39;49;00m\u001b[33mrb\u001b[39;49;00m\u001b[33m'\u001b[39;49;00m) \u001b[34mas\u001b[39;49;00m f:\r\n",
      "        model.load_state_dict(torch.load(f))\r\n",
      "\r\n",
      "    \u001b[37m# Load the saved word_dict.\u001b[39;49;00m\r\n",
      "    word_dict_path = os.path.join(model_dir, \u001b[33m'\u001b[39;49;00m\u001b[33mword_dict.pkl\u001b[39;49;00m\u001b[33m'\u001b[39;49;00m)\r\n",
      "    \u001b[34mwith\u001b[39;49;00m \u001b[36mopen\u001b[39;49;00m(word_dict_path, \u001b[33m'\u001b[39;49;00m\u001b[33mrb\u001b[39;49;00m\u001b[33m'\u001b[39;49;00m) \u001b[34mas\u001b[39;49;00m f:\r\n",
      "        model.word_dict = pickle.load(f)\r\n",
      "\r\n",
      "    model.to(device).eval()\r\n",
      "\r\n",
      "    \u001b[34mprint\u001b[39;49;00m(\u001b[33m\"\u001b[39;49;00m\u001b[33mDone loading model.\u001b[39;49;00m\u001b[33m\"\u001b[39;49;00m)\r\n",
      "    \u001b[34mreturn\u001b[39;49;00m model\r\n",
      "\r\n",
      "\u001b[34mdef\u001b[39;49;00m \u001b[32minput_fn\u001b[39;49;00m(serialized_input_data, content_type):\r\n",
      "    \u001b[34mprint\u001b[39;49;00m(\u001b[33m'\u001b[39;49;00m\u001b[33mDeserializing the input data.\u001b[39;49;00m\u001b[33m'\u001b[39;49;00m)\r\n",
      "    \u001b[34mif\u001b[39;49;00m content_type == \u001b[33m'\u001b[39;49;00m\u001b[33mtext/plain\u001b[39;49;00m\u001b[33m'\u001b[39;49;00m:\r\n",
      "        data = serialized_input_data.decode(\u001b[33m'\u001b[39;49;00m\u001b[33mutf-8\u001b[39;49;00m\u001b[33m'\u001b[39;49;00m)\r\n",
      "        \u001b[34mreturn\u001b[39;49;00m data\r\n",
      "    \u001b[34mraise\u001b[39;49;00m \u001b[36mException\u001b[39;49;00m(\u001b[33m'\u001b[39;49;00m\u001b[33mRequested unsupported ContentType in content_type: \u001b[39;49;00m\u001b[33m'\u001b[39;49;00m + content_type)\r\n",
      "\r\n",
      "\u001b[34mdef\u001b[39;49;00m \u001b[32moutput_fn\u001b[39;49;00m(prediction_output, accept):\r\n",
      "    \u001b[34mprint\u001b[39;49;00m(\u001b[33m'\u001b[39;49;00m\u001b[33mSerializing the generated output.\u001b[39;49;00m\u001b[33m'\u001b[39;49;00m)\r\n",
      "    \u001b[34mreturn\u001b[39;49;00m \u001b[36mstr\u001b[39;49;00m(prediction_output)\r\n",
      "\r\n",
      "\u001b[34mdef\u001b[39;49;00m \u001b[32mpredict_fn\u001b[39;49;00m(input_data, model):\r\n",
      "    \u001b[34mprint\u001b[39;49;00m(\u001b[33m'\u001b[39;49;00m\u001b[33mInferring sentiment of input data.\u001b[39;49;00m\u001b[33m'\u001b[39;49;00m)\r\n",
      "\r\n",
      "    device = torch.device(\u001b[33m\"\u001b[39;49;00m\u001b[33mcuda\u001b[39;49;00m\u001b[33m\"\u001b[39;49;00m \u001b[34mif\u001b[39;49;00m torch.cuda.is_available() \u001b[34melse\u001b[39;49;00m \u001b[33m\"\u001b[39;49;00m\u001b[33mcpu\u001b[39;49;00m\u001b[33m\"\u001b[39;49;00m)\r\n",
      "    \r\n",
      "    \u001b[34mif\u001b[39;49;00m model.word_dict \u001b[35mis\u001b[39;49;00m \u001b[36mNone\u001b[39;49;00m:\r\n",
      "        \u001b[34mraise\u001b[39;49;00m \u001b[36mException\u001b[39;49;00m(\u001b[33m'\u001b[39;49;00m\u001b[33mModel has not been loaded properly, no word_dict.\u001b[39;49;00m\u001b[33m'\u001b[39;49;00m)\r\n",
      "    \r\n",
      "    \u001b[37m# TODO: Process input_data so that it is ready to be sent to our model.\u001b[39;49;00m\r\n",
      "    \u001b[37m#       You should produce two variables:\u001b[39;49;00m\r\n",
      "    \u001b[37m#         data_X   - A sequence of length 500 which represents the converted review\u001b[39;49;00m\r\n",
      "    \u001b[37m#         data_len - The length of the review\u001b[39;49;00m\r\n",
      "\r\n",
      "    \u001b[37m#data_X , data_len = convert_and_pad_data(model.word_dict,input_data)\u001b[39;49;00m\r\n",
      "    words = review_to_words(input_data)\r\n",
      "    data_X, data_len = convert_and_pad(model.word_dict, words)\r\n",
      "    \u001b[37m# Using data_X and data_len we construct an appropriate input tensor. Remember\u001b[39;49;00m\r\n",
      "    \u001b[37m# that our model expects input data of the form 'len, review[500]'.\u001b[39;49;00m\r\n",
      "    data_pack = np.hstack((data_len, data_X))\r\n",
      "    data_pack = data_pack.reshape(\u001b[34m1\u001b[39;49;00m, -\u001b[34m1\u001b[39;49;00m)\r\n",
      "    \r\n",
      "    data = torch.from_numpy(data_pack)\r\n",
      "    data = data.to(device)\r\n",
      "\r\n",
      "    \u001b[37m# Make sure to put the model into evaluation mode\u001b[39;49;00m\r\n",
      "    model.eval()\r\n",
      "\r\n",
      "    \u001b[37m# TODO: Compute the result of applying the model to the input data. The variable `result` should\u001b[39;49;00m\r\n",
      "    \u001b[37m#       be a numpy array which contains a single integer which is either 1 or 0\u001b[39;49;00m\r\n",
      "\r\n",
      "   \u001b[37m# result = np.torch.integer(model.eval(),)\u001b[39;49;00m\r\n",
      "    \u001b[34mwith\u001b[39;49;00m torch.no_grad():\r\n",
      "        output = model.forward(data)\r\n",
      "\r\n",
      "    result = np.round(output.numpy())\r\n",
      "\r\n",
      "\r\n",
      "    \u001b[34mreturn\u001b[39;49;00m result\r\n"
     ]
    }
   ],
   "source": [
    "!pygmentize serve/predict.py"
   ]
  },
  {
   "cell_type": "markdown",
   "metadata": {},
   "source": [
    "As mentioned earlier, the `model_fn` method is the same as the one provided in the training code and the `input_fn` and `output_fn` methods are very simple and your task will be to complete the `predict_fn` method. Make sure that you save the completed file as `predict.py` in the `serve` directory.\n",
    "\n",
    "**TODO**: Complete the `predict_fn()` method in the `serve/predict.py` file."
   ]
  },
  {
   "cell_type": "markdown",
   "metadata": {},
   "source": [
    "### Deploying the model\n",
    "\n",
    "Now that the custom inference code has been written, we will create and deploy our model. To begin with, we need to construct a new PyTorchModel object which points to the model artifacts created during training and also points to the inference code that we wish to use. Then we can call the deploy method to launch the deployment container.\n",
    "\n",
    "**NOTE**: The default behaviour for a deployed PyTorch model is to assume that any input passed to the predictor is a `numpy` array. In our case we want to send a string so we need to construct a simple wrapper around the `RealTimePredictor` class to accomodate simple strings. In a more complicated situation you may want to provide a serialization object, for example if you wanted to sent image data."
   ]
  },
  {
   "cell_type": "code",
   "execution_count": 111,
   "metadata": {},
   "outputs": [
    {
     "name": "stdout",
     "output_type": "stream",
     "text": [
      "--------------------------------------------------------------------------------------------------!"
     ]
    }
   ],
   "source": [
    "from sagemaker.predictor import RealTimePredictor\n",
    "from sagemaker.pytorch import PyTorchModel\n",
    "\n",
    "class StringPredictor(RealTimePredictor):\n",
    "    def __init__(self, endpoint_name, sagemaker_session):\n",
    "        super(StringPredictor, self).__init__(endpoint_name, sagemaker_session, content_type='text/plain')\n",
    "\n",
    "\n",
    "model = PyTorchModel(model_data=estimator.model_data,\n",
    "                     role = role,\n",
    "                     framework_version='0.4.0',\n",
    "                     entry_point='predict.py',\n",
    "                     source_dir='serve',\n",
    "                     predictor_cls=StringPredictor)\n",
    "predictor = model.deploy(initial_instance_count=1, instance_type='ml.m4.xlarge')"
   ]
  },
  {
   "cell_type": "markdown",
   "metadata": {},
   "source": [
    "### Testing the model\n",
    "\n",
    "Now that we have deployed our model with the custom inference code, we should test to see if everything is working. Here we test our model by loading the first `250` positive and negative reviews and send them to the endpoint, then collect the results. The reason for only sending some of the data is that the amount of time it takes for our model to process the input and then perform inference is quite long and so testing the entire data set would be prohibitive."
   ]
  },
  {
   "cell_type": "code",
   "execution_count": 112,
   "metadata": {},
   "outputs": [],
   "source": [
    "import glob\n",
    "\n",
    "def test_reviews(data_dir='../data/aclImdb', stop=250):\n",
    "    \n",
    "    results = []\n",
    "    ground = []\n",
    "    \n",
    "    # We make sure to test both positive and negative reviews    \n",
    "    for sentiment in ['pos', 'neg']:\n",
    "        \n",
    "        path = os.path.join(data_dir, 'test', sentiment, '*.txt')\n",
    "        files = glob.glob(path)\n",
    "        \n",
    "        files_read = 0\n",
    "        \n",
    "        print('Starting ', sentiment, ' files')\n",
    "        \n",
    "        # Iterate through the files and send them to the predictor\n",
    "        for f in files:\n",
    "            with open(f) as review:\n",
    "                # First, we store the ground truth (was the review positive or negative)\n",
    "                if sentiment == 'pos':\n",
    "                    ground.append(1.0)\n",
    "                else:\n",
    "                    ground.append(0.0)\n",
    "                # Read in the review and convert to 'utf-8' for transmission via HTTP\n",
    "                review_input = review.read().encode('utf-8')\n",
    "            \n",
    "                # Send the review to the predictor and store the results\n",
    "                results.append(float(predictor.predict(review_input)))\n",
    "                \n",
    "            # Sending reviews to our endpoint one at a time takes a while so we\n",
    "            # only send a small number of reviews\n",
    "            files_read += 1\n",
    "            if files_read == stop:\n",
    "                break\n",
    "            \n",
    "    return ground, results"
   ]
  },
  {
   "cell_type": "code",
   "execution_count": 113,
   "metadata": {},
   "outputs": [
    {
     "name": "stdout",
     "output_type": "stream",
     "text": [
      "Starting  pos  files\n",
      "Starting  neg  files\n"
     ]
    }
   ],
   "source": [
    "ground, results = test_reviews()"
   ]
  },
  {
   "cell_type": "code",
   "execution_count": 108,
   "metadata": {},
   "outputs": [
    {
     "data": {
      "text/plain": [
       "0.854"
      ]
     },
     "execution_count": 108,
     "metadata": {},
     "output_type": "execute_result"
    }
   ],
   "source": [
    "from sklearn.metrics import accuracy_score\n",
    "accuracy_score(ground, results)"
   ]
  },
  {
   "cell_type": "markdown",
   "metadata": {},
   "source": [
    "As an additional test, we can try sending the `test_review` that we looked at earlier."
   ]
  },
  {
   "cell_type": "code",
   "execution_count": 114,
   "metadata": {},
   "outputs": [
    {
     "data": {
      "text/plain": [
       "b'1.0'"
      ]
     },
     "execution_count": 114,
     "metadata": {},
     "output_type": "execute_result"
    }
   ],
   "source": [
    "predictor.predict(test_review)"
   ]
  },
  {
   "cell_type": "code",
   "execution_count": 117,
   "metadata": {},
   "outputs": [
    {
     "name": "stdout",
     "output_type": "stream",
     "text": [
      "[1.0, 1.0, 1.0, 1.0, 1.0, 1.0, 1.0, 1.0, 1.0, 1.0, 1.0, 1.0, 1.0, 1.0, 1.0, 1.0, 1.0, 1.0, 1.0, 1.0, 1.0, 1.0, 1.0, 1.0, 1.0, 1.0, 1.0, 1.0, 1.0, 1.0, 1.0, 1.0, 1.0, 1.0, 1.0, 1.0, 1.0, 1.0, 1.0, 1.0, 1.0, 1.0, 1.0, 1.0, 1.0, 1.0, 1.0, 1.0, 1.0, 1.0, 1.0, 1.0, 1.0, 1.0, 1.0, 1.0, 1.0, 1.0, 1.0, 1.0, 1.0, 1.0, 1.0, 1.0, 1.0, 1.0, 1.0, 1.0, 1.0, 1.0, 1.0, 1.0, 1.0, 1.0, 1.0, 1.0, 1.0, 1.0, 1.0, 1.0, 1.0, 1.0, 1.0, 1.0, 1.0, 1.0, 1.0, 1.0, 1.0, 1.0, 1.0, 1.0, 1.0, 1.0, 1.0, 1.0, 1.0, 1.0, 1.0, 1.0, 1.0, 1.0, 1.0, 1.0, 1.0, 1.0, 1.0, 1.0, 1.0, 1.0, 1.0, 1.0, 1.0, 1.0, 1.0, 1.0, 1.0, 1.0, 1.0, 1.0, 1.0, 1.0, 1.0, 1.0, 1.0, 1.0, 1.0, 1.0, 1.0, 1.0, 1.0, 1.0, 1.0, 1.0, 1.0, 1.0, 1.0, 1.0, 1.0, 1.0, 1.0, 1.0, 1.0, 1.0, 1.0, 1.0, 1.0, 1.0, 1.0, 1.0, 1.0, 1.0, 1.0, 1.0, 1.0, 1.0, 1.0, 1.0, 1.0, 1.0, 1.0, 1.0, 1.0, 1.0, 1.0, 1.0, 1.0, 1.0, 1.0, 1.0, 1.0, 1.0, 1.0, 1.0, 1.0, 1.0, 1.0, 1.0, 1.0, 1.0, 1.0, 1.0, 1.0, 1.0, 1.0, 1.0, 1.0, 1.0, 1.0, 1.0, 1.0, 1.0, 1.0, 1.0, 1.0, 1.0, 1.0, 1.0, 1.0, 1.0, 1.0, 1.0, 1.0, 1.0, 1.0, 1.0, 1.0, 1.0, 1.0, 1.0, 1.0, 1.0, 1.0, 1.0, 1.0, 1.0, 1.0, 1.0, 1.0, 1.0, 1.0, 1.0, 1.0, 1.0, 1.0, 1.0, 1.0, 1.0, 1.0, 1.0, 1.0, 1.0, 1.0, 1.0, 1.0, 1.0, 1.0, 1.0, 1.0, 1.0, 1.0, 1.0, 1.0, 1.0, 1.0, 1.0, 1.0, 1.0, 1.0, 1.0, 0.0, 0.0, 0.0, 0.0, 0.0, 0.0, 0.0, 0.0, 0.0, 0.0, 0.0, 0.0, 0.0, 0.0, 0.0, 0.0, 0.0, 0.0, 0.0, 0.0, 0.0, 0.0, 0.0, 0.0, 0.0, 0.0, 0.0, 0.0, 0.0, 0.0, 0.0, 0.0, 0.0, 0.0, 0.0, 0.0, 0.0, 0.0, 0.0, 0.0, 0.0, 0.0, 0.0, 0.0, 0.0, 0.0, 0.0, 0.0, 0.0, 0.0, 0.0, 0.0, 0.0, 0.0, 0.0, 0.0, 0.0, 0.0, 0.0, 0.0, 0.0, 0.0, 0.0, 0.0, 0.0, 0.0, 0.0, 0.0, 0.0, 0.0, 0.0, 0.0, 0.0, 0.0, 0.0, 0.0, 0.0, 0.0, 0.0, 0.0, 0.0, 0.0, 0.0, 0.0, 0.0, 0.0, 0.0, 0.0, 0.0, 0.0, 0.0, 0.0, 0.0, 0.0, 0.0, 0.0, 0.0, 0.0, 0.0, 0.0, 0.0, 0.0, 0.0, 0.0, 0.0, 0.0, 0.0, 0.0, 0.0, 0.0, 0.0, 0.0, 0.0, 0.0, 0.0, 0.0, 0.0, 0.0, 0.0, 0.0, 0.0, 0.0, 0.0, 0.0, 0.0, 0.0, 0.0, 0.0, 0.0, 0.0, 0.0, 0.0, 0.0, 0.0, 0.0, 0.0, 0.0, 0.0, 0.0, 0.0, 0.0, 0.0, 0.0, 0.0, 0.0, 0.0, 0.0, 0.0, 0.0, 0.0, 0.0, 0.0, 0.0, 0.0, 0.0, 0.0, 0.0, 0.0, 0.0, 0.0, 0.0, 0.0, 0.0, 0.0, 0.0, 0.0, 0.0, 0.0, 0.0, 0.0, 0.0, 0.0, 0.0, 0.0, 0.0, 0.0, 0.0, 0.0, 0.0, 0.0, 0.0, 0.0, 0.0, 0.0, 0.0, 0.0, 0.0, 0.0, 0.0, 0.0, 0.0, 0.0, 0.0, 0.0, 0.0, 0.0, 0.0, 0.0, 0.0, 0.0, 0.0, 0.0, 0.0, 0.0, 0.0, 0.0, 0.0, 0.0, 0.0, 0.0, 0.0, 0.0, 0.0, 0.0, 0.0, 0.0, 0.0, 0.0, 0.0, 0.0, 0.0, 0.0, 0.0, 0.0, 0.0, 0.0, 0.0, 0.0, 0.0, 0.0, 0.0, 0.0, 0.0, 0.0, 0.0, 0.0, 0.0, 0.0, 0.0, 0.0, 0.0, 0.0, 0.0, 0.0, 0.0, 0.0, 0.0, 0.0, 0.0, 0.0] [1.0, 1.0, 1.0, 1.0, 0.0, 1.0, 1.0, 1.0, 1.0, 1.0, 0.0, 1.0, 1.0, 1.0, 1.0, 0.0, 1.0, 1.0, 0.0, 1.0, 1.0, 1.0, 0.0, 1.0, 1.0, 1.0, 1.0, 1.0, 1.0, 1.0, 1.0, 1.0, 1.0, 1.0, 0.0, 1.0, 1.0, 1.0, 1.0, 1.0, 1.0, 0.0, 1.0, 0.0, 1.0, 1.0, 1.0, 1.0, 0.0, 0.0, 1.0, 0.0, 0.0, 0.0, 1.0, 1.0, 1.0, 1.0, 1.0, 1.0, 1.0, 1.0, 1.0, 1.0, 1.0, 1.0, 1.0, 1.0, 1.0, 1.0, 1.0, 0.0, 1.0, 1.0, 1.0, 1.0, 1.0, 0.0, 1.0, 1.0, 0.0, 1.0, 1.0, 1.0, 1.0, 0.0, 1.0, 0.0, 1.0, 1.0, 1.0, 1.0, 1.0, 0.0, 1.0, 1.0, 1.0, 1.0, 1.0, 1.0, 1.0, 1.0, 1.0, 1.0, 1.0, 1.0, 1.0, 1.0, 1.0, 1.0, 1.0, 1.0, 0.0, 1.0, 0.0, 1.0, 1.0, 1.0, 1.0, 0.0, 0.0, 1.0, 0.0, 1.0, 0.0, 1.0, 0.0, 1.0, 0.0, 1.0, 1.0, 1.0, 0.0, 1.0, 1.0, 1.0, 1.0, 1.0, 1.0, 0.0, 1.0, 1.0, 1.0, 1.0, 1.0, 1.0, 1.0, 0.0, 1.0, 1.0, 1.0, 1.0, 1.0, 1.0, 0.0, 0.0, 1.0, 1.0, 0.0, 0.0, 1.0, 1.0, 1.0, 0.0, 1.0, 1.0, 1.0, 1.0, 1.0, 0.0, 1.0, 1.0, 0.0, 1.0, 1.0, 1.0, 0.0, 1.0, 1.0, 0.0, 1.0, 1.0, 1.0, 1.0, 1.0, 1.0, 1.0, 1.0, 1.0, 1.0, 1.0, 1.0, 1.0, 1.0, 0.0, 1.0, 1.0, 1.0, 1.0, 0.0, 1.0, 1.0, 0.0, 1.0, 1.0, 1.0, 1.0, 1.0, 1.0, 1.0, 1.0, 1.0, 1.0, 1.0, 1.0, 1.0, 1.0, 1.0, 0.0, 1.0, 0.0, 1.0, 1.0, 1.0, 1.0, 1.0, 1.0, 1.0, 1.0, 0.0, 0.0, 1.0, 0.0, 1.0, 1.0, 1.0, 1.0, 1.0, 1.0, 0.0, 1.0, 0.0, 1.0, 1.0, 1.0, 1.0, 0.0, 1.0, 1.0, 1.0, 0.0, 0.0, 0.0, 0.0, 0.0, 0.0, 0.0, 0.0, 0.0, 0.0, 0.0, 0.0, 0.0, 0.0, 0.0, 0.0, 0.0, 0.0, 0.0, 0.0, 0.0, 0.0, 1.0, 0.0, 0.0, 0.0, 0.0, 0.0, 0.0, 0.0, 0.0, 0.0, 0.0, 0.0, 0.0, 0.0, 0.0, 1.0, 0.0, 0.0, 0.0, 0.0, 0.0, 0.0, 1.0, 0.0, 0.0, 0.0, 0.0, 0.0, 1.0, 0.0, 1.0, 0.0, 0.0, 0.0, 0.0, 0.0, 0.0, 0.0, 0.0, 1.0, 0.0, 0.0, 0.0, 0.0, 0.0, 0.0, 0.0, 0.0, 0.0, 0.0, 0.0, 0.0, 0.0, 0.0, 0.0, 0.0, 0.0, 0.0, 0.0, 0.0, 0.0, 0.0, 0.0, 0.0, 0.0, 0.0, 0.0, 0.0, 0.0, 0.0, 1.0, 0.0, 0.0, 0.0, 0.0, 0.0, 0.0, 0.0, 0.0, 1.0, 0.0, 0.0, 0.0, 0.0, 0.0, 0.0, 1.0, 0.0, 0.0, 0.0, 0.0, 0.0, 0.0, 0.0, 0.0, 0.0, 0.0, 0.0, 0.0, 0.0, 0.0, 0.0, 0.0, 0.0, 0.0, 1.0, 0.0, 1.0, 0.0, 0.0, 0.0, 0.0, 0.0, 0.0, 0.0, 0.0, 0.0, 0.0, 0.0, 1.0, 0.0, 0.0, 0.0, 1.0, 0.0, 0.0, 0.0, 0.0, 0.0, 0.0, 0.0, 0.0, 0.0, 0.0, 1.0, 0.0, 1.0, 1.0, 0.0, 0.0, 0.0, 0.0, 0.0, 0.0, 0.0, 0.0, 0.0, 0.0, 0.0, 0.0, 1.0, 0.0, 0.0, 0.0, 0.0, 1.0, 0.0, 0.0, 0.0, 0.0, 0.0, 0.0, 0.0, 0.0, 0.0, 0.0, 0.0, 0.0, 0.0, 0.0, 0.0, 0.0, 0.0, 0.0, 0.0, 0.0, 0.0, 0.0, 0.0, 0.0, 0.0, 0.0, 0.0, 0.0, 0.0, 0.0, 0.0, 0.0, 0.0, 0.0, 0.0, 1.0, 0.0, 0.0, 0.0, 1.0, 0.0, 1.0, 0.0, 0.0, 0.0, 0.0, 0.0, 0.0, 0.0, 0.0, 1.0, 0.0, 0.0, 0.0, 0.0, 0.0, 0.0, 0.0, 0.0, 0.0, 0.0, 0.0, 0.0, 0.0, 0.0, 0.0, 0.0, 0.0, 0.0, 1.0, 0.0, 0.0]\n"
     ]
    }
   ],
   "source": [
    "print(ground,results)"
   ]
  },
  {
   "cell_type": "markdown",
   "metadata": {},
   "source": [
    "Now that we know our endpoint is working as expected, we can set up the web page that will interact with it. If you don't have time to finish the project now, make sure to skip down to the end of this notebook and shut down your endpoint. You can deploy it again when you come back."
   ]
  },
  {
   "cell_type": "markdown",
   "metadata": {},
   "source": [
    "## Step 7 (again): Use the model for the web app\n",
    "\n",
    "> **TODO:** This entire section and the next contain tasks for you to complete, mostly using the AWS console.\n",
    "\n",
    "So far we have been accessing our model endpoint by constructing a predictor object which uses the endpoint and then just using the predictor object to perform inference. What if we wanted to create a web app which accessed our model? The way things are set up currently makes that not possible since in order to access a SageMaker endpoint the app would first have to authenticate with AWS using an IAM role which included access to SageMaker endpoints. However, there is an easier way! We just need to use some additional AWS services.\n",
    "\n",
    "<img src=\"Web App Diagram.svg\">\n",
    "\n",
    "The diagram above gives an overview of how the various services will work together. On the far right is the model which we trained above and which is deployed using SageMaker. On the far left is our web app that collects a user's movie review, sends it off and expects a positive or negative sentiment in return.\n",
    "\n",
    "In the middle is where some of the magic happens. We will construct a Lambda function, which you can think of as a straightforward Python function that can be executed whenever a specified event occurs. We will give this function permission to send and recieve data from a SageMaker endpoint.\n",
    "\n",
    "Lastly, the method we will use to execute the Lambda function is a new endpoint that we will create using API Gateway. This endpoint will be a url that listens for data to be sent to it. Once it gets some data it will pass that data on to the Lambda function and then return whatever the Lambda function returns. Essentially it will act as an interface that lets our web app communicate with the Lambda function.\n",
    "\n",
    "### Setting up a Lambda function\n",
    "\n",
    "The first thing we are going to do is set up a Lambda function. This Lambda function will be executed whenever our public API has data sent to it. When it is executed it will receive the data, perform any sort of processing that is required, send the data (the review) to the SageMaker endpoint we've created and then return the result.\n",
    "\n",
    "#### Part A: Create an IAM Role for the Lambda function\n",
    "\n",
    "Since we want the Lambda function to call a SageMaker endpoint, we need to make sure that it has permission to do so. To do this, we will construct a role that we can later give the Lambda function.\n",
    "\n",
    "Using the AWS Console, navigate to the **IAM** page and click on **Roles**. Then, click on **Create role**. Make sure that the **AWS service** is the type of trusted entity selected and choose **Lambda** as the service that will use this role, then click **Next: Permissions**.\n",
    "\n",
    "In the search box type `sagemaker` and select the check box next to the **AmazonSageMakerFullAccess** policy. Then, click on **Next: Review**.\n",
    "\n",
    "Lastly, give this role a name. Make sure you use a name that you will remember later on, for example `LambdaSageMakerRole`. Then, click on **Create role**.\n",
    "\n",
    "#### Part B: Create a Lambda function\n",
    "\n",
    "Now it is time to actually create the Lambda function.\n",
    "\n",
    "Using the AWS Console, navigate to the AWS Lambda page and click on **Create a function**. When you get to the next page, make sure that **Author from scratch** is selected. Now, name your Lambda function, using a name that you will remember later on, for example `sentiment_analysis_func`. Make sure that the **Python 3.6** runtime is selected and then choose the role that you created in the previous part. Then, click on **Create Function**.\n",
    "\n",
    "On the next page you will see some information about the Lambda function you've just created. If you scroll down you should see an editor in which you can write the code that will be executed when your Lambda function is triggered. In our example, we will use the code below. \n",
    "\n",
    "```python\n",
    "# We need to use the low-level library to interact with SageMaker since the SageMaker API\n",
    "# is not available natively through Lambda.\n",
    "import boto3\n",
    "\n",
    "def lambda_handler(event, context):\n",
    "\n",
    "    # The SageMaker runtime is what allows us to invoke the endpoint that we've created.\n",
    "    runtime = boto3.Session().client('sagemaker-runtime')\n",
    "\n",
    "    # Now we use the SageMaker runtime to invoke our endpoint, sending the review we were given\n",
    "    response = runtime.invoke_endpoint(EndpointName = '**ENDPOINT NAME HERE**',    # The name of the endpoint we created\n",
    "                                       ContentType = 'text/plain',                 # The data format that is expected\n",
    "                                       Body = event['body'])                       # The actual review\n",
    "\n",
    "    # The response is an HTTP response whose body contains the result of our inference\n",
    "    result = response['Body'].read().decode('utf-8')\n",
    "\n",
    "    return {\n",
    "        'statusCode' : 200,\n",
    "        'headers' : { 'Content-Type' : 'text/plain', 'Access-Control-Allow-Origin' : '*' },\n",
    "        'body' : result\n",
    "    }\n",
    "```\n",
    "\n",
    "Once you have copy and pasted the code above into the Lambda code editor, replace the `**ENDPOINT NAME HERE**` portion with the name of the endpoint that we deployed earlier. You can determine the name of the endpoint using the code cell below."
   ]
  },
  {
   "cell_type": "code",
   "execution_count": 121,
   "metadata": {},
   "outputs": [
    {
     "data": {
      "text/plain": [
       "'sagemaker-pytorch-2020-01-18-05-50-36-841'"
      ]
     },
     "execution_count": 121,
     "metadata": {},
     "output_type": "execute_result"
    }
   ],
   "source": [
    "predictor.endpoint"
   ]
  },
  {
   "cell_type": "markdown",
   "metadata": {},
   "source": [
    "Once you have added the endpoint name to the Lambda function, click on **Save**. Your Lambda function is now up and running. Next we need to create a way for our web app to execute the Lambda function.\n",
    "\n",
    "### Setting up API Gateway\n",
    "\n",
    "Now that our Lambda function is set up, it is time to create a new API using API Gateway that will trigger the Lambda function we have just created.\n",
    "\n",
    "Using AWS Console, navigate to **Amazon API Gateway** and then click on **Get started**.\n",
    "\n",
    "On the next page, make sure that **New API** is selected and give the new api a name, for example, `sentiment_analysis_api`. Then, click on **Create API**.\n",
    "\n",
    "Now we have created an API, however it doesn't currently do anything. What we want it to do is to trigger the Lambda function that we created earlier.\n",
    "\n",
    "Select the **Actions** dropdown menu and click **Create Method**. A new blank method will be created, select its dropdown menu and select **POST**, then click on the check mark beside it.\n",
    "\n",
    "For the integration point, make sure that **Lambda Function** is selected and click on the **Use Lambda Proxy integration**. This option makes sure that the data that is sent to the API is then sent directly to the Lambda function with no processing. It also means that the return value must be a proper response object as it will also not be processed by API Gateway.\n",
    "\n",
    "Type the name of the Lambda function you created earlier into the **Lambda Function** text entry box and then click on **Save**. Click on **OK** in the pop-up box that then appears, giving permission to API Gateway to invoke the Lambda function you created.\n",
    "\n",
    "The last step in creating the API Gateway is to select the **Actions** dropdown and click on **Deploy API**. You will need to create a new Deployment stage and name it anything you like, for example `prod`.\n",
    "\n",
    "You have now successfully set up a public API to access your SageMaker model. Make sure to copy or write down the URL provided to invoke your newly created public API as this will be needed in the next step. This URL can be found at the top of the page, highlighted in blue next to the text **Invoke URL**."
   ]
  },
  {
   "cell_type": "markdown",
   "metadata": {},
   "source": [
    "## Step 4: Deploying our web app\n",
    "\n",
    "Now that we have a publicly available API, we can start using it in a web app. For our purposes, we have provided a simple static html file which can make use of the public api you created earlier.\n",
    "\n",
    "In the `website` folder there should be a file called `index.html`. Download the file to your computer and open that file up in a text editor of your choice. There should be a line which contains **\\*\\*REPLACE WITH PUBLIC API URL\\*\\***. Replace this string with the url that you wrote down in the last step and then save the file.\n",
    "\n",
    "Now, if you open `index.html` on your local computer, your browser will behave as a local web server and you can use the provided site to interact with your SageMaker model.\n",
    "\n",
    "If you'd like to go further, you can host this html file anywhere you'd like, for example using github or hosting a static site on Amazon's S3. Once you have done this you can share the link with anyone you'd like and have them play with it too!\n",
    "\n",
    "> **Important Note** In order for the web app to communicate with the SageMaker endpoint, the endpoint has to actually be deployed and running. This means that you are paying for it. Make sure that the endpoint is running when you want to use the web app but that you shut it down when you don't need it, otherwise you will end up with a surprisingly large AWS bill.\n",
    "\n",
    "**TODO:** Make sure that you include the edited `index.html` file in your project submission."
   ]
  },
  {
   "cell_type": "markdown",
   "metadata": {},
   "source": [
    "Now that your web app is working, trying playing around with it and see how well it works.\n",
    "\n",
    "**Question**: Give an example of a review that you entered into your web app. What was the predicted sentiment of your example review?"
   ]
  },
  {
   "cell_type": "markdown",
   "metadata": {},
   "source": [
    "**Answer:**The movie was exciting, fun and storyline thrilling. The actors were well casted and able to bring out the moment splendidly especially durng the suspense. Your review was POSITIVE!"
   ]
  },
  {
   "cell_type": "markdown",
   "metadata": {},
   "source": [
    "### Delete the endpoint\n",
    "\n",
    "Remember to always shut down your endpoint if you are no longer using it. You are charged for the length of time that the endpoint is running so if you forget and leave it on you could end up with an unexpectedly large bill."
   ]
  },
  {
   "cell_type": "code",
   "execution_count": 122,
   "metadata": {},
   "outputs": [],
   "source": [
    "predictor.delete_endpoint()"
   ]
  },
  {
   "cell_type": "markdown",
   "metadata": {},
   "source": []
  }
 ],
 "metadata": {
  "kernelspec": {
   "display_name": "conda_pytorch_p36",
   "language": "python",
   "name": "conda_pytorch_p36"
  },
  "language_info": {
   "codemirror_mode": {
    "name": "ipython",
    "version": 3
   },
   "file_extension": ".py",
   "mimetype": "text/x-python",
   "name": "python",
   "nbconvert_exporter": "python",
   "pygments_lexer": "ipython3",
   "version": "3.6.5"
  }
 },
 "nbformat": 4,
 "nbformat_minor": 2
}
